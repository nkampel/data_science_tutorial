{
  "metadata": {
    "kernelspec": {
      "language": "python",
      "display_name": "Python 3",
      "name": "python3"
    },
    "language_info": {
      "pygments_lexer": "ipython3",
      "nbconvert_exporter": "python",
      "version": "3.6.4",
      "file_extension": ".py",
      "codemirror_mode": {
        "name": "ipython",
        "version": 3
      },
      "name": "python",
      "mimetype": "text/x-python"
    },
    "colab": {
      "provenance": [],
      "include_colab_link": true
    },
    "accelerator": "GPU",
    "gpuClass": "standard",
    "widgets": {
      "application/vnd.jupyter.widget-state+json": {
        "3b1e6a0dc5f64cf1bda8c39f1c68b6ad": {
          "model_module": "@jupyter-widgets/controls",
          "model_name": "VBoxModel",
          "model_module_version": "1.5.0",
          "state": {
            "_dom_classes": [],
            "_model_module": "@jupyter-widgets/controls",
            "_model_module_version": "1.5.0",
            "_model_name": "VBoxModel",
            "_view_count": null,
            "_view_module": "@jupyter-widgets/controls",
            "_view_module_version": "1.5.0",
            "_view_name": "VBoxView",
            "box_style": "",
            "children": [
              "IPY_MODEL_5169da1f9e754764b984c8064d9d3936",
              "IPY_MODEL_b4b496c74f814cfb9d794c09de55c08f"
            ],
            "layout": "IPY_MODEL_27fb93df7ac4445f82a55562c3842fc2"
          }
        },
        "5169da1f9e754764b984c8064d9d3936": {
          "model_module": "@jupyter-widgets/controls",
          "model_name": "LabelModel",
          "model_module_version": "1.5.0",
          "state": {
            "_dom_classes": [],
            "_model_module": "@jupyter-widgets/controls",
            "_model_module_version": "1.5.0",
            "_model_name": "LabelModel",
            "_view_count": null,
            "_view_module": "@jupyter-widgets/controls",
            "_view_module_version": "1.5.0",
            "_view_name": "LabelView",
            "description": "",
            "description_tooltip": null,
            "layout": "IPY_MODEL_8a1748a45fe84f80bb4c84dacea5cf3a",
            "placeholder": "​",
            "style": "IPY_MODEL_a96433299be648139f2ce026216159d4",
            "value": "0.019 MB of 0.019 MB uploaded (0.000 MB deduped)\r"
          }
        },
        "b4b496c74f814cfb9d794c09de55c08f": {
          "model_module": "@jupyter-widgets/controls",
          "model_name": "FloatProgressModel",
          "model_module_version": "1.5.0",
          "state": {
            "_dom_classes": [],
            "_model_module": "@jupyter-widgets/controls",
            "_model_module_version": "1.5.0",
            "_model_name": "FloatProgressModel",
            "_view_count": null,
            "_view_module": "@jupyter-widgets/controls",
            "_view_module_version": "1.5.0",
            "_view_name": "ProgressView",
            "bar_style": "",
            "description": "",
            "description_tooltip": null,
            "layout": "IPY_MODEL_60a5b4f748584537b3268b870fef2383",
            "max": 1,
            "min": 0,
            "orientation": "horizontal",
            "style": "IPY_MODEL_44f78cdfa200453b87971df5661cf6b6",
            "value": 1
          }
        },
        "27fb93df7ac4445f82a55562c3842fc2": {
          "model_module": "@jupyter-widgets/base",
          "model_name": "LayoutModel",
          "model_module_version": "1.2.0",
          "state": {
            "_model_module": "@jupyter-widgets/base",
            "_model_module_version": "1.2.0",
            "_model_name": "LayoutModel",
            "_view_count": null,
            "_view_module": "@jupyter-widgets/base",
            "_view_module_version": "1.2.0",
            "_view_name": "LayoutView",
            "align_content": null,
            "align_items": null,
            "align_self": null,
            "border": null,
            "bottom": null,
            "display": null,
            "flex": null,
            "flex_flow": null,
            "grid_area": null,
            "grid_auto_columns": null,
            "grid_auto_flow": null,
            "grid_auto_rows": null,
            "grid_column": null,
            "grid_gap": null,
            "grid_row": null,
            "grid_template_areas": null,
            "grid_template_columns": null,
            "grid_template_rows": null,
            "height": null,
            "justify_content": null,
            "justify_items": null,
            "left": null,
            "margin": null,
            "max_height": null,
            "max_width": null,
            "min_height": null,
            "min_width": null,
            "object_fit": null,
            "object_position": null,
            "order": null,
            "overflow": null,
            "overflow_x": null,
            "overflow_y": null,
            "padding": null,
            "right": null,
            "top": null,
            "visibility": null,
            "width": null
          }
        },
        "8a1748a45fe84f80bb4c84dacea5cf3a": {
          "model_module": "@jupyter-widgets/base",
          "model_name": "LayoutModel",
          "model_module_version": "1.2.0",
          "state": {
            "_model_module": "@jupyter-widgets/base",
            "_model_module_version": "1.2.0",
            "_model_name": "LayoutModel",
            "_view_count": null,
            "_view_module": "@jupyter-widgets/base",
            "_view_module_version": "1.2.0",
            "_view_name": "LayoutView",
            "align_content": null,
            "align_items": null,
            "align_self": null,
            "border": null,
            "bottom": null,
            "display": null,
            "flex": null,
            "flex_flow": null,
            "grid_area": null,
            "grid_auto_columns": null,
            "grid_auto_flow": null,
            "grid_auto_rows": null,
            "grid_column": null,
            "grid_gap": null,
            "grid_row": null,
            "grid_template_areas": null,
            "grid_template_columns": null,
            "grid_template_rows": null,
            "height": null,
            "justify_content": null,
            "justify_items": null,
            "left": null,
            "margin": null,
            "max_height": null,
            "max_width": null,
            "min_height": null,
            "min_width": null,
            "object_fit": null,
            "object_position": null,
            "order": null,
            "overflow": null,
            "overflow_x": null,
            "overflow_y": null,
            "padding": null,
            "right": null,
            "top": null,
            "visibility": null,
            "width": null
          }
        },
        "a96433299be648139f2ce026216159d4": {
          "model_module": "@jupyter-widgets/controls",
          "model_name": "DescriptionStyleModel",
          "model_module_version": "1.5.0",
          "state": {
            "_model_module": "@jupyter-widgets/controls",
            "_model_module_version": "1.5.0",
            "_model_name": "DescriptionStyleModel",
            "_view_count": null,
            "_view_module": "@jupyter-widgets/base",
            "_view_module_version": "1.2.0",
            "_view_name": "StyleView",
            "description_width": ""
          }
        },
        "60a5b4f748584537b3268b870fef2383": {
          "model_module": "@jupyter-widgets/base",
          "model_name": "LayoutModel",
          "model_module_version": "1.2.0",
          "state": {
            "_model_module": "@jupyter-widgets/base",
            "_model_module_version": "1.2.0",
            "_model_name": "LayoutModel",
            "_view_count": null,
            "_view_module": "@jupyter-widgets/base",
            "_view_module_version": "1.2.0",
            "_view_name": "LayoutView",
            "align_content": null,
            "align_items": null,
            "align_self": null,
            "border": null,
            "bottom": null,
            "display": null,
            "flex": null,
            "flex_flow": null,
            "grid_area": null,
            "grid_auto_columns": null,
            "grid_auto_flow": null,
            "grid_auto_rows": null,
            "grid_column": null,
            "grid_gap": null,
            "grid_row": null,
            "grid_template_areas": null,
            "grid_template_columns": null,
            "grid_template_rows": null,
            "height": null,
            "justify_content": null,
            "justify_items": null,
            "left": null,
            "margin": null,
            "max_height": null,
            "max_width": null,
            "min_height": null,
            "min_width": null,
            "object_fit": null,
            "object_position": null,
            "order": null,
            "overflow": null,
            "overflow_x": null,
            "overflow_y": null,
            "padding": null,
            "right": null,
            "top": null,
            "visibility": null,
            "width": null
          }
        },
        "44f78cdfa200453b87971df5661cf6b6": {
          "model_module": "@jupyter-widgets/controls",
          "model_name": "ProgressStyleModel",
          "model_module_version": "1.5.0",
          "state": {
            "_model_module": "@jupyter-widgets/controls",
            "_model_module_version": "1.5.0",
            "_model_name": "ProgressStyleModel",
            "_view_count": null,
            "_view_module": "@jupyter-widgets/base",
            "_view_module_version": "1.2.0",
            "_view_name": "StyleView",
            "bar_color": null,
            "description_width": ""
          }
        },
        "107d587038e740a0b124382d2a4df108": {
          "model_module": "@jupyter-widgets/controls",
          "model_name": "VBoxModel",
          "model_module_version": "1.5.0",
          "state": {
            "_dom_classes": [],
            "_model_module": "@jupyter-widgets/controls",
            "_model_module_version": "1.5.0",
            "_model_name": "VBoxModel",
            "_view_count": null,
            "_view_module": "@jupyter-widgets/controls",
            "_view_module_version": "1.5.0",
            "_view_name": "VBoxView",
            "box_style": "",
            "children": [
              "IPY_MODEL_74e4017a19554bcf8c05433c3a7c6777",
              "IPY_MODEL_478511e3799c4617b0d0c288c1ac9227"
            ],
            "layout": "IPY_MODEL_09cdca6bfbf1435e81233ff56036e820"
          }
        },
        "74e4017a19554bcf8c05433c3a7c6777": {
          "model_module": "@jupyter-widgets/controls",
          "model_name": "LabelModel",
          "model_module_version": "1.5.0",
          "state": {
            "_dom_classes": [],
            "_model_module": "@jupyter-widgets/controls",
            "_model_module_version": "1.5.0",
            "_model_name": "LabelModel",
            "_view_count": null,
            "_view_module": "@jupyter-widgets/controls",
            "_view_module_version": "1.5.0",
            "_view_name": "LabelView",
            "description": "",
            "description_tooltip": null,
            "layout": "IPY_MODEL_8acc511660e74d3bbf84ecbd2500dbc9",
            "placeholder": "​",
            "style": "IPY_MODEL_33a1903c704543f3881cc1bc1746c9cb",
            "value": "0.001 MB of 0.006 MB uploaded (0.000 MB deduped)\r"
          }
        },
        "478511e3799c4617b0d0c288c1ac9227": {
          "model_module": "@jupyter-widgets/controls",
          "model_name": "FloatProgressModel",
          "model_module_version": "1.5.0",
          "state": {
            "_dom_classes": [],
            "_model_module": "@jupyter-widgets/controls",
            "_model_module_version": "1.5.0",
            "_model_name": "FloatProgressModel",
            "_view_count": null,
            "_view_module": "@jupyter-widgets/controls",
            "_view_module_version": "1.5.0",
            "_view_name": "ProgressView",
            "bar_style": "",
            "description": "",
            "description_tooltip": null,
            "layout": "IPY_MODEL_add0789c198347febccf57611ecef3ef",
            "max": 1,
            "min": 0,
            "orientation": "horizontal",
            "style": "IPY_MODEL_f446f29580334d948c081ce4a49f66ff",
            "value": 0.19604612850082373
          }
        },
        "09cdca6bfbf1435e81233ff56036e820": {
          "model_module": "@jupyter-widgets/base",
          "model_name": "LayoutModel",
          "model_module_version": "1.2.0",
          "state": {
            "_model_module": "@jupyter-widgets/base",
            "_model_module_version": "1.2.0",
            "_model_name": "LayoutModel",
            "_view_count": null,
            "_view_module": "@jupyter-widgets/base",
            "_view_module_version": "1.2.0",
            "_view_name": "LayoutView",
            "align_content": null,
            "align_items": null,
            "align_self": null,
            "border": null,
            "bottom": null,
            "display": null,
            "flex": null,
            "flex_flow": null,
            "grid_area": null,
            "grid_auto_columns": null,
            "grid_auto_flow": null,
            "grid_auto_rows": null,
            "grid_column": null,
            "grid_gap": null,
            "grid_row": null,
            "grid_template_areas": null,
            "grid_template_columns": null,
            "grid_template_rows": null,
            "height": null,
            "justify_content": null,
            "justify_items": null,
            "left": null,
            "margin": null,
            "max_height": null,
            "max_width": null,
            "min_height": null,
            "min_width": null,
            "object_fit": null,
            "object_position": null,
            "order": null,
            "overflow": null,
            "overflow_x": null,
            "overflow_y": null,
            "padding": null,
            "right": null,
            "top": null,
            "visibility": null,
            "width": null
          }
        },
        "8acc511660e74d3bbf84ecbd2500dbc9": {
          "model_module": "@jupyter-widgets/base",
          "model_name": "LayoutModel",
          "model_module_version": "1.2.0",
          "state": {
            "_model_module": "@jupyter-widgets/base",
            "_model_module_version": "1.2.0",
            "_model_name": "LayoutModel",
            "_view_count": null,
            "_view_module": "@jupyter-widgets/base",
            "_view_module_version": "1.2.0",
            "_view_name": "LayoutView",
            "align_content": null,
            "align_items": null,
            "align_self": null,
            "border": null,
            "bottom": null,
            "display": null,
            "flex": null,
            "flex_flow": null,
            "grid_area": null,
            "grid_auto_columns": null,
            "grid_auto_flow": null,
            "grid_auto_rows": null,
            "grid_column": null,
            "grid_gap": null,
            "grid_row": null,
            "grid_template_areas": null,
            "grid_template_columns": null,
            "grid_template_rows": null,
            "height": null,
            "justify_content": null,
            "justify_items": null,
            "left": null,
            "margin": null,
            "max_height": null,
            "max_width": null,
            "min_height": null,
            "min_width": null,
            "object_fit": null,
            "object_position": null,
            "order": null,
            "overflow": null,
            "overflow_x": null,
            "overflow_y": null,
            "padding": null,
            "right": null,
            "top": null,
            "visibility": null,
            "width": null
          }
        },
        "33a1903c704543f3881cc1bc1746c9cb": {
          "model_module": "@jupyter-widgets/controls",
          "model_name": "DescriptionStyleModel",
          "model_module_version": "1.5.0",
          "state": {
            "_model_module": "@jupyter-widgets/controls",
            "_model_module_version": "1.5.0",
            "_model_name": "DescriptionStyleModel",
            "_view_count": null,
            "_view_module": "@jupyter-widgets/base",
            "_view_module_version": "1.2.0",
            "_view_name": "StyleView",
            "description_width": ""
          }
        },
        "add0789c198347febccf57611ecef3ef": {
          "model_module": "@jupyter-widgets/base",
          "model_name": "LayoutModel",
          "model_module_version": "1.2.0",
          "state": {
            "_model_module": "@jupyter-widgets/base",
            "_model_module_version": "1.2.0",
            "_model_name": "LayoutModel",
            "_view_count": null,
            "_view_module": "@jupyter-widgets/base",
            "_view_module_version": "1.2.0",
            "_view_name": "LayoutView",
            "align_content": null,
            "align_items": null,
            "align_self": null,
            "border": null,
            "bottom": null,
            "display": null,
            "flex": null,
            "flex_flow": null,
            "grid_area": null,
            "grid_auto_columns": null,
            "grid_auto_flow": null,
            "grid_auto_rows": null,
            "grid_column": null,
            "grid_gap": null,
            "grid_row": null,
            "grid_template_areas": null,
            "grid_template_columns": null,
            "grid_template_rows": null,
            "height": null,
            "justify_content": null,
            "justify_items": null,
            "left": null,
            "margin": null,
            "max_height": null,
            "max_width": null,
            "min_height": null,
            "min_width": null,
            "object_fit": null,
            "object_position": null,
            "order": null,
            "overflow": null,
            "overflow_x": null,
            "overflow_y": null,
            "padding": null,
            "right": null,
            "top": null,
            "visibility": null,
            "width": null
          }
        },
        "f446f29580334d948c081ce4a49f66ff": {
          "model_module": "@jupyter-widgets/controls",
          "model_name": "ProgressStyleModel",
          "model_module_version": "1.5.0",
          "state": {
            "_model_module": "@jupyter-widgets/controls",
            "_model_module_version": "1.5.0",
            "_model_name": "ProgressStyleModel",
            "_view_count": null,
            "_view_module": "@jupyter-widgets/base",
            "_view_module_version": "1.2.0",
            "_view_name": "StyleView",
            "bar_color": null,
            "description_width": ""
          }
        },
        "c57be8a1281c4a7983aa2dd42c68abbb": {
          "model_module": "@jupyter-widgets/controls",
          "model_name": "VBoxModel",
          "model_module_version": "1.5.0",
          "state": {
            "_dom_classes": [],
            "_model_module": "@jupyter-widgets/controls",
            "_model_module_version": "1.5.0",
            "_model_name": "VBoxModel",
            "_view_count": null,
            "_view_module": "@jupyter-widgets/controls",
            "_view_module_version": "1.5.0",
            "_view_name": "VBoxView",
            "box_style": "",
            "children": [
              "IPY_MODEL_a819ee098eb94b9badafb3841dce4010",
              "IPY_MODEL_2ab8e6c1e39049a0a5ca58be4f27bc07"
            ],
            "layout": "IPY_MODEL_52fb65eaff5e4a8a8583fad698f86ed1"
          }
        },
        "a819ee098eb94b9badafb3841dce4010": {
          "model_module": "@jupyter-widgets/controls",
          "model_name": "LabelModel",
          "model_module_version": "1.5.0",
          "state": {
            "_dom_classes": [],
            "_model_module": "@jupyter-widgets/controls",
            "_model_module_version": "1.5.0",
            "_model_name": "LabelModel",
            "_view_count": null,
            "_view_module": "@jupyter-widgets/controls",
            "_view_module_version": "1.5.0",
            "_view_name": "LabelView",
            "description": "",
            "description_tooltip": null,
            "layout": "IPY_MODEL_f1f85d81cd324eae9363eb536c0b6118",
            "placeholder": "​",
            "style": "IPY_MODEL_42448b26a34e4dc8b98a06f4af0c1a91",
            "value": "0.001 MB of 0.015 MB uploaded (0.000 MB deduped)\r"
          }
        },
        "2ab8e6c1e39049a0a5ca58be4f27bc07": {
          "model_module": "@jupyter-widgets/controls",
          "model_name": "FloatProgressModel",
          "model_module_version": "1.5.0",
          "state": {
            "_dom_classes": [],
            "_model_module": "@jupyter-widgets/controls",
            "_model_module_version": "1.5.0",
            "_model_name": "FloatProgressModel",
            "_view_count": null,
            "_view_module": "@jupyter-widgets/controls",
            "_view_module_version": "1.5.0",
            "_view_name": "ProgressView",
            "bar_style": "",
            "description": "",
            "description_tooltip": null,
            "layout": "IPY_MODEL_9e16d17ff43a4457a6d129590ce012f6",
            "max": 1,
            "min": 0,
            "orientation": "horizontal",
            "style": "IPY_MODEL_f47b27a6b3c74c73b90741ba9f328b9a",
            "value": 0.07747900253922782
          }
        },
        "52fb65eaff5e4a8a8583fad698f86ed1": {
          "model_module": "@jupyter-widgets/base",
          "model_name": "LayoutModel",
          "model_module_version": "1.2.0",
          "state": {
            "_model_module": "@jupyter-widgets/base",
            "_model_module_version": "1.2.0",
            "_model_name": "LayoutModel",
            "_view_count": null,
            "_view_module": "@jupyter-widgets/base",
            "_view_module_version": "1.2.0",
            "_view_name": "LayoutView",
            "align_content": null,
            "align_items": null,
            "align_self": null,
            "border": null,
            "bottom": null,
            "display": null,
            "flex": null,
            "flex_flow": null,
            "grid_area": null,
            "grid_auto_columns": null,
            "grid_auto_flow": null,
            "grid_auto_rows": null,
            "grid_column": null,
            "grid_gap": null,
            "grid_row": null,
            "grid_template_areas": null,
            "grid_template_columns": null,
            "grid_template_rows": null,
            "height": null,
            "justify_content": null,
            "justify_items": null,
            "left": null,
            "margin": null,
            "max_height": null,
            "max_width": null,
            "min_height": null,
            "min_width": null,
            "object_fit": null,
            "object_position": null,
            "order": null,
            "overflow": null,
            "overflow_x": null,
            "overflow_y": null,
            "padding": null,
            "right": null,
            "top": null,
            "visibility": null,
            "width": null
          }
        },
        "f1f85d81cd324eae9363eb536c0b6118": {
          "model_module": "@jupyter-widgets/base",
          "model_name": "LayoutModel",
          "model_module_version": "1.2.0",
          "state": {
            "_model_module": "@jupyter-widgets/base",
            "_model_module_version": "1.2.0",
            "_model_name": "LayoutModel",
            "_view_count": null,
            "_view_module": "@jupyter-widgets/base",
            "_view_module_version": "1.2.0",
            "_view_name": "LayoutView",
            "align_content": null,
            "align_items": null,
            "align_self": null,
            "border": null,
            "bottom": null,
            "display": null,
            "flex": null,
            "flex_flow": null,
            "grid_area": null,
            "grid_auto_columns": null,
            "grid_auto_flow": null,
            "grid_auto_rows": null,
            "grid_column": null,
            "grid_gap": null,
            "grid_row": null,
            "grid_template_areas": null,
            "grid_template_columns": null,
            "grid_template_rows": null,
            "height": null,
            "justify_content": null,
            "justify_items": null,
            "left": null,
            "margin": null,
            "max_height": null,
            "max_width": null,
            "min_height": null,
            "min_width": null,
            "object_fit": null,
            "object_position": null,
            "order": null,
            "overflow": null,
            "overflow_x": null,
            "overflow_y": null,
            "padding": null,
            "right": null,
            "top": null,
            "visibility": null,
            "width": null
          }
        },
        "42448b26a34e4dc8b98a06f4af0c1a91": {
          "model_module": "@jupyter-widgets/controls",
          "model_name": "DescriptionStyleModel",
          "model_module_version": "1.5.0",
          "state": {
            "_model_module": "@jupyter-widgets/controls",
            "_model_module_version": "1.5.0",
            "_model_name": "DescriptionStyleModel",
            "_view_count": null,
            "_view_module": "@jupyter-widgets/base",
            "_view_module_version": "1.2.0",
            "_view_name": "StyleView",
            "description_width": ""
          }
        },
        "9e16d17ff43a4457a6d129590ce012f6": {
          "model_module": "@jupyter-widgets/base",
          "model_name": "LayoutModel",
          "model_module_version": "1.2.0",
          "state": {
            "_model_module": "@jupyter-widgets/base",
            "_model_module_version": "1.2.0",
            "_model_name": "LayoutModel",
            "_view_count": null,
            "_view_module": "@jupyter-widgets/base",
            "_view_module_version": "1.2.0",
            "_view_name": "LayoutView",
            "align_content": null,
            "align_items": null,
            "align_self": null,
            "border": null,
            "bottom": null,
            "display": null,
            "flex": null,
            "flex_flow": null,
            "grid_area": null,
            "grid_auto_columns": null,
            "grid_auto_flow": null,
            "grid_auto_rows": null,
            "grid_column": null,
            "grid_gap": null,
            "grid_row": null,
            "grid_template_areas": null,
            "grid_template_columns": null,
            "grid_template_rows": null,
            "height": null,
            "justify_content": null,
            "justify_items": null,
            "left": null,
            "margin": null,
            "max_height": null,
            "max_width": null,
            "min_height": null,
            "min_width": null,
            "object_fit": null,
            "object_position": null,
            "order": null,
            "overflow": null,
            "overflow_x": null,
            "overflow_y": null,
            "padding": null,
            "right": null,
            "top": null,
            "visibility": null,
            "width": null
          }
        },
        "f47b27a6b3c74c73b90741ba9f328b9a": {
          "model_module": "@jupyter-widgets/controls",
          "model_name": "ProgressStyleModel",
          "model_module_version": "1.5.0",
          "state": {
            "_model_module": "@jupyter-widgets/controls",
            "_model_module_version": "1.5.0",
            "_model_name": "ProgressStyleModel",
            "_view_count": null,
            "_view_module": "@jupyter-widgets/base",
            "_view_module_version": "1.2.0",
            "_view_name": "StyleView",
            "bar_color": null,
            "description_width": ""
          }
        },
        "b50cb86f08c149cf8d3ded1604eac92b": {
          "model_module": "@jupyter-widgets/controls",
          "model_name": "VBoxModel",
          "model_module_version": "1.5.0",
          "state": {
            "_dom_classes": [],
            "_model_module": "@jupyter-widgets/controls",
            "_model_module_version": "1.5.0",
            "_model_name": "VBoxModel",
            "_view_count": null,
            "_view_module": "@jupyter-widgets/controls",
            "_view_module_version": "1.5.0",
            "_view_name": "VBoxView",
            "box_style": "",
            "children": [
              "IPY_MODEL_3cf7412cea57433e88758d8157b3b912",
              "IPY_MODEL_eb9e16d9edd14e0ea113d3fc07bc7c17"
            ],
            "layout": "IPY_MODEL_1c65b73e402e4c7784766455a44133b2"
          }
        },
        "3cf7412cea57433e88758d8157b3b912": {
          "model_module": "@jupyter-widgets/controls",
          "model_name": "LabelModel",
          "model_module_version": "1.5.0",
          "state": {
            "_dom_classes": [],
            "_model_module": "@jupyter-widgets/controls",
            "_model_module_version": "1.5.0",
            "_model_name": "LabelModel",
            "_view_count": null,
            "_view_module": "@jupyter-widgets/controls",
            "_view_module_version": "1.5.0",
            "_view_name": "LabelView",
            "description": "",
            "description_tooltip": null,
            "layout": "IPY_MODEL_d5f84f905df9456d80187b8eb2bad059",
            "placeholder": "​",
            "style": "IPY_MODEL_62cc6f53385a4c8583bc0e4845ee6dd2",
            "value": "0.001 MB of 0.001 MB uploaded (0.000 MB deduped)\r"
          }
        },
        "eb9e16d9edd14e0ea113d3fc07bc7c17": {
          "model_module": "@jupyter-widgets/controls",
          "model_name": "FloatProgressModel",
          "model_module_version": "1.5.0",
          "state": {
            "_dom_classes": [],
            "_model_module": "@jupyter-widgets/controls",
            "_model_module_version": "1.5.0",
            "_model_name": "FloatProgressModel",
            "_view_count": null,
            "_view_module": "@jupyter-widgets/controls",
            "_view_module_version": "1.5.0",
            "_view_name": "ProgressView",
            "bar_style": "",
            "description": "",
            "description_tooltip": null,
            "layout": "IPY_MODEL_313a03de9e4047b9845d4897ea3b8538",
            "max": 1,
            "min": 0,
            "orientation": "horizontal",
            "style": "IPY_MODEL_488bf51d9c2848478bd0ba9b27deb1c8",
            "value": 1
          }
        },
        "1c65b73e402e4c7784766455a44133b2": {
          "model_module": "@jupyter-widgets/base",
          "model_name": "LayoutModel",
          "model_module_version": "1.2.0",
          "state": {
            "_model_module": "@jupyter-widgets/base",
            "_model_module_version": "1.2.0",
            "_model_name": "LayoutModel",
            "_view_count": null,
            "_view_module": "@jupyter-widgets/base",
            "_view_module_version": "1.2.0",
            "_view_name": "LayoutView",
            "align_content": null,
            "align_items": null,
            "align_self": null,
            "border": null,
            "bottom": null,
            "display": null,
            "flex": null,
            "flex_flow": null,
            "grid_area": null,
            "grid_auto_columns": null,
            "grid_auto_flow": null,
            "grid_auto_rows": null,
            "grid_column": null,
            "grid_gap": null,
            "grid_row": null,
            "grid_template_areas": null,
            "grid_template_columns": null,
            "grid_template_rows": null,
            "height": null,
            "justify_content": null,
            "justify_items": null,
            "left": null,
            "margin": null,
            "max_height": null,
            "max_width": null,
            "min_height": null,
            "min_width": null,
            "object_fit": null,
            "object_position": null,
            "order": null,
            "overflow": null,
            "overflow_x": null,
            "overflow_y": null,
            "padding": null,
            "right": null,
            "top": null,
            "visibility": null,
            "width": null
          }
        },
        "d5f84f905df9456d80187b8eb2bad059": {
          "model_module": "@jupyter-widgets/base",
          "model_name": "LayoutModel",
          "model_module_version": "1.2.0",
          "state": {
            "_model_module": "@jupyter-widgets/base",
            "_model_module_version": "1.2.0",
            "_model_name": "LayoutModel",
            "_view_count": null,
            "_view_module": "@jupyter-widgets/base",
            "_view_module_version": "1.2.0",
            "_view_name": "LayoutView",
            "align_content": null,
            "align_items": null,
            "align_self": null,
            "border": null,
            "bottom": null,
            "display": null,
            "flex": null,
            "flex_flow": null,
            "grid_area": null,
            "grid_auto_columns": null,
            "grid_auto_flow": null,
            "grid_auto_rows": null,
            "grid_column": null,
            "grid_gap": null,
            "grid_row": null,
            "grid_template_areas": null,
            "grid_template_columns": null,
            "grid_template_rows": null,
            "height": null,
            "justify_content": null,
            "justify_items": null,
            "left": null,
            "margin": null,
            "max_height": null,
            "max_width": null,
            "min_height": null,
            "min_width": null,
            "object_fit": null,
            "object_position": null,
            "order": null,
            "overflow": null,
            "overflow_x": null,
            "overflow_y": null,
            "padding": null,
            "right": null,
            "top": null,
            "visibility": null,
            "width": null
          }
        },
        "62cc6f53385a4c8583bc0e4845ee6dd2": {
          "model_module": "@jupyter-widgets/controls",
          "model_name": "DescriptionStyleModel",
          "model_module_version": "1.5.0",
          "state": {
            "_model_module": "@jupyter-widgets/controls",
            "_model_module_version": "1.5.0",
            "_model_name": "DescriptionStyleModel",
            "_view_count": null,
            "_view_module": "@jupyter-widgets/base",
            "_view_module_version": "1.2.0",
            "_view_name": "StyleView",
            "description_width": ""
          }
        },
        "313a03de9e4047b9845d4897ea3b8538": {
          "model_module": "@jupyter-widgets/base",
          "model_name": "LayoutModel",
          "model_module_version": "1.2.0",
          "state": {
            "_model_module": "@jupyter-widgets/base",
            "_model_module_version": "1.2.0",
            "_model_name": "LayoutModel",
            "_view_count": null,
            "_view_module": "@jupyter-widgets/base",
            "_view_module_version": "1.2.0",
            "_view_name": "LayoutView",
            "align_content": null,
            "align_items": null,
            "align_self": null,
            "border": null,
            "bottom": null,
            "display": null,
            "flex": null,
            "flex_flow": null,
            "grid_area": null,
            "grid_auto_columns": null,
            "grid_auto_flow": null,
            "grid_auto_rows": null,
            "grid_column": null,
            "grid_gap": null,
            "grid_row": null,
            "grid_template_areas": null,
            "grid_template_columns": null,
            "grid_template_rows": null,
            "height": null,
            "justify_content": null,
            "justify_items": null,
            "left": null,
            "margin": null,
            "max_height": null,
            "max_width": null,
            "min_height": null,
            "min_width": null,
            "object_fit": null,
            "object_position": null,
            "order": null,
            "overflow": null,
            "overflow_x": null,
            "overflow_y": null,
            "padding": null,
            "right": null,
            "top": null,
            "visibility": null,
            "width": null
          }
        },
        "488bf51d9c2848478bd0ba9b27deb1c8": {
          "model_module": "@jupyter-widgets/controls",
          "model_name": "ProgressStyleModel",
          "model_module_version": "1.5.0",
          "state": {
            "_model_module": "@jupyter-widgets/controls",
            "_model_module_version": "1.5.0",
            "_model_name": "ProgressStyleModel",
            "_view_count": null,
            "_view_module": "@jupyter-widgets/base",
            "_view_module_version": "1.2.0",
            "_view_name": "StyleView",
            "bar_color": null,
            "description_width": ""
          }
        },
        "79c0e8ec58844b52a3984037a74e02ba": {
          "model_module": "@jupyter-widgets/controls",
          "model_name": "VBoxModel",
          "model_module_version": "1.5.0",
          "state": {
            "_dom_classes": [],
            "_model_module": "@jupyter-widgets/controls",
            "_model_module_version": "1.5.0",
            "_model_name": "VBoxModel",
            "_view_count": null,
            "_view_module": "@jupyter-widgets/controls",
            "_view_module_version": "1.5.0",
            "_view_name": "VBoxView",
            "box_style": "",
            "children": [
              "IPY_MODEL_da75ee93b7fe40099a77503195caafb4",
              "IPY_MODEL_981e5a63915d43d98c08edb629fb3dc8"
            ],
            "layout": "IPY_MODEL_ac52153e563d41139f800416a914aabe"
          }
        },
        "da75ee93b7fe40099a77503195caafb4": {
          "model_module": "@jupyter-widgets/controls",
          "model_name": "LabelModel",
          "model_module_version": "1.5.0",
          "state": {
            "_dom_classes": [],
            "_model_module": "@jupyter-widgets/controls",
            "_model_module_version": "1.5.0",
            "_model_name": "LabelModel",
            "_view_count": null,
            "_view_module": "@jupyter-widgets/controls",
            "_view_module_version": "1.5.0",
            "_view_name": "LabelView",
            "description": "",
            "description_tooltip": null,
            "layout": "IPY_MODEL_2ca8f3c4e78442b8bfb3bbaa71ba1bec",
            "placeholder": "​",
            "style": "IPY_MODEL_7a3d92804ba14d5aa59296f86b11470f",
            "value": "Waiting for wandb.init()...\r"
          }
        },
        "981e5a63915d43d98c08edb629fb3dc8": {
          "model_module": "@jupyter-widgets/controls",
          "model_name": "FloatProgressModel",
          "model_module_version": "1.5.0",
          "state": {
            "_dom_classes": [],
            "_model_module": "@jupyter-widgets/controls",
            "_model_module_version": "1.5.0",
            "_model_name": "FloatProgressModel",
            "_view_count": null,
            "_view_module": "@jupyter-widgets/controls",
            "_view_module_version": "1.5.0",
            "_view_name": "ProgressView",
            "bar_style": "",
            "description": "",
            "description_tooltip": null,
            "layout": "IPY_MODEL_97f7c9f0b2ef499fa7e8cd77aa3e633d",
            "max": 1,
            "min": 0,
            "orientation": "horizontal",
            "style": "IPY_MODEL_6ba1deec0d8f45ce827b96d7160d5c52",
            "value": 1
          }
        },
        "ac52153e563d41139f800416a914aabe": {
          "model_module": "@jupyter-widgets/base",
          "model_name": "LayoutModel",
          "model_module_version": "1.2.0",
          "state": {
            "_model_module": "@jupyter-widgets/base",
            "_model_module_version": "1.2.0",
            "_model_name": "LayoutModel",
            "_view_count": null,
            "_view_module": "@jupyter-widgets/base",
            "_view_module_version": "1.2.0",
            "_view_name": "LayoutView",
            "align_content": null,
            "align_items": null,
            "align_self": null,
            "border": null,
            "bottom": null,
            "display": null,
            "flex": null,
            "flex_flow": null,
            "grid_area": null,
            "grid_auto_columns": null,
            "grid_auto_flow": null,
            "grid_auto_rows": null,
            "grid_column": null,
            "grid_gap": null,
            "grid_row": null,
            "grid_template_areas": null,
            "grid_template_columns": null,
            "grid_template_rows": null,
            "height": null,
            "justify_content": null,
            "justify_items": null,
            "left": null,
            "margin": null,
            "max_height": null,
            "max_width": null,
            "min_height": null,
            "min_width": null,
            "object_fit": null,
            "object_position": null,
            "order": null,
            "overflow": null,
            "overflow_x": null,
            "overflow_y": null,
            "padding": null,
            "right": null,
            "top": null,
            "visibility": null,
            "width": null
          }
        },
        "2ca8f3c4e78442b8bfb3bbaa71ba1bec": {
          "model_module": "@jupyter-widgets/base",
          "model_name": "LayoutModel",
          "model_module_version": "1.2.0",
          "state": {
            "_model_module": "@jupyter-widgets/base",
            "_model_module_version": "1.2.0",
            "_model_name": "LayoutModel",
            "_view_count": null,
            "_view_module": "@jupyter-widgets/base",
            "_view_module_version": "1.2.0",
            "_view_name": "LayoutView",
            "align_content": null,
            "align_items": null,
            "align_self": null,
            "border": null,
            "bottom": null,
            "display": null,
            "flex": null,
            "flex_flow": null,
            "grid_area": null,
            "grid_auto_columns": null,
            "grid_auto_flow": null,
            "grid_auto_rows": null,
            "grid_column": null,
            "grid_gap": null,
            "grid_row": null,
            "grid_template_areas": null,
            "grid_template_columns": null,
            "grid_template_rows": null,
            "height": null,
            "justify_content": null,
            "justify_items": null,
            "left": null,
            "margin": null,
            "max_height": null,
            "max_width": null,
            "min_height": null,
            "min_width": null,
            "object_fit": null,
            "object_position": null,
            "order": null,
            "overflow": null,
            "overflow_x": null,
            "overflow_y": null,
            "padding": null,
            "right": null,
            "top": null,
            "visibility": null,
            "width": null
          }
        },
        "7a3d92804ba14d5aa59296f86b11470f": {
          "model_module": "@jupyter-widgets/controls",
          "model_name": "DescriptionStyleModel",
          "model_module_version": "1.5.0",
          "state": {
            "_model_module": "@jupyter-widgets/controls",
            "_model_module_version": "1.5.0",
            "_model_name": "DescriptionStyleModel",
            "_view_count": null,
            "_view_module": "@jupyter-widgets/base",
            "_view_module_version": "1.2.0",
            "_view_name": "StyleView",
            "description_width": ""
          }
        },
        "97f7c9f0b2ef499fa7e8cd77aa3e633d": {
          "model_module": "@jupyter-widgets/base",
          "model_name": "LayoutModel",
          "model_module_version": "1.2.0",
          "state": {
            "_model_module": "@jupyter-widgets/base",
            "_model_module_version": "1.2.0",
            "_model_name": "LayoutModel",
            "_view_count": null,
            "_view_module": "@jupyter-widgets/base",
            "_view_module_version": "1.2.0",
            "_view_name": "LayoutView",
            "align_content": null,
            "align_items": null,
            "align_self": null,
            "border": null,
            "bottom": null,
            "display": null,
            "flex": null,
            "flex_flow": null,
            "grid_area": null,
            "grid_auto_columns": null,
            "grid_auto_flow": null,
            "grid_auto_rows": null,
            "grid_column": null,
            "grid_gap": null,
            "grid_row": null,
            "grid_template_areas": null,
            "grid_template_columns": null,
            "grid_template_rows": null,
            "height": null,
            "justify_content": null,
            "justify_items": null,
            "left": null,
            "margin": null,
            "max_height": null,
            "max_width": null,
            "min_height": null,
            "min_width": null,
            "object_fit": null,
            "object_position": null,
            "order": null,
            "overflow": null,
            "overflow_x": null,
            "overflow_y": null,
            "padding": null,
            "right": null,
            "top": null,
            "visibility": null,
            "width": null
          }
        },
        "6ba1deec0d8f45ce827b96d7160d5c52": {
          "model_module": "@jupyter-widgets/controls",
          "model_name": "ProgressStyleModel",
          "model_module_version": "1.5.0",
          "state": {
            "_model_module": "@jupyter-widgets/controls",
            "_model_module_version": "1.5.0",
            "_model_name": "ProgressStyleModel",
            "_view_count": null,
            "_view_module": "@jupyter-widgets/base",
            "_view_module_version": "1.2.0",
            "_view_name": "StyleView",
            "bar_color": null,
            "description_width": ""
          }
        },
        "04f39b191a24447394f6714e82bb1614": {
          "model_module": "@jupyter-widgets/controls",
          "model_name": "VBoxModel",
          "model_module_version": "1.5.0",
          "state": {
            "_dom_classes": [],
            "_model_module": "@jupyter-widgets/controls",
            "_model_module_version": "1.5.0",
            "_model_name": "VBoxModel",
            "_view_count": null,
            "_view_module": "@jupyter-widgets/controls",
            "_view_module_version": "1.5.0",
            "_view_name": "VBoxView",
            "box_style": "",
            "children": [
              "IPY_MODEL_d526547c23c641baa0f3c0afbae0295c",
              "IPY_MODEL_4962e03ea17a4000b8caf40e88940eb8"
            ],
            "layout": "IPY_MODEL_a959b67e4ac344a3990853201fcf8be2"
          }
        },
        "d526547c23c641baa0f3c0afbae0295c": {
          "model_module": "@jupyter-widgets/controls",
          "model_name": "LabelModel",
          "model_module_version": "1.5.0",
          "state": {
            "_dom_classes": [],
            "_model_module": "@jupyter-widgets/controls",
            "_model_module_version": "1.5.0",
            "_model_name": "LabelModel",
            "_view_count": null,
            "_view_module": "@jupyter-widgets/controls",
            "_view_module_version": "1.5.0",
            "_view_name": "LabelView",
            "description": "",
            "description_tooltip": null,
            "layout": "IPY_MODEL_6775148267e4421da4998ef85c06e4d5",
            "placeholder": "​",
            "style": "IPY_MODEL_32d0c0c9f6474e5abe31027974c2dff0",
            "value": "0.001 MB of 0.001 MB uploaded (0.000 MB deduped)\r"
          }
        },
        "4962e03ea17a4000b8caf40e88940eb8": {
          "model_module": "@jupyter-widgets/controls",
          "model_name": "FloatProgressModel",
          "model_module_version": "1.5.0",
          "state": {
            "_dom_classes": [],
            "_model_module": "@jupyter-widgets/controls",
            "_model_module_version": "1.5.0",
            "_model_name": "FloatProgressModel",
            "_view_count": null,
            "_view_module": "@jupyter-widgets/controls",
            "_view_module_version": "1.5.0",
            "_view_name": "ProgressView",
            "bar_style": "",
            "description": "",
            "description_tooltip": null,
            "layout": "IPY_MODEL_af0974fa3ba1426f9a5446a7db89297a",
            "max": 1,
            "min": 0,
            "orientation": "horizontal",
            "style": "IPY_MODEL_f5f91a48e6614a8e9a3a95c294eeb33a",
            "value": 1
          }
        },
        "a959b67e4ac344a3990853201fcf8be2": {
          "model_module": "@jupyter-widgets/base",
          "model_name": "LayoutModel",
          "model_module_version": "1.2.0",
          "state": {
            "_model_module": "@jupyter-widgets/base",
            "_model_module_version": "1.2.0",
            "_model_name": "LayoutModel",
            "_view_count": null,
            "_view_module": "@jupyter-widgets/base",
            "_view_module_version": "1.2.0",
            "_view_name": "LayoutView",
            "align_content": null,
            "align_items": null,
            "align_self": null,
            "border": null,
            "bottom": null,
            "display": null,
            "flex": null,
            "flex_flow": null,
            "grid_area": null,
            "grid_auto_columns": null,
            "grid_auto_flow": null,
            "grid_auto_rows": null,
            "grid_column": null,
            "grid_gap": null,
            "grid_row": null,
            "grid_template_areas": null,
            "grid_template_columns": null,
            "grid_template_rows": null,
            "height": null,
            "justify_content": null,
            "justify_items": null,
            "left": null,
            "margin": null,
            "max_height": null,
            "max_width": null,
            "min_height": null,
            "min_width": null,
            "object_fit": null,
            "object_position": null,
            "order": null,
            "overflow": null,
            "overflow_x": null,
            "overflow_y": null,
            "padding": null,
            "right": null,
            "top": null,
            "visibility": null,
            "width": null
          }
        },
        "6775148267e4421da4998ef85c06e4d5": {
          "model_module": "@jupyter-widgets/base",
          "model_name": "LayoutModel",
          "model_module_version": "1.2.0",
          "state": {
            "_model_module": "@jupyter-widgets/base",
            "_model_module_version": "1.2.0",
            "_model_name": "LayoutModel",
            "_view_count": null,
            "_view_module": "@jupyter-widgets/base",
            "_view_module_version": "1.2.0",
            "_view_name": "LayoutView",
            "align_content": null,
            "align_items": null,
            "align_self": null,
            "border": null,
            "bottom": null,
            "display": null,
            "flex": null,
            "flex_flow": null,
            "grid_area": null,
            "grid_auto_columns": null,
            "grid_auto_flow": null,
            "grid_auto_rows": null,
            "grid_column": null,
            "grid_gap": null,
            "grid_row": null,
            "grid_template_areas": null,
            "grid_template_columns": null,
            "grid_template_rows": null,
            "height": null,
            "justify_content": null,
            "justify_items": null,
            "left": null,
            "margin": null,
            "max_height": null,
            "max_width": null,
            "min_height": null,
            "min_width": null,
            "object_fit": null,
            "object_position": null,
            "order": null,
            "overflow": null,
            "overflow_x": null,
            "overflow_y": null,
            "padding": null,
            "right": null,
            "top": null,
            "visibility": null,
            "width": null
          }
        },
        "32d0c0c9f6474e5abe31027974c2dff0": {
          "model_module": "@jupyter-widgets/controls",
          "model_name": "DescriptionStyleModel",
          "model_module_version": "1.5.0",
          "state": {
            "_model_module": "@jupyter-widgets/controls",
            "_model_module_version": "1.5.0",
            "_model_name": "DescriptionStyleModel",
            "_view_count": null,
            "_view_module": "@jupyter-widgets/base",
            "_view_module_version": "1.2.0",
            "_view_name": "StyleView",
            "description_width": ""
          }
        },
        "af0974fa3ba1426f9a5446a7db89297a": {
          "model_module": "@jupyter-widgets/base",
          "model_name": "LayoutModel",
          "model_module_version": "1.2.0",
          "state": {
            "_model_module": "@jupyter-widgets/base",
            "_model_module_version": "1.2.0",
            "_model_name": "LayoutModel",
            "_view_count": null,
            "_view_module": "@jupyter-widgets/base",
            "_view_module_version": "1.2.0",
            "_view_name": "LayoutView",
            "align_content": null,
            "align_items": null,
            "align_self": null,
            "border": null,
            "bottom": null,
            "display": null,
            "flex": null,
            "flex_flow": null,
            "grid_area": null,
            "grid_auto_columns": null,
            "grid_auto_flow": null,
            "grid_auto_rows": null,
            "grid_column": null,
            "grid_gap": null,
            "grid_row": null,
            "grid_template_areas": null,
            "grid_template_columns": null,
            "grid_template_rows": null,
            "height": null,
            "justify_content": null,
            "justify_items": null,
            "left": null,
            "margin": null,
            "max_height": null,
            "max_width": null,
            "min_height": null,
            "min_width": null,
            "object_fit": null,
            "object_position": null,
            "order": null,
            "overflow": null,
            "overflow_x": null,
            "overflow_y": null,
            "padding": null,
            "right": null,
            "top": null,
            "visibility": null,
            "width": null
          }
        },
        "f5f91a48e6614a8e9a3a95c294eeb33a": {
          "model_module": "@jupyter-widgets/controls",
          "model_name": "ProgressStyleModel",
          "model_module_version": "1.5.0",
          "state": {
            "_model_module": "@jupyter-widgets/controls",
            "_model_module_version": "1.5.0",
            "_model_name": "ProgressStyleModel",
            "_view_count": null,
            "_view_module": "@jupyter-widgets/base",
            "_view_module_version": "1.2.0",
            "_view_name": "StyleView",
            "bar_color": null,
            "description_width": ""
          }
        },
        "3be02223a3f1466d9bb01a9ea76609b5": {
          "model_module": "@jupyter-widgets/controls",
          "model_name": "VBoxModel",
          "model_module_version": "1.5.0",
          "state": {
            "_dom_classes": [],
            "_model_module": "@jupyter-widgets/controls",
            "_model_module_version": "1.5.0",
            "_model_name": "VBoxModel",
            "_view_count": null,
            "_view_module": "@jupyter-widgets/controls",
            "_view_module_version": "1.5.0",
            "_view_name": "VBoxView",
            "box_style": "",
            "children": [
              "IPY_MODEL_16011a7385ce48039c113f1f54e47605",
              "IPY_MODEL_3ca7015d8cc74c50a7912c713c53236e"
            ],
            "layout": "IPY_MODEL_e18eb4ed963341328dbedf5218b5101b"
          }
        },
        "16011a7385ce48039c113f1f54e47605": {
          "model_module": "@jupyter-widgets/controls",
          "model_name": "LabelModel",
          "model_module_version": "1.5.0",
          "state": {
            "_dom_classes": [],
            "_model_module": "@jupyter-widgets/controls",
            "_model_module_version": "1.5.0",
            "_model_name": "LabelModel",
            "_view_count": null,
            "_view_module": "@jupyter-widgets/controls",
            "_view_module_version": "1.5.0",
            "_view_name": "LabelView",
            "description": "",
            "description_tooltip": null,
            "layout": "IPY_MODEL_326a6382aa374583aa6e1ea3ac6127ed",
            "placeholder": "​",
            "style": "IPY_MODEL_404ab2316bb74579966b0935e11b2cd9",
            "value": "0.001 MB of 0.001 MB uploaded (0.000 MB deduped)\r"
          }
        },
        "3ca7015d8cc74c50a7912c713c53236e": {
          "model_module": "@jupyter-widgets/controls",
          "model_name": "FloatProgressModel",
          "model_module_version": "1.5.0",
          "state": {
            "_dom_classes": [],
            "_model_module": "@jupyter-widgets/controls",
            "_model_module_version": "1.5.0",
            "_model_name": "FloatProgressModel",
            "_view_count": null,
            "_view_module": "@jupyter-widgets/controls",
            "_view_module_version": "1.5.0",
            "_view_name": "ProgressView",
            "bar_style": "",
            "description": "",
            "description_tooltip": null,
            "layout": "IPY_MODEL_cf0ce79cbc074f058028beb220967018",
            "max": 1,
            "min": 0,
            "orientation": "horizontal",
            "style": "IPY_MODEL_861fa16614704222b2bc75958777b547",
            "value": 1
          }
        },
        "e18eb4ed963341328dbedf5218b5101b": {
          "model_module": "@jupyter-widgets/base",
          "model_name": "LayoutModel",
          "model_module_version": "1.2.0",
          "state": {
            "_model_module": "@jupyter-widgets/base",
            "_model_module_version": "1.2.0",
            "_model_name": "LayoutModel",
            "_view_count": null,
            "_view_module": "@jupyter-widgets/base",
            "_view_module_version": "1.2.0",
            "_view_name": "LayoutView",
            "align_content": null,
            "align_items": null,
            "align_self": null,
            "border": null,
            "bottom": null,
            "display": null,
            "flex": null,
            "flex_flow": null,
            "grid_area": null,
            "grid_auto_columns": null,
            "grid_auto_flow": null,
            "grid_auto_rows": null,
            "grid_column": null,
            "grid_gap": null,
            "grid_row": null,
            "grid_template_areas": null,
            "grid_template_columns": null,
            "grid_template_rows": null,
            "height": null,
            "justify_content": null,
            "justify_items": null,
            "left": null,
            "margin": null,
            "max_height": null,
            "max_width": null,
            "min_height": null,
            "min_width": null,
            "object_fit": null,
            "object_position": null,
            "order": null,
            "overflow": null,
            "overflow_x": null,
            "overflow_y": null,
            "padding": null,
            "right": null,
            "top": null,
            "visibility": null,
            "width": null
          }
        },
        "326a6382aa374583aa6e1ea3ac6127ed": {
          "model_module": "@jupyter-widgets/base",
          "model_name": "LayoutModel",
          "model_module_version": "1.2.0",
          "state": {
            "_model_module": "@jupyter-widgets/base",
            "_model_module_version": "1.2.0",
            "_model_name": "LayoutModel",
            "_view_count": null,
            "_view_module": "@jupyter-widgets/base",
            "_view_module_version": "1.2.0",
            "_view_name": "LayoutView",
            "align_content": null,
            "align_items": null,
            "align_self": null,
            "border": null,
            "bottom": null,
            "display": null,
            "flex": null,
            "flex_flow": null,
            "grid_area": null,
            "grid_auto_columns": null,
            "grid_auto_flow": null,
            "grid_auto_rows": null,
            "grid_column": null,
            "grid_gap": null,
            "grid_row": null,
            "grid_template_areas": null,
            "grid_template_columns": null,
            "grid_template_rows": null,
            "height": null,
            "justify_content": null,
            "justify_items": null,
            "left": null,
            "margin": null,
            "max_height": null,
            "max_width": null,
            "min_height": null,
            "min_width": null,
            "object_fit": null,
            "object_position": null,
            "order": null,
            "overflow": null,
            "overflow_x": null,
            "overflow_y": null,
            "padding": null,
            "right": null,
            "top": null,
            "visibility": null,
            "width": null
          }
        },
        "404ab2316bb74579966b0935e11b2cd9": {
          "model_module": "@jupyter-widgets/controls",
          "model_name": "DescriptionStyleModel",
          "model_module_version": "1.5.0",
          "state": {
            "_model_module": "@jupyter-widgets/controls",
            "_model_module_version": "1.5.0",
            "_model_name": "DescriptionStyleModel",
            "_view_count": null,
            "_view_module": "@jupyter-widgets/base",
            "_view_module_version": "1.2.0",
            "_view_name": "StyleView",
            "description_width": ""
          }
        },
        "cf0ce79cbc074f058028beb220967018": {
          "model_module": "@jupyter-widgets/base",
          "model_name": "LayoutModel",
          "model_module_version": "1.2.0",
          "state": {
            "_model_module": "@jupyter-widgets/base",
            "_model_module_version": "1.2.0",
            "_model_name": "LayoutModel",
            "_view_count": null,
            "_view_module": "@jupyter-widgets/base",
            "_view_module_version": "1.2.0",
            "_view_name": "LayoutView",
            "align_content": null,
            "align_items": null,
            "align_self": null,
            "border": null,
            "bottom": null,
            "display": null,
            "flex": null,
            "flex_flow": null,
            "grid_area": null,
            "grid_auto_columns": null,
            "grid_auto_flow": null,
            "grid_auto_rows": null,
            "grid_column": null,
            "grid_gap": null,
            "grid_row": null,
            "grid_template_areas": null,
            "grid_template_columns": null,
            "grid_template_rows": null,
            "height": null,
            "justify_content": null,
            "justify_items": null,
            "left": null,
            "margin": null,
            "max_height": null,
            "max_width": null,
            "min_height": null,
            "min_width": null,
            "object_fit": null,
            "object_position": null,
            "order": null,
            "overflow": null,
            "overflow_x": null,
            "overflow_y": null,
            "padding": null,
            "right": null,
            "top": null,
            "visibility": null,
            "width": null
          }
        },
        "861fa16614704222b2bc75958777b547": {
          "model_module": "@jupyter-widgets/controls",
          "model_name": "ProgressStyleModel",
          "model_module_version": "1.5.0",
          "state": {
            "_model_module": "@jupyter-widgets/controls",
            "_model_module_version": "1.5.0",
            "_model_name": "ProgressStyleModel",
            "_view_count": null,
            "_view_module": "@jupyter-widgets/base",
            "_view_module_version": "1.2.0",
            "_view_name": "StyleView",
            "bar_color": null,
            "description_width": ""
          }
        },
        "0d1df08d4450412e937038f447bbb517": {
          "model_module": "@jupyter-widgets/controls",
          "model_name": "VBoxModel",
          "model_module_version": "1.5.0",
          "state": {
            "_dom_classes": [],
            "_model_module": "@jupyter-widgets/controls",
            "_model_module_version": "1.5.0",
            "_model_name": "VBoxModel",
            "_view_count": null,
            "_view_module": "@jupyter-widgets/controls",
            "_view_module_version": "1.5.0",
            "_view_name": "VBoxView",
            "box_style": "",
            "children": [
              "IPY_MODEL_58ae55120fc64cfaa1d56c20fc4dce69",
              "IPY_MODEL_4b427af2a22242aeb0fc391ac58c3ef3"
            ],
            "layout": "IPY_MODEL_00d7546860814e75a0de2052ed9d2073"
          }
        },
        "58ae55120fc64cfaa1d56c20fc4dce69": {
          "model_module": "@jupyter-widgets/controls",
          "model_name": "LabelModel",
          "model_module_version": "1.5.0",
          "state": {
            "_dom_classes": [],
            "_model_module": "@jupyter-widgets/controls",
            "_model_module_version": "1.5.0",
            "_model_name": "LabelModel",
            "_view_count": null,
            "_view_module": "@jupyter-widgets/controls",
            "_view_module_version": "1.5.0",
            "_view_name": "LabelView",
            "description": "",
            "description_tooltip": null,
            "layout": "IPY_MODEL_701c11b064d3495faaf3b3acdface28e",
            "placeholder": "​",
            "style": "IPY_MODEL_2530a6afcfa94d2f8d75f748baea3995",
            "value": "0.001 MB of 0.012 MB uploaded (0.000 MB deduped)\r"
          }
        },
        "4b427af2a22242aeb0fc391ac58c3ef3": {
          "model_module": "@jupyter-widgets/controls",
          "model_name": "FloatProgressModel",
          "model_module_version": "1.5.0",
          "state": {
            "_dom_classes": [],
            "_model_module": "@jupyter-widgets/controls",
            "_model_module_version": "1.5.0",
            "_model_name": "FloatProgressModel",
            "_view_count": null,
            "_view_module": "@jupyter-widgets/controls",
            "_view_module_version": "1.5.0",
            "_view_name": "ProgressView",
            "bar_style": "",
            "description": "",
            "description_tooltip": null,
            "layout": "IPY_MODEL_2534d415070a493b90c9b3c97b4aca2e",
            "max": 1,
            "min": 0,
            "orientation": "horizontal",
            "style": "IPY_MODEL_2dd628d7de46437fbe1c1ac0b8861d89",
            "value": 0.097757331799885
          }
        },
        "00d7546860814e75a0de2052ed9d2073": {
          "model_module": "@jupyter-widgets/base",
          "model_name": "LayoutModel",
          "model_module_version": "1.2.0",
          "state": {
            "_model_module": "@jupyter-widgets/base",
            "_model_module_version": "1.2.0",
            "_model_name": "LayoutModel",
            "_view_count": null,
            "_view_module": "@jupyter-widgets/base",
            "_view_module_version": "1.2.0",
            "_view_name": "LayoutView",
            "align_content": null,
            "align_items": null,
            "align_self": null,
            "border": null,
            "bottom": null,
            "display": null,
            "flex": null,
            "flex_flow": null,
            "grid_area": null,
            "grid_auto_columns": null,
            "grid_auto_flow": null,
            "grid_auto_rows": null,
            "grid_column": null,
            "grid_gap": null,
            "grid_row": null,
            "grid_template_areas": null,
            "grid_template_columns": null,
            "grid_template_rows": null,
            "height": null,
            "justify_content": null,
            "justify_items": null,
            "left": null,
            "margin": null,
            "max_height": null,
            "max_width": null,
            "min_height": null,
            "min_width": null,
            "object_fit": null,
            "object_position": null,
            "order": null,
            "overflow": null,
            "overflow_x": null,
            "overflow_y": null,
            "padding": null,
            "right": null,
            "top": null,
            "visibility": null,
            "width": null
          }
        },
        "701c11b064d3495faaf3b3acdface28e": {
          "model_module": "@jupyter-widgets/base",
          "model_name": "LayoutModel",
          "model_module_version": "1.2.0",
          "state": {
            "_model_module": "@jupyter-widgets/base",
            "_model_module_version": "1.2.0",
            "_model_name": "LayoutModel",
            "_view_count": null,
            "_view_module": "@jupyter-widgets/base",
            "_view_module_version": "1.2.0",
            "_view_name": "LayoutView",
            "align_content": null,
            "align_items": null,
            "align_self": null,
            "border": null,
            "bottom": null,
            "display": null,
            "flex": null,
            "flex_flow": null,
            "grid_area": null,
            "grid_auto_columns": null,
            "grid_auto_flow": null,
            "grid_auto_rows": null,
            "grid_column": null,
            "grid_gap": null,
            "grid_row": null,
            "grid_template_areas": null,
            "grid_template_columns": null,
            "grid_template_rows": null,
            "height": null,
            "justify_content": null,
            "justify_items": null,
            "left": null,
            "margin": null,
            "max_height": null,
            "max_width": null,
            "min_height": null,
            "min_width": null,
            "object_fit": null,
            "object_position": null,
            "order": null,
            "overflow": null,
            "overflow_x": null,
            "overflow_y": null,
            "padding": null,
            "right": null,
            "top": null,
            "visibility": null,
            "width": null
          }
        },
        "2530a6afcfa94d2f8d75f748baea3995": {
          "model_module": "@jupyter-widgets/controls",
          "model_name": "DescriptionStyleModel",
          "model_module_version": "1.5.0",
          "state": {
            "_model_module": "@jupyter-widgets/controls",
            "_model_module_version": "1.5.0",
            "_model_name": "DescriptionStyleModel",
            "_view_count": null,
            "_view_module": "@jupyter-widgets/base",
            "_view_module_version": "1.2.0",
            "_view_name": "StyleView",
            "description_width": ""
          }
        },
        "2534d415070a493b90c9b3c97b4aca2e": {
          "model_module": "@jupyter-widgets/base",
          "model_name": "LayoutModel",
          "model_module_version": "1.2.0",
          "state": {
            "_model_module": "@jupyter-widgets/base",
            "_model_module_version": "1.2.0",
            "_model_name": "LayoutModel",
            "_view_count": null,
            "_view_module": "@jupyter-widgets/base",
            "_view_module_version": "1.2.0",
            "_view_name": "LayoutView",
            "align_content": null,
            "align_items": null,
            "align_self": null,
            "border": null,
            "bottom": null,
            "display": null,
            "flex": null,
            "flex_flow": null,
            "grid_area": null,
            "grid_auto_columns": null,
            "grid_auto_flow": null,
            "grid_auto_rows": null,
            "grid_column": null,
            "grid_gap": null,
            "grid_row": null,
            "grid_template_areas": null,
            "grid_template_columns": null,
            "grid_template_rows": null,
            "height": null,
            "justify_content": null,
            "justify_items": null,
            "left": null,
            "margin": null,
            "max_height": null,
            "max_width": null,
            "min_height": null,
            "min_width": null,
            "object_fit": null,
            "object_position": null,
            "order": null,
            "overflow": null,
            "overflow_x": null,
            "overflow_y": null,
            "padding": null,
            "right": null,
            "top": null,
            "visibility": null,
            "width": null
          }
        },
        "2dd628d7de46437fbe1c1ac0b8861d89": {
          "model_module": "@jupyter-widgets/controls",
          "model_name": "ProgressStyleModel",
          "model_module_version": "1.5.0",
          "state": {
            "_model_module": "@jupyter-widgets/controls",
            "_model_module_version": "1.5.0",
            "_model_name": "ProgressStyleModel",
            "_view_count": null,
            "_view_module": "@jupyter-widgets/base",
            "_view_module_version": "1.2.0",
            "_view_name": "StyleView",
            "bar_color": null,
            "description_width": ""
          }
        },
        "48b302e5d3104efd900b2f5f6212605a": {
          "model_module": "@jupyter-widgets/controls",
          "model_name": "VBoxModel",
          "model_module_version": "1.5.0",
          "state": {
            "_dom_classes": [],
            "_model_module": "@jupyter-widgets/controls",
            "_model_module_version": "1.5.0",
            "_model_name": "VBoxModel",
            "_view_count": null,
            "_view_module": "@jupyter-widgets/controls",
            "_view_module_version": "1.5.0",
            "_view_name": "VBoxView",
            "box_style": "",
            "children": [
              "IPY_MODEL_a02d7555323443aabbee7e300a10c0b1",
              "IPY_MODEL_6025f7fa7caa4b91ac52364f19a46456"
            ],
            "layout": "IPY_MODEL_4e2ec5f28c4d452f9908ad73b1244029"
          }
        },
        "a02d7555323443aabbee7e300a10c0b1": {
          "model_module": "@jupyter-widgets/controls",
          "model_name": "LabelModel",
          "model_module_version": "1.5.0",
          "state": {
            "_dom_classes": [],
            "_model_module": "@jupyter-widgets/controls",
            "_model_module_version": "1.5.0",
            "_model_name": "LabelModel",
            "_view_count": null,
            "_view_module": "@jupyter-widgets/controls",
            "_view_module_version": "1.5.0",
            "_view_name": "LabelView",
            "description": "",
            "description_tooltip": null,
            "layout": "IPY_MODEL_49e2b5ce9b034c5e85b99bec35729a40",
            "placeholder": "​",
            "style": "IPY_MODEL_ab1393146e6b4d8697c2ceedaaae7ff0",
            "value": "0.001 MB of 0.001 MB uploaded (0.000 MB deduped)\r"
          }
        },
        "6025f7fa7caa4b91ac52364f19a46456": {
          "model_module": "@jupyter-widgets/controls",
          "model_name": "FloatProgressModel",
          "model_module_version": "1.5.0",
          "state": {
            "_dom_classes": [],
            "_model_module": "@jupyter-widgets/controls",
            "_model_module_version": "1.5.0",
            "_model_name": "FloatProgressModel",
            "_view_count": null,
            "_view_module": "@jupyter-widgets/controls",
            "_view_module_version": "1.5.0",
            "_view_name": "ProgressView",
            "bar_style": "",
            "description": "",
            "description_tooltip": null,
            "layout": "IPY_MODEL_00302c95ea3945f987e53e4d1771be52",
            "max": 1,
            "min": 0,
            "orientation": "horizontal",
            "style": "IPY_MODEL_aaaa833aa5f14a2298e74b05a3e49fa9",
            "value": 1
          }
        },
        "4e2ec5f28c4d452f9908ad73b1244029": {
          "model_module": "@jupyter-widgets/base",
          "model_name": "LayoutModel",
          "model_module_version": "1.2.0",
          "state": {
            "_model_module": "@jupyter-widgets/base",
            "_model_module_version": "1.2.0",
            "_model_name": "LayoutModel",
            "_view_count": null,
            "_view_module": "@jupyter-widgets/base",
            "_view_module_version": "1.2.0",
            "_view_name": "LayoutView",
            "align_content": null,
            "align_items": null,
            "align_self": null,
            "border": null,
            "bottom": null,
            "display": null,
            "flex": null,
            "flex_flow": null,
            "grid_area": null,
            "grid_auto_columns": null,
            "grid_auto_flow": null,
            "grid_auto_rows": null,
            "grid_column": null,
            "grid_gap": null,
            "grid_row": null,
            "grid_template_areas": null,
            "grid_template_columns": null,
            "grid_template_rows": null,
            "height": null,
            "justify_content": null,
            "justify_items": null,
            "left": null,
            "margin": null,
            "max_height": null,
            "max_width": null,
            "min_height": null,
            "min_width": null,
            "object_fit": null,
            "object_position": null,
            "order": null,
            "overflow": null,
            "overflow_x": null,
            "overflow_y": null,
            "padding": null,
            "right": null,
            "top": null,
            "visibility": null,
            "width": null
          }
        },
        "49e2b5ce9b034c5e85b99bec35729a40": {
          "model_module": "@jupyter-widgets/base",
          "model_name": "LayoutModel",
          "model_module_version": "1.2.0",
          "state": {
            "_model_module": "@jupyter-widgets/base",
            "_model_module_version": "1.2.0",
            "_model_name": "LayoutModel",
            "_view_count": null,
            "_view_module": "@jupyter-widgets/base",
            "_view_module_version": "1.2.0",
            "_view_name": "LayoutView",
            "align_content": null,
            "align_items": null,
            "align_self": null,
            "border": null,
            "bottom": null,
            "display": null,
            "flex": null,
            "flex_flow": null,
            "grid_area": null,
            "grid_auto_columns": null,
            "grid_auto_flow": null,
            "grid_auto_rows": null,
            "grid_column": null,
            "grid_gap": null,
            "grid_row": null,
            "grid_template_areas": null,
            "grid_template_columns": null,
            "grid_template_rows": null,
            "height": null,
            "justify_content": null,
            "justify_items": null,
            "left": null,
            "margin": null,
            "max_height": null,
            "max_width": null,
            "min_height": null,
            "min_width": null,
            "object_fit": null,
            "object_position": null,
            "order": null,
            "overflow": null,
            "overflow_x": null,
            "overflow_y": null,
            "padding": null,
            "right": null,
            "top": null,
            "visibility": null,
            "width": null
          }
        },
        "ab1393146e6b4d8697c2ceedaaae7ff0": {
          "model_module": "@jupyter-widgets/controls",
          "model_name": "DescriptionStyleModel",
          "model_module_version": "1.5.0",
          "state": {
            "_model_module": "@jupyter-widgets/controls",
            "_model_module_version": "1.5.0",
            "_model_name": "DescriptionStyleModel",
            "_view_count": null,
            "_view_module": "@jupyter-widgets/base",
            "_view_module_version": "1.2.0",
            "_view_name": "StyleView",
            "description_width": ""
          }
        },
        "00302c95ea3945f987e53e4d1771be52": {
          "model_module": "@jupyter-widgets/base",
          "model_name": "LayoutModel",
          "model_module_version": "1.2.0",
          "state": {
            "_model_module": "@jupyter-widgets/base",
            "_model_module_version": "1.2.0",
            "_model_name": "LayoutModel",
            "_view_count": null,
            "_view_module": "@jupyter-widgets/base",
            "_view_module_version": "1.2.0",
            "_view_name": "LayoutView",
            "align_content": null,
            "align_items": null,
            "align_self": null,
            "border": null,
            "bottom": null,
            "display": null,
            "flex": null,
            "flex_flow": null,
            "grid_area": null,
            "grid_auto_columns": null,
            "grid_auto_flow": null,
            "grid_auto_rows": null,
            "grid_column": null,
            "grid_gap": null,
            "grid_row": null,
            "grid_template_areas": null,
            "grid_template_columns": null,
            "grid_template_rows": null,
            "height": null,
            "justify_content": null,
            "justify_items": null,
            "left": null,
            "margin": null,
            "max_height": null,
            "max_width": null,
            "min_height": null,
            "min_width": null,
            "object_fit": null,
            "object_position": null,
            "order": null,
            "overflow": null,
            "overflow_x": null,
            "overflow_y": null,
            "padding": null,
            "right": null,
            "top": null,
            "visibility": null,
            "width": null
          }
        },
        "aaaa833aa5f14a2298e74b05a3e49fa9": {
          "model_module": "@jupyter-widgets/controls",
          "model_name": "ProgressStyleModel",
          "model_module_version": "1.5.0",
          "state": {
            "_model_module": "@jupyter-widgets/controls",
            "_model_module_version": "1.5.0",
            "_model_name": "ProgressStyleModel",
            "_view_count": null,
            "_view_module": "@jupyter-widgets/base",
            "_view_module_version": "1.2.0",
            "_view_name": "StyleView",
            "bar_color": null,
            "description_width": ""
          }
        },
        "d88eb8f6ab88442ab6bad10a6206f6e0": {
          "model_module": "@jupyter-widgets/controls",
          "model_name": "VBoxModel",
          "model_module_version": "1.5.0",
          "state": {
            "_dom_classes": [],
            "_model_module": "@jupyter-widgets/controls",
            "_model_module_version": "1.5.0",
            "_model_name": "VBoxModel",
            "_view_count": null,
            "_view_module": "@jupyter-widgets/controls",
            "_view_module_version": "1.5.0",
            "_view_name": "VBoxView",
            "box_style": "",
            "children": [
              "IPY_MODEL_e08d41cacae342ee9d9f2a470c095835",
              "IPY_MODEL_f317c4fb2edc4593b7cac841c1d18b95"
            ],
            "layout": "IPY_MODEL_5cc0d198b5ec457984bc44c0275fdfbd"
          }
        },
        "e08d41cacae342ee9d9f2a470c095835": {
          "model_module": "@jupyter-widgets/controls",
          "model_name": "LabelModel",
          "model_module_version": "1.5.0",
          "state": {
            "_dom_classes": [],
            "_model_module": "@jupyter-widgets/controls",
            "_model_module_version": "1.5.0",
            "_model_name": "LabelModel",
            "_view_count": null,
            "_view_module": "@jupyter-widgets/controls",
            "_view_module_version": "1.5.0",
            "_view_name": "LabelView",
            "description": "",
            "description_tooltip": null,
            "layout": "IPY_MODEL_3d485ffc273042718cbe9449a483b16a",
            "placeholder": "​",
            "style": "IPY_MODEL_eebb3c07868b41cf92d4380bc1c54072",
            "value": "0.001 MB of 0.003 MB uploaded (0.000 MB deduped)\r"
          }
        },
        "f317c4fb2edc4593b7cac841c1d18b95": {
          "model_module": "@jupyter-widgets/controls",
          "model_name": "FloatProgressModel",
          "model_module_version": "1.5.0",
          "state": {
            "_dom_classes": [],
            "_model_module": "@jupyter-widgets/controls",
            "_model_module_version": "1.5.0",
            "_model_name": "FloatProgressModel",
            "_view_count": null,
            "_view_module": "@jupyter-widgets/controls",
            "_view_module_version": "1.5.0",
            "_view_name": "ProgressView",
            "bar_style": "",
            "description": "",
            "description_tooltip": null,
            "layout": "IPY_MODEL_61757a176a80497a93019c48303b421d",
            "max": 1,
            "min": 0,
            "orientation": "horizontal",
            "style": "IPY_MODEL_3967be79e6fb46e5b8ae7d78873965d5",
            "value": 0.42831412103746397
          }
        },
        "5cc0d198b5ec457984bc44c0275fdfbd": {
          "model_module": "@jupyter-widgets/base",
          "model_name": "LayoutModel",
          "model_module_version": "1.2.0",
          "state": {
            "_model_module": "@jupyter-widgets/base",
            "_model_module_version": "1.2.0",
            "_model_name": "LayoutModel",
            "_view_count": null,
            "_view_module": "@jupyter-widgets/base",
            "_view_module_version": "1.2.0",
            "_view_name": "LayoutView",
            "align_content": null,
            "align_items": null,
            "align_self": null,
            "border": null,
            "bottom": null,
            "display": null,
            "flex": null,
            "flex_flow": null,
            "grid_area": null,
            "grid_auto_columns": null,
            "grid_auto_flow": null,
            "grid_auto_rows": null,
            "grid_column": null,
            "grid_gap": null,
            "grid_row": null,
            "grid_template_areas": null,
            "grid_template_columns": null,
            "grid_template_rows": null,
            "height": null,
            "justify_content": null,
            "justify_items": null,
            "left": null,
            "margin": null,
            "max_height": null,
            "max_width": null,
            "min_height": null,
            "min_width": null,
            "object_fit": null,
            "object_position": null,
            "order": null,
            "overflow": null,
            "overflow_x": null,
            "overflow_y": null,
            "padding": null,
            "right": null,
            "top": null,
            "visibility": null,
            "width": null
          }
        },
        "3d485ffc273042718cbe9449a483b16a": {
          "model_module": "@jupyter-widgets/base",
          "model_name": "LayoutModel",
          "model_module_version": "1.2.0",
          "state": {
            "_model_module": "@jupyter-widgets/base",
            "_model_module_version": "1.2.0",
            "_model_name": "LayoutModel",
            "_view_count": null,
            "_view_module": "@jupyter-widgets/base",
            "_view_module_version": "1.2.0",
            "_view_name": "LayoutView",
            "align_content": null,
            "align_items": null,
            "align_self": null,
            "border": null,
            "bottom": null,
            "display": null,
            "flex": null,
            "flex_flow": null,
            "grid_area": null,
            "grid_auto_columns": null,
            "grid_auto_flow": null,
            "grid_auto_rows": null,
            "grid_column": null,
            "grid_gap": null,
            "grid_row": null,
            "grid_template_areas": null,
            "grid_template_columns": null,
            "grid_template_rows": null,
            "height": null,
            "justify_content": null,
            "justify_items": null,
            "left": null,
            "margin": null,
            "max_height": null,
            "max_width": null,
            "min_height": null,
            "min_width": null,
            "object_fit": null,
            "object_position": null,
            "order": null,
            "overflow": null,
            "overflow_x": null,
            "overflow_y": null,
            "padding": null,
            "right": null,
            "top": null,
            "visibility": null,
            "width": null
          }
        },
        "eebb3c07868b41cf92d4380bc1c54072": {
          "model_module": "@jupyter-widgets/controls",
          "model_name": "DescriptionStyleModel",
          "model_module_version": "1.5.0",
          "state": {
            "_model_module": "@jupyter-widgets/controls",
            "_model_module_version": "1.5.0",
            "_model_name": "DescriptionStyleModel",
            "_view_count": null,
            "_view_module": "@jupyter-widgets/base",
            "_view_module_version": "1.2.0",
            "_view_name": "StyleView",
            "description_width": ""
          }
        },
        "61757a176a80497a93019c48303b421d": {
          "model_module": "@jupyter-widgets/base",
          "model_name": "LayoutModel",
          "model_module_version": "1.2.0",
          "state": {
            "_model_module": "@jupyter-widgets/base",
            "_model_module_version": "1.2.0",
            "_model_name": "LayoutModel",
            "_view_count": null,
            "_view_module": "@jupyter-widgets/base",
            "_view_module_version": "1.2.0",
            "_view_name": "LayoutView",
            "align_content": null,
            "align_items": null,
            "align_self": null,
            "border": null,
            "bottom": null,
            "display": null,
            "flex": null,
            "flex_flow": null,
            "grid_area": null,
            "grid_auto_columns": null,
            "grid_auto_flow": null,
            "grid_auto_rows": null,
            "grid_column": null,
            "grid_gap": null,
            "grid_row": null,
            "grid_template_areas": null,
            "grid_template_columns": null,
            "grid_template_rows": null,
            "height": null,
            "justify_content": null,
            "justify_items": null,
            "left": null,
            "margin": null,
            "max_height": null,
            "max_width": null,
            "min_height": null,
            "min_width": null,
            "object_fit": null,
            "object_position": null,
            "order": null,
            "overflow": null,
            "overflow_x": null,
            "overflow_y": null,
            "padding": null,
            "right": null,
            "top": null,
            "visibility": null,
            "width": null
          }
        },
        "3967be79e6fb46e5b8ae7d78873965d5": {
          "model_module": "@jupyter-widgets/controls",
          "model_name": "ProgressStyleModel",
          "model_module_version": "1.5.0",
          "state": {
            "_model_module": "@jupyter-widgets/controls",
            "_model_module_version": "1.5.0",
            "_model_name": "ProgressStyleModel",
            "_view_count": null,
            "_view_module": "@jupyter-widgets/base",
            "_view_module_version": "1.2.0",
            "_view_name": "StyleView",
            "bar_color": null,
            "description_width": ""
          }
        }
      }
    }
  },
  "nbformat_minor": 0,
  "nbformat": 4,
  "cells": [
    {
      "cell_type": "markdown",
      "metadata": {
        "id": "view-in-github",
        "colab_type": "text"
      },
      "source": [
        "<a href=\"https://colab.research.google.com/github/nkampel/data_science_tutorial/blob/main/data_science_tutorial_may_5_HPO.ipynb\" target=\"_parent\"><img src=\"https://colab.research.google.com/assets/colab-badge.svg\" alt=\"Open In Colab\"/></a>"
      ]
    },
    {
      "cell_type": "markdown",
      "source": [
        "# Reference\n",
        "Notebook from: https://www.kaggle.com/code/mohamedchahed/brain-tumor-mri-classification-with-vgg19\n",
        "\n",
        "Modified for Datascience practical Presentation\n",
        "\n",
        "Original Author: MOHAMED CHAHED"
      ],
      "metadata": {
        "id": "rO1M70zdx7s-"
      }
    },
    {
      "cell_type": "markdown",
      "source": [
        "## This Notebook is an example for excecuting Hyperparameter Optimization (HPO) by using the cloud service \"Weights&Biases\"\n",
        "https://wandb.ai/site\n",
        "\n",
        "The beginning of this notebook is mostly identical with \"data_science_tutorial_may_5.ipynb\"\n",
        "In the lower part is an example for intergrating your training with \"W&B sweeps\", aka. HPO"
      ],
      "metadata": {
        "id": "rh0ozdL60Lwa"
      }
    },
    {
      "cell_type": "markdown",
      "source": [
        "Installing package:"
      ],
      "metadata": {
        "id": "xHRF-yertP_u"
      }
    },
    {
      "cell_type": "code",
      "source": [
        "!pip install imutils"
      ],
      "metadata": {
        "execution": {
          "iopub.status.busy": "2023-04-01T05:30:10.241071Z",
          "iopub.execute_input": "2023-04-01T05:30:10.24216Z",
          "iopub.status.idle": "2023-04-01T05:30:19.781464Z",
          "shell.execute_reply.started": "2023-04-01T05:30:10.242119Z",
          "shell.execute_reply": "2023-04-01T05:30:19.779965Z"
        },
        "trusted": true,
        "colab": {
          "base_uri": "https://localhost:8080/"
        },
        "id": "nnKbmwHhmlav",
        "outputId": "1d55af52-d014-4590-9658-61d468324b7a"
      },
      "execution_count": null,
      "outputs": [
        {
          "output_type": "stream",
          "name": "stdout",
          "text": [
            "Looking in indexes: https://pypi.org/simple, https://us-python.pkg.dev/colab-wheels/public/simple/\n",
            "Requirement already satisfied: imutils in /usr/local/lib/python3.10/dist-packages (0.5.4)\n"
          ]
        }
      ]
    },
    {
      "cell_type": "markdown",
      "source": [
        "Importing packages"
      ],
      "metadata": {
        "id": "n1M071hsDMAP"
      }
    },
    {
      "cell_type": "code",
      "source": [
        "# Import necessary libraries \n",
        "import os\n",
        "import numpy as np\n",
        "import cv2 \n",
        "import imutils\n",
        "import numpy as np\n",
        "from sklearn.model_selection import train_test_split\n",
        "import matplotlib.pyplot as plt\n",
        "from tensorflow.keras.applications.vgg19 import preprocess_input\n",
        "from tensorflow.keras.applications.vgg19 import VGG19\n",
        "from tensorflow.keras.preprocessing.image import ImageDataGenerator\n",
        "from tensorflow.keras.layers import Dense, GlobalAveragePooling2D,Flatten,BatchNormalization,Dropout\n",
        "from tensorflow.keras.models import Model\n",
        "from tensorflow.keras import Sequential\n",
        "from tensorflow.keras.optimizers import Adam\n",
        "from tensorflow.keras.callbacks import Callback\n",
        "from tensorflow.keras.callbacks import ReduceLROnPlateau\n",
        "from tensorflow.keras.callbacks import EarlyStopping\n",
        "from tensorflow.keras.backend import clear_session"
      ],
      "metadata": {
        "execution": {
          "iopub.status.busy": "2023-04-01T05:30:19.784285Z",
          "iopub.execute_input": "2023-04-01T05:30:19.785055Z",
          "iopub.status.idle": "2023-04-01T05:30:19.793572Z",
          "shell.execute_reply.started": "2023-04-01T05:30:19.785009Z",
          "shell.execute_reply": "2023-04-01T05:30:19.792489Z"
        },
        "trusted": true,
        "id": "rnrTreskmla0"
      },
      "execution_count": null,
      "outputs": []
    },
    {
      "cell_type": "markdown",
      "source": [
        "# Dataset Download\n",
        "\n",
        "**Download** the dataset:\n",
        "https://www.kaggle.com/datasets/navoneel/brain-mri-images-for-brain-tumor-detection"
      ],
      "metadata": {
        "id": "pQ0I21Obqvlc"
      }
    },
    {
      "cell_type": "code",
      "source": [
        "!git clone https://github.com/nkampel/data_science_tutorial.git;\n",
        "!unzip -o -qq data_science_tutorial/archive.zip;"
      ],
      "metadata": {
        "id": "CjYczOkWqiyA",
        "colab": {
          "base_uri": "https://localhost:8080/"
        },
        "outputId": "691659f9-9744-4bd0-c59d-9956b0307b40"
      },
      "execution_count": null,
      "outputs": [
        {
          "output_type": "stream",
          "name": "stdout",
          "text": [
            "fatal: destination path 'data_science_tutorial' already exists and is not an empty directory.\n"
          ]
        }
      ]
    },
    {
      "cell_type": "markdown",
      "source": [
        "# Cleaning Data\n",
        "\n",
        "We found that there where mislabled images in the dataset. So we  manualy, deleted them from the directory!"
      ],
      "metadata": {
        "id": "nTy33Evoz9Sp"
      }
    },
    {
      "cell_type": "code",
      "source": [
        "!rm no/N1.JPG no/N15.jpg no/N16.jpg no/N17.jpg"
      ],
      "metadata": {
        "id": "BejocryPy9eB"
      },
      "execution_count": null,
      "outputs": []
    },
    {
      "cell_type": "code",
      "source": [
        "#!mv -t yes/ no/N1.JPG no/N15.jpg no/N16.jpg no/N17.jpg"
      ],
      "metadata": {
        "id": "Pv2YiOIR1W7W"
      },
      "execution_count": null,
      "outputs": []
    },
    {
      "cell_type": "markdown",
      "source": [
        "# Sorting the Data\n",
        "\n",
        "Images are labelet according to expected outputs 'yes' is labeled as 1, 'no' is labeled as 0.\n",
        "\n",
        "Afterwards Data should be split as **test** and **training** data."
      ],
      "metadata": {
        "id": "SM3r8DAczFZd"
      }
    },
    {
      "cell_type": "code",
      "source": [
        "# Define the path to the dataset\n",
        "IMG_PATH = 'brain_tumor_dataset/'\n",
        "\n",
        "# Create a list of all the image filenames\n",
        "all_images = []\n",
        "for folder in ['yes', 'no']:\n",
        "    folder_path = os.path.join(IMG_PATH, folder)\n",
        "    for filename in os.listdir(folder_path):\n",
        "        \n",
        "         all_images.append(os.path.join(folder_path, filename))\n",
        "\n",
        "# Create a list of corresponding labels (0 for 'no', 1 for 'yes')\n",
        "labels = [1 if 'Y' in filename else 0 for filename in all_images]\n",
        "\n",
        "# Split the dataset into train, validation, and test sets\n",
        "X_train_val, X_test, y_train_val, y_test = train_test_split(all_images, labels, test_size=0.04, random_state=42)\n",
        "X_train, X_val, y_train, y_val = train_test_split(X_train_val, y_train_val, test_size=0.25, random_state=42)\n",
        "\n",
        "# Print the sizes of the resulting datasets\n",
        "print(f'Train set size: {len(X_train)}')\n",
        "print(f'Validation set size: {len(X_val)}')\n",
        "print(f'Test set size: {len(X_test)}')"
      ],
      "metadata": {
        "execution": {
          "iopub.status.busy": "2023-04-01T05:30:19.795596Z",
          "iopub.execute_input": "2023-04-01T05:30:19.796727Z",
          "iopub.status.idle": "2023-04-01T05:30:19.814471Z",
          "shell.execute_reply.started": "2023-04-01T05:30:19.796689Z",
          "shell.execute_reply": "2023-04-01T05:30:19.813511Z"
        },
        "trusted": true,
        "colab": {
          "base_uri": "https://localhost:8080/"
        },
        "id": "xRzMYaOmmla2",
        "outputId": "aaffa439-097b-404c-9840-f264072fae80"
      },
      "execution_count": null,
      "outputs": [
        {
          "output_type": "stream",
          "name": "stdout",
          "text": [
            "Train set size: 181\n",
            "Validation set size: 61\n",
            "Test set size: 11\n"
          ]
        }
      ]
    },
    {
      "cell_type": "markdown",
      "source": [
        "# Function for image preprocessing\n",
        "\n",
        "Images dataset is argument for this funtion.\n",
        "\n",
        "For every image it resizes the image with openCV and removes noise.\n",
        "\n",
        "Finds contours and then gets the biggest contour in the image. Next step is to find extreme points (lowest bottom, highest top, right and left coordinates of contour). \n",
        "\n",
        "Final step is to cut the image with those extreme points so unnecessary area will be removed and the area of the interest is left, afterwards **returns** numpy array of images."
      ],
      "metadata": {
        "id": "_jhJ5qmum8Nz"
      }
    },
    {
      "cell_type": "code",
      "source": [
        "def preprocess_images(images):\n",
        "    preprocessed_images = []\n",
        "    for i, img_path in enumerate(images):\n",
        "        img = cv2.imread(img_path)\n",
        "        img = cv2.resize(\n",
        "            img,\n",
        "            dsize=(224,224),\n",
        "            interpolation=cv2.INTER_CUBIC\n",
        "        )\n",
        "        gray = cv2.cvtColor(img, cv2.COLOR_RGB2GRAY)\n",
        "        gray = cv2.GaussianBlur(gray, (5, 5), 0)\n",
        "\n",
        "        # threshold the image, then perform a series of erosions +\n",
        "        # dilations to remove any small regions of noise\n",
        "        thresh = cv2.threshold(gray, 45, 255, cv2.THRESH_BINARY)[1]\n",
        "        thresh = cv2.erode(thresh, None, iterations=2)\n",
        "        thresh = cv2.dilate(thresh, None, iterations=2)\n",
        "\n",
        "        # find contours in thresholded image, then grab the largest one\n",
        "        cnts = cv2.findContours(thresh.copy(), cv2.RETR_EXTERNAL, cv2.CHAIN_APPROX_SIMPLE)\n",
        "        cnts = imutils.grab_contours(cnts)\n",
        "        c = max(cnts, key=cv2.contourArea)\n",
        "\n",
        "        # find the extreme points\n",
        "        extLeft = tuple(c[c[:, :, 0].argmin()][0])\n",
        "        extRight = tuple(c[c[:, :, 0].argmax()][0])\n",
        "        extTop = tuple(c[c[:, :, 1].argmin()][0])\n",
        "        extBot = tuple(c[c[:, :, 1].argmax()][0])\n",
        "\n",
        "        # crop\n",
        "        ADD_PIXELS = 0\n",
        "        new_img = img[extTop[1]-ADD_PIXELS:extBot[1]+ADD_PIXELS, extLeft[0]-ADD_PIXELS:extRight[0]+ADD_PIXELS].copy()\n",
        "        new_img = cv2.resize(\n",
        "            new_img,\n",
        "            dsize=(224,224))\n",
        "        preprocessed_images.append(new_img)\n",
        "    return np.array(preprocessed_images)"
      ],
      "metadata": {
        "execution": {
          "iopub.status.busy": "2023-04-01T05:30:20.619261Z",
          "iopub.execute_input": "2023-04-01T05:30:20.620077Z",
          "iopub.status.idle": "2023-04-01T05:30:20.632593Z",
          "shell.execute_reply.started": "2023-04-01T05:30:20.620035Z",
          "shell.execute_reply": "2023-04-01T05:30:20.631521Z"
        },
        "trusted": true,
        "id": "_abDzI_Wmla3"
      },
      "execution_count": null,
      "outputs": []
    },
    {
      "cell_type": "markdown",
      "source": [
        "# Apply the funtion\n",
        "\n",
        "Preprocessing function is applyed to **training**, **validation** and **test** datasets\n"
      ],
      "metadata": {
        "id": "fksNRpg8pqxH"
      }
    },
    {
      "cell_type": "code",
      "source": [
        "# Apply the preprocessing to all the data subsets \n",
        "X_train_pre = preprocess_images(X_train)\n",
        "X_val_pre = preprocess_images(X_val)\n",
        "X_test_pre = preprocess_images(X_test)"
      ],
      "metadata": {
        "execution": {
          "iopub.status.busy": "2023-04-01T05:30:20.633896Z",
          "iopub.execute_input": "2023-04-01T05:30:20.634358Z",
          "iopub.status.idle": "2023-04-01T05:30:21.659631Z",
          "shell.execute_reply.started": "2023-04-01T05:30:20.634321Z",
          "shell.execute_reply": "2023-04-01T05:30:21.658491Z"
        },
        "trusted": true,
        "id": "H5lWCd8fmla5"
      },
      "execution_count": null,
      "outputs": []
    },
    {
      "cell_type": "code",
      "source": [
        "# Transform the subsets to numpy arrays \n",
        "X_train_pre_vgg = np.array([preprocess_input(image) for image in X_train_pre])\n",
        "X_val_pre_vgg = np.array([preprocess_input(image) for image in X_val_pre])\n",
        "X_test_pre_vgg = np.array([preprocess_input(image) for image in X_test_pre])"
      ],
      "metadata": {
        "execution": {
          "iopub.status.busy": "2023-04-01T05:30:21.661413Z",
          "iopub.execute_input": "2023-04-01T05:30:21.662169Z",
          "iopub.status.idle": "2023-04-01T05:30:21.871008Z",
          "shell.execute_reply.started": "2023-04-01T05:30:21.662128Z",
          "shell.execute_reply": "2023-04-01T05:30:21.869887Z"
        },
        "trusted": true,
        "id": "50qKPsXKmla5"
      },
      "execution_count": null,
      "outputs": []
    },
    {
      "cell_type": "markdown",
      "source": [
        "## Hyper Parameter Optimization (HPO) with W&B\n",
        "- Create a W&B account at https://wandb.ai\n",
        "then search for API key here: https://wandb.ai/settings\n",
        "provide your API key when asked, in the next cell:\n",
        "- install and import nessesary packages!"
      ],
      "metadata": {
        "id": "ExGes_qlTN2X"
      }
    },
    {
      "cell_type": "code",
      "source": [
        "!pip install -Uq wandb\n",
        "import wandb\n",
        "import pprint\n",
        "import math\n",
        "from wandb.keras import WandbMetricsLogger, WandbModelCheckpoint\n",
        "\n",
        "wandb.login()"
      ],
      "metadata": {
        "colab": {
          "base_uri": "https://localhost:8080/"
        },
        "id": "BsGm21E5TbvK",
        "outputId": "1d120f57-84c0-47c8-f513-8f993f465c95"
      },
      "execution_count": null,
      "outputs": [
        {
          "output_type": "execute_result",
          "data": {
            "text/plain": [
              "True"
            ]
          },
          "metadata": {},
          "execution_count": 26
        }
      ]
    },
    {
      "cell_type": "markdown",
      "source": [
        "## Rewrite your training code into two functions:\n",
        "\n",
        "The \"train\" function contains mostly the code from the data_science_tutorial_may_5.ipynb\n",
        "But you need to add the following parts:\n",
        "- Possible hyperparameters as function arguments\n",
        "- In this example we added \"augmentation_multiplier\" as hyperparameter,\n",
        "it controlls the amount of variation in the augmentation step.\n",
        "- clear_session() in the beginning, so that the model is overwritten every time the function is excecuted by the sweep agent\n",
        "- wandb_callbacks for logging the temporal dynamics of the model during training.\n",
        "- a final evaluation of the best model is being performed and provided as return values of the function\n",
        "\n"
      ],
      "metadata": {
        "id": "AUY9A-u_kAYN"
      }
    },
    {
      "cell_type": "code",
      "source": [
        "def train(epochs=50, dropout=0.5,learning_rate=0.001, augmentation_multiplier=1.):\n",
        "\n",
        "    # Clear old Keras session to start a new run\n",
        "    clear_session()\n",
        "    \n",
        "    # Load the pre-trained VGG19 model\n",
        "    base_model = VGG19(\n",
        "    weights='imagenet',\n",
        "    include_top=False,\n",
        "    input_shape=(224,224) + (3,)\n",
        "    )\n",
        "\n",
        "    # Create a new model by adding a few layers on top of the pre-trained model\n",
        "    model = Sequential()\n",
        "    model.add(base_model)\n",
        "    model.add(Flatten())\n",
        "    model.add(Dropout(dropout))\n",
        "    model.add(Dense(1, activation='sigmoid'))\n",
        "\n",
        "    # Freeze the weights of the pre-trained model\n",
        "    model.layers[0].trainable = False\n",
        "\n",
        "    # Compile the model with appropriate loss function, optimizer and metrics\n",
        "    model.compile(\n",
        "    loss='binary_crossentropy',\n",
        "    optimizer=Adam(learning_rate),\n",
        "    metrics=['accuracy']\n",
        "    )\n",
        "\n",
        "    # Print the summary of the model\n",
        "    model.summary()\n",
        "\n",
        "    # Define the training data generator with necessary data augmentation techniques\n",
        "    train_datagen = ImageDataGenerator(\n",
        "    rescale=1./255,\n",
        "    rotation_range=20*augmentation_multiplier,\n",
        "    width_shift_range=0.1*augmentation_multiplier,\n",
        "    height_shift_range=0.1*augmentation_multiplier,\n",
        "    shear_range=0.2*augmentation_multiplier,\n",
        "    zoom_range=0.2*augmentation_multiplier,\n",
        "    horizontal_flip=True,\n",
        "    fill_mode='nearest'\n",
        "    )\n",
        "\n",
        "    # Create the training data generator using the training dataset and the data generator\n",
        "    train_generator = train_datagen.flow(\n",
        "    X_train_pre_vgg,\n",
        "    y_train,\n",
        "    batch_size=32\n",
        "    )\n",
        "\n",
        "    # Define a callback to reduce the learning rate when the validation accuracy plateaus\n",
        "    reduce_lr = ReduceLROnPlateau(monitor='val_accuracy', factor=0.5, patience=5, min_lr=1e-5)\n",
        "    early_stopping = EarlyStopping(monitor='val_loss', patience=3,\n",
        "                                restore_best_weights=True)\n",
        "\n",
        "    # Define the validation data generator with appropriate data preprocessing\n",
        "    val_datagen = ImageDataGenerator(rescale=1./255)\n",
        "\n",
        "    # Create the validation data generator using the validation dataset and the data generator\n",
        "    val_generator = val_datagen.flow(X_val_pre_vgg, y_val, batch_size=18)\n",
        "\n",
        "    # Wandb callbacks are important for logging all training steps to wandb\n",
        "    wandb_callbacks = [\n",
        "        WandbMetricsLogger()\n",
        "    ]\n",
        "\n",
        "\n",
        "    # Train the model using the training data generator, validation data generator and the defined callbacks\n",
        "    history = model.fit(\n",
        "    train_generator,\n",
        "    epochs=epochs,\n",
        "    validation_data=val_generator,\n",
        "    callbacks=[reduce_lr, early_stopping, wandb_callbacks] # WANDB Callbacks added\n",
        "    )\n",
        "\n",
        "    # Evaluate best model on validation set without augmentation:\n",
        "    results = model.evaluate(X_val_pre_vgg, np.array(y_val), batch_size=64)\n",
        "    final_val_loss, final_val_accuracy = results[0], results[1]\n",
        "    print(f'final_val_loss : {final_val_loss}')\n",
        "    print(f'final_val_accuracy : {final_val_accuracy}')\n",
        "    return final_val_loss, final_val_accuracy"
      ],
      "metadata": {
        "execution": {
          "iopub.status.busy": "2023-04-01T05:35:57.450027Z",
          "iopub.execute_input": "2023-04-01T05:35:57.451Z",
          "iopub.status.idle": "2023-04-01T05:36:53.443163Z",
          "shell.execute_reply.started": "2023-04-01T05:35:57.45096Z",
          "shell.execute_reply": "2023-04-01T05:36:53.442148Z"
        },
        "trusted": true,
        "id": "e_5rYp8_XRov"
      },
      "execution_count": null,
      "outputs": []
    },
    {
      "cell_type": "markdown",
      "source": [
        "The \"sweep_train\" function wraps the train so that it can load a different configuration every time a run is executet.\n",
        "- you may whant to add additional meta data to the config, that is being common for all the runs that are going to be performed.\n",
        "- then the \"train\" function is executet and evaluated\n",
        "- finaly log the final results to W&B"
      ],
      "metadata": {
        "id": "eXh07sZY5jXg"
      }
    },
    {
      "cell_type": "code",
      "source": [
        "def sweep_train(config_defaults=None):\n",
        "    # Initialize wandb with a sample project name\n",
        "    with wandb.init(config=config_defaults):  # this gets over-written in the Sweep\n",
        "\n",
        "        # Specify the other hyperparameters to the configuration, if any\n",
        "        wandb.config.architecture_name = \"VGG19\"\n",
        "        wandb.config.dataset_name = \"brain-tumor-mri\"\n",
        "\n",
        "        # initialize model\n",
        "        final_val_loss, final_val_accuracy = train(\n",
        "            wandb.config.epochs, \n",
        "            wandb.config.dropout,\n",
        "            wandb.config.learning_rate,\n",
        "            wandb.config.augmentation_multiplier)\n",
        "        \n",
        "        wandb.log({\"final_val_loss\": final_val_loss,\n",
        "                   \"final_val_accuracy\": final_val_accuracy})"
      ],
      "metadata": {
        "id": "JyzQBSOi5iUB"
      },
      "execution_count": null,
      "outputs": []
    },
    {
      "cell_type": "markdown",
      "source": [
        "## Next, we are going to define the parameters to be investigated:\n",
        "- We will use a random search for investigating the parameters.\n",
        "- As the brain-tumor-mri dataset is very small, the model is very prone to overfitting.\n",
        "- Therfore we are mostly interested in parameters controlling the regularization of the model.\n",
        "- you can find more information about different search strategies here: https://docs.wandb.ai/guides/sweeps/define-sweep-configuration"
      ],
      "metadata": {
        "id": "c0vTnjp4n_8k"
      }
    },
    {
      "cell_type": "code",
      "source": [
        "sweep_config = {\n",
        "    'method': 'random'\n",
        "    }\n",
        "\n",
        "metric = {\n",
        "    'name': 'val_loss',\n",
        "    'goal': 'minimize'   \n",
        "    }\n",
        "\n",
        "sweep_config['metric'] = metric\n",
        "\n",
        "parameters_dict = {\n",
        "    'epochs': {'value': 50},\n",
        "    'learning_rate': {\n",
        "        'distribution': 'uniform',\n",
        "        'min': 0.0001,\n",
        "        'max': 0.01},\n",
        "    'augmentation_multiplier': {\n",
        "        'distribution': 'uniform',\n",
        "        'min': 0.0,\n",
        "        'max': 2.0},\n",
        "    'dropout': {'values': [0.3, 0.4, 0.5, 0.3, 0.7]}\n",
        "    }\n",
        "\n",
        "sweep_config['parameters'] = parameters_dict\n",
        "\n",
        "pprint.pprint(sweep_config)"
      ],
      "metadata": {
        "colab": {
          "base_uri": "https://localhost:8080/"
        },
        "id": "ZEnKMSp0YuIB",
        "outputId": "d7065cc8-cc6f-4ea5-d702-959f5b80367d"
      },
      "execution_count": null,
      "outputs": [
        {
          "output_type": "stream",
          "name": "stdout",
          "text": [
            "{'method': 'random',\n",
            " 'metric': {'goal': 'minimize', 'name': 'val_loss'},\n",
            " 'parameters': {'augmentation_multiplier': {'distribution': 'uniform',\n",
            "                                            'max': 2.0,\n",
            "                                            'min': 0.0},\n",
            "                'dropout': {'values': [0.3, 0.4, 0.5, 0.3, 0.7]},\n",
            "                'epochs': {'value': 50},\n",
            "                'learning_rate': {'distribution': 'uniform',\n",
            "                                  'max': 0.01,\n",
            "                                  'min': 0.0001}}}\n"
          ]
        }
      ]
    },
    {
      "cell_type": "markdown",
      "source": [
        "## Run the hyperparameter search.\n",
        "- higher count means better exploration, but longer runtimes.\n",
        "- in practice it is good to get a first impression of the parameter space and reducing it within an iterative approach\n",
        "\n"
      ],
      "metadata": {
        "id": "69RGxzL-4QK-"
      }
    },
    {
      "cell_type": "code",
      "source": [
        "sweep_id = wandb.sweep(sweep_config, project=\"DS_Tutorial_V1\")\n",
        "print(sweep_id)\n",
        "wandb.agent(sweep_id, function=sweep_train, count=20)"
      ],
      "metadata": {
        "colab": {
          "base_uri": "https://localhost:8080/",
          "height": 1000,
          "referenced_widgets": [
            "3b1e6a0dc5f64cf1bda8c39f1c68b6ad",
            "5169da1f9e754764b984c8064d9d3936",
            "b4b496c74f814cfb9d794c09de55c08f",
            "27fb93df7ac4445f82a55562c3842fc2",
            "8a1748a45fe84f80bb4c84dacea5cf3a",
            "a96433299be648139f2ce026216159d4",
            "60a5b4f748584537b3268b870fef2383",
            "44f78cdfa200453b87971df5661cf6b6",
            "107d587038e740a0b124382d2a4df108",
            "74e4017a19554bcf8c05433c3a7c6777",
            "478511e3799c4617b0d0c288c1ac9227",
            "09cdca6bfbf1435e81233ff56036e820",
            "8acc511660e74d3bbf84ecbd2500dbc9",
            "33a1903c704543f3881cc1bc1746c9cb",
            "add0789c198347febccf57611ecef3ef",
            "f446f29580334d948c081ce4a49f66ff",
            "c57be8a1281c4a7983aa2dd42c68abbb",
            "a819ee098eb94b9badafb3841dce4010",
            "2ab8e6c1e39049a0a5ca58be4f27bc07",
            "52fb65eaff5e4a8a8583fad698f86ed1",
            "f1f85d81cd324eae9363eb536c0b6118",
            "42448b26a34e4dc8b98a06f4af0c1a91",
            "9e16d17ff43a4457a6d129590ce012f6",
            "f47b27a6b3c74c73b90741ba9f328b9a",
            "b50cb86f08c149cf8d3ded1604eac92b",
            "3cf7412cea57433e88758d8157b3b912",
            "eb9e16d9edd14e0ea113d3fc07bc7c17",
            "1c65b73e402e4c7784766455a44133b2",
            "d5f84f905df9456d80187b8eb2bad059",
            "62cc6f53385a4c8583bc0e4845ee6dd2",
            "313a03de9e4047b9845d4897ea3b8538",
            "488bf51d9c2848478bd0ba9b27deb1c8",
            "79c0e8ec58844b52a3984037a74e02ba",
            "da75ee93b7fe40099a77503195caafb4",
            "981e5a63915d43d98c08edb629fb3dc8",
            "ac52153e563d41139f800416a914aabe",
            "2ca8f3c4e78442b8bfb3bbaa71ba1bec",
            "7a3d92804ba14d5aa59296f86b11470f",
            "97f7c9f0b2ef499fa7e8cd77aa3e633d",
            "6ba1deec0d8f45ce827b96d7160d5c52",
            "04f39b191a24447394f6714e82bb1614",
            "d526547c23c641baa0f3c0afbae0295c",
            "4962e03ea17a4000b8caf40e88940eb8",
            "a959b67e4ac344a3990853201fcf8be2",
            "6775148267e4421da4998ef85c06e4d5",
            "32d0c0c9f6474e5abe31027974c2dff0",
            "af0974fa3ba1426f9a5446a7db89297a",
            "f5f91a48e6614a8e9a3a95c294eeb33a",
            "3be02223a3f1466d9bb01a9ea76609b5",
            "16011a7385ce48039c113f1f54e47605",
            "3ca7015d8cc74c50a7912c713c53236e",
            "e18eb4ed963341328dbedf5218b5101b",
            "326a6382aa374583aa6e1ea3ac6127ed",
            "404ab2316bb74579966b0935e11b2cd9",
            "cf0ce79cbc074f058028beb220967018",
            "861fa16614704222b2bc75958777b547",
            "0d1df08d4450412e937038f447bbb517",
            "58ae55120fc64cfaa1d56c20fc4dce69",
            "4b427af2a22242aeb0fc391ac58c3ef3",
            "00d7546860814e75a0de2052ed9d2073",
            "701c11b064d3495faaf3b3acdface28e",
            "2530a6afcfa94d2f8d75f748baea3995",
            "2534d415070a493b90c9b3c97b4aca2e",
            "2dd628d7de46437fbe1c1ac0b8861d89",
            "48b302e5d3104efd900b2f5f6212605a",
            "a02d7555323443aabbee7e300a10c0b1",
            "6025f7fa7caa4b91ac52364f19a46456",
            "4e2ec5f28c4d452f9908ad73b1244029",
            "49e2b5ce9b034c5e85b99bec35729a40",
            "ab1393146e6b4d8697c2ceedaaae7ff0",
            "00302c95ea3945f987e53e4d1771be52",
            "aaaa833aa5f14a2298e74b05a3e49fa9",
            "d88eb8f6ab88442ab6bad10a6206f6e0",
            "e08d41cacae342ee9d9f2a470c095835",
            "f317c4fb2edc4593b7cac841c1d18b95",
            "5cc0d198b5ec457984bc44c0275fdfbd",
            "3d485ffc273042718cbe9449a483b16a",
            "eebb3c07868b41cf92d4380bc1c54072",
            "61757a176a80497a93019c48303b421d",
            "3967be79e6fb46e5b8ae7d78873965d5"
          ]
        },
        "id": "l2mOhtjldNsi",
        "outputId": "c137b711-5d56-49ea-82dc-55db8a4bff92"
      },
      "execution_count": null,
      "outputs": [
        {
          "output_type": "stream",
          "name": "stdout",
          "text": [
            "Create sweep with ID: xqa6ct2t\n",
            "Sweep URL: https://wandb.ai/nikofzj/DS_Tutorial_V1/sweeps/xqa6ct2t\n",
            "xqa6ct2t\n"
          ]
        },
        {
          "output_type": "stream",
          "name": "stderr",
          "text": [
            "\u001b[34m\u001b[1mwandb\u001b[0m: Agent Starting Run: cq1p10dm with config:\n",
            "\u001b[34m\u001b[1mwandb\u001b[0m: \taugmentation_multiplier: 0.06769023628139315\n",
            "\u001b[34m\u001b[1mwandb\u001b[0m: \tdropout: 0.4\n",
            "\u001b[34m\u001b[1mwandb\u001b[0m: \tepochs: 50\n",
            "\u001b[34m\u001b[1mwandb\u001b[0m: \tlearning_rate: 0.00013659583789658145\n"
          ]
        },
        {
          "output_type": "display_data",
          "data": {
            "text/plain": [
              "<IPython.core.display.HTML object>"
            ],
            "text/html": [
              "Tracking run with wandb version 0.15.0"
            ]
          },
          "metadata": {}
        },
        {
          "output_type": "display_data",
          "data": {
            "text/plain": [
              "<IPython.core.display.HTML object>"
            ],
            "text/html": [
              "Run data is saved locally in <code>/content/wandb/run-20230502_103645-cq1p10dm</code>"
            ]
          },
          "metadata": {}
        },
        {
          "output_type": "display_data",
          "data": {
            "text/plain": [
              "<IPython.core.display.HTML object>"
            ],
            "text/html": [
              "Syncing run <strong><a href='https://wandb.ai/nikofzj/DS_Tutorial_V1/runs/cq1p10dm' target=\"_blank\">spring-sweep-1</a></strong> to <a href='https://wandb.ai/nikofzj/DS_Tutorial_V1' target=\"_blank\">Weights & Biases</a> (<a href='https://wandb.me/run' target=\"_blank\">docs</a>)<br/>Sweep page: <a href='https://wandb.ai/nikofzj/DS_Tutorial_V1/sweeps/xqa6ct2t' target=\"_blank\">https://wandb.ai/nikofzj/DS_Tutorial_V1/sweeps/xqa6ct2t</a>"
            ]
          },
          "metadata": {}
        },
        {
          "output_type": "display_data",
          "data": {
            "text/plain": [
              "<IPython.core.display.HTML object>"
            ],
            "text/html": [
              " View project at <a href='https://wandb.ai/nikofzj/DS_Tutorial_V1' target=\"_blank\">https://wandb.ai/nikofzj/DS_Tutorial_V1</a>"
            ]
          },
          "metadata": {}
        },
        {
          "output_type": "display_data",
          "data": {
            "text/plain": [
              "<IPython.core.display.HTML object>"
            ],
            "text/html": [
              " View sweep at <a href='https://wandb.ai/nikofzj/DS_Tutorial_V1/sweeps/xqa6ct2t' target=\"_blank\">https://wandb.ai/nikofzj/DS_Tutorial_V1/sweeps/xqa6ct2t</a>"
            ]
          },
          "metadata": {}
        },
        {
          "output_type": "display_data",
          "data": {
            "text/plain": [
              "<IPython.core.display.HTML object>"
            ],
            "text/html": [
              " View run at <a href='https://wandb.ai/nikofzj/DS_Tutorial_V1/runs/cq1p10dm' target=\"_blank\">https://wandb.ai/nikofzj/DS_Tutorial_V1/runs/cq1p10dm</a>"
            ]
          },
          "metadata": {}
        },
        {
          "output_type": "stream",
          "name": "stdout",
          "text": [
            "Model: \"sequential\"\n",
            "_________________________________________________________________\n",
            " Layer (type)                Output Shape              Param #   \n",
            "=================================================================\n",
            " vgg19 (Functional)          (None, 7, 7, 512)         20024384  \n",
            "                                                                 \n",
            " flatten (Flatten)           (None, 25088)             0         \n",
            "                                                                 \n",
            " dropout (Dropout)           (None, 25088)             0         \n",
            "                                                                 \n",
            " dense (Dense)               (None, 1)                 25089     \n",
            "                                                                 \n",
            "=================================================================\n",
            "Total params: 20,049,473\n",
            "Trainable params: 25,089\n",
            "Non-trainable params: 20,024,384\n",
            "_________________________________________________________________\n",
            "Epoch 1/50\n",
            "6/6 [==============================] - 5s 597ms/step - loss: 0.8629 - accuracy: 0.4641 - val_loss: 0.6003 - val_accuracy: 0.7049 - lr: 1.3660e-04\n",
            "Epoch 2/50\n",
            "6/6 [==============================] - 3s 475ms/step - loss: 0.7651 - accuracy: 0.5746 - val_loss: 0.5590 - val_accuracy: 0.7049 - lr: 1.3660e-04\n",
            "Epoch 3/50\n",
            "6/6 [==============================] - 3s 429ms/step - loss: 0.6720 - accuracy: 0.6133 - val_loss: 0.5981 - val_accuracy: 0.7541 - lr: 1.3660e-04\n",
            "Epoch 4/50\n",
            "6/6 [==============================] - 3s 435ms/step - loss: 0.6794 - accuracy: 0.5801 - val_loss: 0.5172 - val_accuracy: 0.8033 - lr: 1.3660e-04\n",
            "Epoch 5/50\n",
            "6/6 [==============================] - 3s 436ms/step - loss: 0.6190 - accuracy: 0.6575 - val_loss: 0.4951 - val_accuracy: 0.8033 - lr: 1.3660e-04\n",
            "Epoch 6/50\n",
            "6/6 [==============================] - 3s 438ms/step - loss: 0.5773 - accuracy: 0.7569 - val_loss: 0.4888 - val_accuracy: 0.7869 - lr: 1.3660e-04\n",
            "Epoch 7/50\n",
            "6/6 [==============================] - 3s 424ms/step - loss: 0.5246 - accuracy: 0.7238 - val_loss: 0.4945 - val_accuracy: 0.7705 - lr: 1.3660e-04\n",
            "Epoch 8/50\n",
            "6/6 [==============================] - 3s 501ms/step - loss: 0.5712 - accuracy: 0.6851 - val_loss: 0.4638 - val_accuracy: 0.8033 - lr: 1.3660e-04\n",
            "Epoch 9/50\n",
            "6/6 [==============================] - 3s 555ms/step - loss: 0.4999 - accuracy: 0.7514 - val_loss: 0.4520 - val_accuracy: 0.8033 - lr: 1.3660e-04\n",
            "Epoch 10/50\n",
            "6/6 [==============================] - 3s 438ms/step - loss: 0.5271 - accuracy: 0.7017 - val_loss: 0.4595 - val_accuracy: 0.7705 - lr: 6.8298e-05\n",
            "Epoch 11/50\n",
            "6/6 [==============================] - 3s 438ms/step - loss: 0.4904 - accuracy: 0.7735 - val_loss: 0.4698 - val_accuracy: 0.7705 - lr: 6.8298e-05\n",
            "Epoch 12/50\n",
            "6/6 [==============================] - 3s 446ms/step - loss: 0.4810 - accuracy: 0.7845 - val_loss: 0.4563 - val_accuracy: 0.7705 - lr: 6.8298e-05\n",
            "1/1 [==============================] - 0s 350ms/step - loss: 2.4233 - accuracy: 0.8197\n",
            "final_val_loss : 2.4233250617980957\n",
            "final_val_accuracy : 0.8196721076965332\n"
          ]
        },
        {
          "output_type": "display_data",
          "data": {
            "text/plain": [
              "<IPython.core.display.HTML object>"
            ],
            "text/html": [
              "Waiting for W&B process to finish... <strong style=\"color:green\">(success).</strong>"
            ]
          },
          "metadata": {}
        },
        {
          "output_type": "display_data",
          "data": {
            "text/plain": [
              "<IPython.core.display.HTML object>"
            ],
            "text/html": [
              "<style>\n",
              "    table.wandb td:nth-child(1) { padding: 0 10px; text-align: left ; width: auto;} td:nth-child(2) {text-align: left ; width: 100%}\n",
              "    .wandb-row { display: flex; flex-direction: row; flex-wrap: wrap; justify-content: flex-start; width: 100% }\n",
              "    .wandb-col { display: flex; flex-direction: column; flex-basis: 100%; flex: 1; padding: 10px; }\n",
              "    </style>\n",
              "<div class=\"wandb-row\"><div class=\"wandb-col\"><h3>Run history:</h3><br/><table class=\"wandb\"><tr><td>epoch/accuracy</td><td>▁▃▄▄▅▇▇▆▇▆██</td></tr><tr><td>epoch/epoch</td><td>▁▂▂▃▄▄▅▅▆▇▇█</td></tr><tr><td>epoch/learning_rate</td><td>████████▁▁▁▁</td></tr><tr><td>epoch/loss</td><td>█▆▅▅▄▃▂▃▁▂▁▁</td></tr><tr><td>epoch/lr</td><td>█████████▁▁▁</td></tr><tr><td>epoch/val_accuracy</td><td>▁▁▅██▇▆██▆▆▆</td></tr><tr><td>epoch/val_loss</td><td>█▆█▄▃▃▃▂▁▁▂▁</td></tr><tr><td>final_val_accuracy</td><td>▁</td></tr><tr><td>final_val_loss</td><td>▁</td></tr></table><br/></div><div class=\"wandb-col\"><h3>Run summary:</h3><br/><table class=\"wandb\"><tr><td>epoch/accuracy</td><td>0.78453</td></tr><tr><td>epoch/epoch</td><td>11</td></tr><tr><td>epoch/learning_rate</td><td>7e-05</td></tr><tr><td>epoch/loss</td><td>0.48096</td></tr><tr><td>epoch/lr</td><td>7e-05</td></tr><tr><td>epoch/val_accuracy</td><td>0.77049</td></tr><tr><td>epoch/val_loss</td><td>0.45627</td></tr><tr><td>final_val_accuracy</td><td>0.81967</td></tr><tr><td>final_val_loss</td><td>2.42333</td></tr></table><br/></div></div>"
            ]
          },
          "metadata": {}
        },
        {
          "output_type": "display_data",
          "data": {
            "text/plain": [
              "<IPython.core.display.HTML object>"
            ],
            "text/html": [
              " View run <strong style=\"color:#cdcd00\">spring-sweep-1</strong> at: <a href='https://wandb.ai/nikofzj/DS_Tutorial_V1/runs/cq1p10dm' target=\"_blank\">https://wandb.ai/nikofzj/DS_Tutorial_V1/runs/cq1p10dm</a><br/>Synced 5 W&B file(s), 0 media file(s), 0 artifact file(s) and 0 other file(s)"
            ]
          },
          "metadata": {}
        },
        {
          "output_type": "display_data",
          "data": {
            "text/plain": [
              "<IPython.core.display.HTML object>"
            ],
            "text/html": [
              "Find logs at: <code>./wandb/run-20230502_103645-cq1p10dm/logs</code>"
            ]
          },
          "metadata": {}
        },
        {
          "output_type": "stream",
          "name": "stderr",
          "text": [
            "\u001b[34m\u001b[1mwandb\u001b[0m: Agent Starting Run: zs4gshko with config:\n",
            "\u001b[34m\u001b[1mwandb\u001b[0m: \taugmentation_multiplier: 0.508191591770645\n",
            "\u001b[34m\u001b[1mwandb\u001b[0m: \tdropout: 0.4\n",
            "\u001b[34m\u001b[1mwandb\u001b[0m: \tepochs: 50\n",
            "\u001b[34m\u001b[1mwandb\u001b[0m: \tlearning_rate: 0.0006399341601006144\n"
          ]
        },
        {
          "output_type": "display_data",
          "data": {
            "text/plain": [
              "<IPython.core.display.HTML object>"
            ],
            "text/html": [
              "Tracking run with wandb version 0.15.0"
            ]
          },
          "metadata": {}
        },
        {
          "output_type": "display_data",
          "data": {
            "text/plain": [
              "<IPython.core.display.HTML object>"
            ],
            "text/html": [
              "Run data is saved locally in <code>/content/wandb/run-20230502_103736-zs4gshko</code>"
            ]
          },
          "metadata": {}
        },
        {
          "output_type": "display_data",
          "data": {
            "text/plain": [
              "<IPython.core.display.HTML object>"
            ],
            "text/html": [
              "Syncing run <strong><a href='https://wandb.ai/nikofzj/DS_Tutorial_V1/runs/zs4gshko' target=\"_blank\">lyric-sweep-2</a></strong> to <a href='https://wandb.ai/nikofzj/DS_Tutorial_V1' target=\"_blank\">Weights & Biases</a> (<a href='https://wandb.me/run' target=\"_blank\">docs</a>)<br/>Sweep page: <a href='https://wandb.ai/nikofzj/DS_Tutorial_V1/sweeps/xqa6ct2t' target=\"_blank\">https://wandb.ai/nikofzj/DS_Tutorial_V1/sweeps/xqa6ct2t</a>"
            ]
          },
          "metadata": {}
        },
        {
          "output_type": "display_data",
          "data": {
            "text/plain": [
              "<IPython.core.display.HTML object>"
            ],
            "text/html": [
              " View project at <a href='https://wandb.ai/nikofzj/DS_Tutorial_V1' target=\"_blank\">https://wandb.ai/nikofzj/DS_Tutorial_V1</a>"
            ]
          },
          "metadata": {}
        },
        {
          "output_type": "display_data",
          "data": {
            "text/plain": [
              "<IPython.core.display.HTML object>"
            ],
            "text/html": [
              " View sweep at <a href='https://wandb.ai/nikofzj/DS_Tutorial_V1/sweeps/xqa6ct2t' target=\"_blank\">https://wandb.ai/nikofzj/DS_Tutorial_V1/sweeps/xqa6ct2t</a>"
            ]
          },
          "metadata": {}
        },
        {
          "output_type": "display_data",
          "data": {
            "text/plain": [
              "<IPython.core.display.HTML object>"
            ],
            "text/html": [
              " View run at <a href='https://wandb.ai/nikofzj/DS_Tutorial_V1/runs/zs4gshko' target=\"_blank\">https://wandb.ai/nikofzj/DS_Tutorial_V1/runs/zs4gshko</a>"
            ]
          },
          "metadata": {}
        },
        {
          "output_type": "stream",
          "name": "stdout",
          "text": [
            "Model: \"sequential\"\n",
            "_________________________________________________________________\n",
            " Layer (type)                Output Shape              Param #   \n",
            "=================================================================\n",
            " vgg19 (Functional)          (None, 7, 7, 512)         20024384  \n",
            "                                                                 \n",
            " flatten (Flatten)           (None, 25088)             0         \n",
            "                                                                 \n",
            " dropout (Dropout)           (None, 25088)             0         \n",
            "                                                                 \n",
            " dense (Dense)               (None, 1)                 25089     \n",
            "                                                                 \n",
            "=================================================================\n",
            "Total params: 20,049,473\n",
            "Trainable params: 25,089\n",
            "Non-trainable params: 20,024,384\n",
            "_________________________________________________________________\n",
            "Epoch 1/50\n",
            "6/6 [==============================] - 5s 694ms/step - loss: 0.7490 - accuracy: 0.5912 - val_loss: 0.5189 - val_accuracy: 0.7541 - lr: 6.3993e-04\n",
            "Epoch 2/50\n",
            "6/6 [==============================] - 3s 434ms/step - loss: 0.6358 - accuracy: 0.6575 - val_loss: 0.5861 - val_accuracy: 0.6885 - lr: 6.3993e-04\n",
            "Epoch 3/50\n",
            "6/6 [==============================] - 3s 441ms/step - loss: 0.5901 - accuracy: 0.7182 - val_loss: 0.4450 - val_accuracy: 0.8033 - lr: 6.3993e-04\n",
            "Epoch 4/50\n",
            "6/6 [==============================] - 3s 454ms/step - loss: 0.5240 - accuracy: 0.7348 - val_loss: 0.4331 - val_accuracy: 0.8033 - lr: 6.3993e-04\n",
            "Epoch 5/50\n",
            "6/6 [==============================] - 3s 519ms/step - loss: 0.4604 - accuracy: 0.7569 - val_loss: 0.3979 - val_accuracy: 0.7705 - lr: 6.3993e-04\n",
            "Epoch 6/50\n",
            "6/6 [==============================] - 3s 554ms/step - loss: 0.4288 - accuracy: 0.8343 - val_loss: 0.4101 - val_accuracy: 0.8033 - lr: 6.3993e-04\n",
            "Epoch 7/50\n",
            "6/6 [==============================] - 3s 443ms/step - loss: 0.4231 - accuracy: 0.7845 - val_loss: 0.3807 - val_accuracy: 0.8033 - lr: 6.3993e-04\n",
            "Epoch 8/50\n",
            "6/6 [==============================] - 3s 445ms/step - loss: 0.3557 - accuracy: 0.8398 - val_loss: 0.3661 - val_accuracy: 0.8033 - lr: 6.3993e-04\n",
            "Epoch 9/50\n",
            "6/6 [==============================] - 3s 499ms/step - loss: 0.3735 - accuracy: 0.8232 - val_loss: 0.3616 - val_accuracy: 0.8361 - lr: 3.1997e-04\n",
            "Epoch 10/50\n",
            "6/6 [==============================] - 3s 549ms/step - loss: 0.3649 - accuracy: 0.8840 - val_loss: 0.3860 - val_accuracy: 0.8033 - lr: 3.1997e-04\n",
            "Epoch 11/50\n",
            "6/6 [==============================] - 3s 452ms/step - loss: 0.3632 - accuracy: 0.8343 - val_loss: 0.3520 - val_accuracy: 0.8361 - lr: 3.1997e-04\n",
            "Epoch 12/50\n",
            "6/6 [==============================] - 3s 432ms/step - loss: 0.3193 - accuracy: 0.8729 - val_loss: 0.3531 - val_accuracy: 0.8361 - lr: 3.1997e-04\n",
            "Epoch 13/50\n",
            "6/6 [==============================] - 3s 574ms/step - loss: 0.3354 - accuracy: 0.8619 - val_loss: 0.3614 - val_accuracy: 0.8033 - lr: 3.1997e-04\n",
            "Epoch 14/50\n",
            "6/6 [==============================] - 3s 476ms/step - loss: 0.3095 - accuracy: 0.9006 - val_loss: 0.3450 - val_accuracy: 0.8361 - lr: 3.1997e-04\n",
            "Epoch 15/50\n",
            "6/6 [==============================] - 3s 463ms/step - loss: 0.2848 - accuracy: 0.8895 - val_loss: 0.3438 - val_accuracy: 0.8361 - lr: 1.5998e-04\n",
            "Epoch 16/50\n",
            "6/6 [==============================] - 3s 441ms/step - loss: 0.2888 - accuracy: 0.8895 - val_loss: 0.3505 - val_accuracy: 0.8033 - lr: 1.5998e-04\n",
            "Epoch 17/50\n",
            "6/6 [==============================] - 4s 657ms/step - loss: 0.2886 - accuracy: 0.9061 - val_loss: 0.3424 - val_accuracy: 0.8361 - lr: 1.5998e-04\n",
            "Epoch 18/50\n",
            "6/6 [==============================] - 3s 482ms/step - loss: 0.2839 - accuracy: 0.9061 - val_loss: 0.3408 - val_accuracy: 0.8361 - lr: 1.5998e-04\n",
            "Epoch 19/50\n",
            "6/6 [==============================] - 3s 433ms/step - loss: 0.2926 - accuracy: 0.8950 - val_loss: 0.3420 - val_accuracy: 0.8361 - lr: 1.5998e-04\n",
            "Epoch 20/50\n",
            "6/6 [==============================] - 4s 604ms/step - loss: 0.2929 - accuracy: 0.8950 - val_loss: 0.3386 - val_accuracy: 0.8361 - lr: 7.9992e-05\n",
            "Epoch 21/50\n",
            "6/6 [==============================] - 3s 465ms/step - loss: 0.2724 - accuracy: 0.9061 - val_loss: 0.3374 - val_accuracy: 0.8361 - lr: 7.9992e-05\n",
            "Epoch 22/50\n",
            "6/6 [==============================] - 3s 434ms/step - loss: 0.2932 - accuracy: 0.8840 - val_loss: 0.3375 - val_accuracy: 0.8361 - lr: 7.9992e-05\n",
            "Epoch 23/50\n",
            "6/6 [==============================] - 3s 441ms/step - loss: 0.2941 - accuracy: 0.8729 - val_loss: 0.3385 - val_accuracy: 0.8361 - lr: 7.9992e-05\n",
            "Epoch 24/50\n",
            "6/6 [==============================] - 4s 630ms/step - loss: 0.2853 - accuracy: 0.8895 - val_loss: 0.3346 - val_accuracy: 0.8361 - lr: 7.9992e-05\n",
            "Epoch 25/50\n",
            "6/6 [==============================] - 3s 441ms/step - loss: 0.2740 - accuracy: 0.8950 - val_loss: 0.3342 - val_accuracy: 0.8361 - lr: 3.9996e-05\n",
            "Epoch 26/50\n",
            "6/6 [==============================] - 3s 471ms/step - loss: 0.2942 - accuracy: 0.8785 - val_loss: 0.3339 - val_accuracy: 0.8361 - lr: 3.9996e-05\n",
            "Epoch 27/50\n",
            "6/6 [==============================] - 3s 499ms/step - loss: 0.2663 - accuracy: 0.9061 - val_loss: 0.3334 - val_accuracy: 0.8361 - lr: 3.9996e-05\n",
            "Epoch 28/50\n",
            "6/6 [==============================] - 3s 437ms/step - loss: 0.2735 - accuracy: 0.9227 - val_loss: 0.3336 - val_accuracy: 0.8361 - lr: 3.9996e-05\n",
            "Epoch 29/50\n",
            "6/6 [==============================] - 3s 437ms/step - loss: 0.3055 - accuracy: 0.8785 - val_loss: 0.3336 - val_accuracy: 0.8361 - lr: 3.9996e-05\n",
            "Epoch 30/50\n",
            "6/6 [==============================] - 3s 446ms/step - loss: 0.2941 - accuracy: 0.8840 - val_loss: 0.3331 - val_accuracy: 0.8361 - lr: 1.9998e-05\n",
            "Epoch 31/50\n",
            "6/6 [==============================] - 3s 567ms/step - loss: 0.2928 - accuracy: 0.9116 - val_loss: 0.3328 - val_accuracy: 0.8361 - lr: 1.9998e-05\n",
            "Epoch 32/50\n",
            "6/6 [==============================] - 3s 467ms/step - loss: 0.2693 - accuracy: 0.9061 - val_loss: 0.3327 - val_accuracy: 0.8361 - lr: 1.9998e-05\n",
            "Epoch 33/50\n",
            "6/6 [==============================] - 3s 452ms/step - loss: 0.2782 - accuracy: 0.8840 - val_loss: 0.3324 - val_accuracy: 0.8361 - lr: 1.9998e-05\n",
            "Epoch 34/50\n",
            "6/6 [==============================] - 3s 448ms/step - loss: 0.2525 - accuracy: 0.9171 - val_loss: 0.3321 - val_accuracy: 0.8361 - lr: 1.9998e-05\n",
            "Epoch 35/50\n",
            "6/6 [==============================] - 3s 571ms/step - loss: 0.2833 - accuracy: 0.8895 - val_loss: 0.3320 - val_accuracy: 0.8361 - lr: 1.0000e-05\n",
            "Epoch 36/50\n",
            "6/6 [==============================] - 3s 491ms/step - loss: 0.2686 - accuracy: 0.9227 - val_loss: 0.3320 - val_accuracy: 0.8361 - lr: 1.0000e-05\n",
            "Epoch 37/50\n",
            "6/6 [==============================] - 3s 459ms/step - loss: 0.2499 - accuracy: 0.9337 - val_loss: 0.3319 - val_accuracy: 0.8361 - lr: 1.0000e-05\n",
            "Epoch 38/50\n",
            "6/6 [==============================] - 3s 449ms/step - loss: 0.2444 - accuracy: 0.9282 - val_loss: 0.3319 - val_accuracy: 0.8361 - lr: 1.0000e-05\n",
            "Epoch 39/50\n",
            "6/6 [==============================] - 4s 614ms/step - loss: 0.2754 - accuracy: 0.9171 - val_loss: 0.3319 - val_accuracy: 0.8361 - lr: 1.0000e-05\n",
            "Epoch 40/50\n",
            "6/6 [==============================] - 3s 478ms/step - loss: 0.2519 - accuracy: 0.9006 - val_loss: 0.3318 - val_accuracy: 0.8361 - lr: 1.0000e-05\n",
            "Epoch 41/50\n",
            "6/6 [==============================] - 3s 466ms/step - loss: 0.2665 - accuracy: 0.9227 - val_loss: 0.3317 - val_accuracy: 0.8361 - lr: 1.0000e-05\n",
            "Epoch 42/50\n",
            "6/6 [==============================] - 4s 637ms/step - loss: 0.2544 - accuracy: 0.9337 - val_loss: 0.3317 - val_accuracy: 0.8361 - lr: 1.0000e-05\n",
            "Epoch 43/50\n",
            "6/6 [==============================] - 3s 447ms/step - loss: 0.2740 - accuracy: 0.9116 - val_loss: 0.3317 - val_accuracy: 0.8361 - lr: 1.0000e-05\n",
            "Epoch 44/50\n",
            "6/6 [==============================] - 3s 451ms/step - loss: 0.2807 - accuracy: 0.8729 - val_loss: 0.3317 - val_accuracy: 0.8361 - lr: 1.0000e-05\n",
            "Epoch 45/50\n",
            "6/6 [==============================] - 3s 436ms/step - loss: 0.2915 - accuracy: 0.9116 - val_loss: 0.3318 - val_accuracy: 0.8361 - lr: 1.0000e-05\n",
            "Epoch 46/50\n",
            "6/6 [==============================] - 3s 531ms/step - loss: 0.2591 - accuracy: 0.9116 - val_loss: 0.3316 - val_accuracy: 0.8361 - lr: 1.0000e-05\n",
            "Epoch 47/50\n",
            "6/6 [==============================] - 3s 449ms/step - loss: 0.2666 - accuracy: 0.9392 - val_loss: 0.3314 - val_accuracy: 0.8361 - lr: 1.0000e-05\n",
            "Epoch 48/50\n",
            "6/6 [==============================] - 3s 442ms/step - loss: 0.2540 - accuracy: 0.9337 - val_loss: 0.3312 - val_accuracy: 0.8361 - lr: 1.0000e-05\n",
            "Epoch 49/50\n",
            "6/6 [==============================] - 3s 442ms/step - loss: 0.2657 - accuracy: 0.9116 - val_loss: 0.3311 - val_accuracy: 0.8361 - lr: 1.0000e-05\n",
            "Epoch 50/50\n",
            "6/6 [==============================] - 4s 638ms/step - loss: 0.2693 - accuracy: 0.9061 - val_loss: 0.3310 - val_accuracy: 0.8361 - lr: 1.0000e-05\n",
            "1/1 [==============================] - 0s 371ms/step - loss: 3.3691 - accuracy: 0.7705\n",
            "final_val_loss : 3.369110345840454\n",
            "final_val_accuracy : 0.7704917788505554\n"
          ]
        },
        {
          "output_type": "display_data",
          "data": {
            "text/plain": [
              "<IPython.core.display.HTML object>"
            ],
            "text/html": [
              "Waiting for W&B process to finish... <strong style=\"color:green\">(success).</strong>"
            ]
          },
          "metadata": {}
        },
        {
          "output_type": "display_data",
          "data": {
            "text/plain": [
              "VBox(children=(Label(value='0.019 MB of 0.019 MB uploaded (0.000 MB deduped)\\r'), FloatProgress(value=1.0, max…"
            ],
            "application/vnd.jupyter.widget-view+json": {
              "version_major": 2,
              "version_minor": 0,
              "model_id": "3b1e6a0dc5f64cf1bda8c39f1c68b6ad"
            }
          },
          "metadata": {}
        },
        {
          "output_type": "display_data",
          "data": {
            "text/plain": [
              "<IPython.core.display.HTML object>"
            ],
            "text/html": [
              "<style>\n",
              "    table.wandb td:nth-child(1) { padding: 0 10px; text-align: left ; width: auto;} td:nth-child(2) {text-align: left ; width: 100%}\n",
              "    .wandb-row { display: flex; flex-direction: row; flex-wrap: wrap; justify-content: flex-start; width: 100% }\n",
              "    .wandb-col { display: flex; flex-direction: column; flex-basis: 100%; flex: 1; padding: 10px; }\n",
              "    </style>\n",
              "<div class=\"wandb-row\"><div class=\"wandb-col\"><h3>Run history:</h3><br/><table class=\"wandb\"><tr><td>epoch/accuracy</td><td>▁▂▄▄▆▅▆▆▆▇▆▇▇▇▇▇▇▇▇▇▇▇█▇▇▇▇███████▇▇▇██▇</td></tr><tr><td>epoch/epoch</td><td>▁▁▁▁▂▂▂▂▂▃▃▃▃▃▃▄▄▄▄▄▅▅▅▅▅▅▆▆▆▆▆▆▇▇▇▇▇███</td></tr><tr><td>epoch/learning_rate</td><td>██████▄▄▄▄▄▃▃▃▃▂▂▂▂▁▁▁▁▁▁▁▁▁▁▁▁▁▁▁▁▁▁▁▁▁</td></tr><tr><td>epoch/loss</td><td>█▆▆▅▄▃▃▃▃▂▂▂▂▂▂▂▁▂▂▂▂▁▁▂▂▁▁▁▁▁▁▁▁▁▁▂▁▁▁▁</td></tr><tr><td>epoch/lr</td><td>███████▄▄▄▄▄▃▃▃▃▂▂▂▂▁▁▁▁▁▁▁▁▁▁▁▁▁▁▁▁▁▁▁▁</td></tr><tr><td>epoch/val_accuracy</td><td>▄▁▆▆▆▆▆███▆█▆███████████████████████████</td></tr><tr><td>epoch/val_loss</td><td>▆█▄▄▃▂▂▂▂▂▂▁▂▁▁▁▁▁▁▁▁▁▁▁▁▁▁▁▁▁▁▁▁▁▁▁▁▁▁▁</td></tr><tr><td>final_val_accuracy</td><td>▁</td></tr><tr><td>final_val_loss</td><td>▁</td></tr></table><br/></div><div class=\"wandb-col\"><h3>Run summary:</h3><br/><table class=\"wandb\"><tr><td>epoch/accuracy</td><td>0.90608</td></tr><tr><td>epoch/epoch</td><td>49</td></tr><tr><td>epoch/learning_rate</td><td>1e-05</td></tr><tr><td>epoch/loss</td><td>0.26934</td></tr><tr><td>epoch/lr</td><td>1e-05</td></tr><tr><td>epoch/val_accuracy</td><td>0.83607</td></tr><tr><td>epoch/val_loss</td><td>0.33096</td></tr><tr><td>final_val_accuracy</td><td>0.77049</td></tr><tr><td>final_val_loss</td><td>3.36911</td></tr></table><br/></div></div>"
            ]
          },
          "metadata": {}
        },
        {
          "output_type": "display_data",
          "data": {
            "text/plain": [
              "<IPython.core.display.HTML object>"
            ],
            "text/html": [
              " View run <strong style=\"color:#cdcd00\">lyric-sweep-2</strong> at: <a href='https://wandb.ai/nikofzj/DS_Tutorial_V1/runs/zs4gshko' target=\"_blank\">https://wandb.ai/nikofzj/DS_Tutorial_V1/runs/zs4gshko</a><br/>Synced 5 W&B file(s), 0 media file(s), 0 artifact file(s) and 0 other file(s)"
            ]
          },
          "metadata": {}
        },
        {
          "output_type": "display_data",
          "data": {
            "text/plain": [
              "<IPython.core.display.HTML object>"
            ],
            "text/html": [
              "Find logs at: <code>./wandb/run-20230502_103736-zs4gshko/logs</code>"
            ]
          },
          "metadata": {}
        },
        {
          "output_type": "stream",
          "name": "stderr",
          "text": [
            "\u001b[34m\u001b[1mwandb\u001b[0m: Agent Starting Run: ac8rsjue with config:\n",
            "\u001b[34m\u001b[1mwandb\u001b[0m: \taugmentation_multiplier: 1.2693824834449563\n",
            "\u001b[34m\u001b[1mwandb\u001b[0m: \tdropout: 0.4\n",
            "\u001b[34m\u001b[1mwandb\u001b[0m: \tepochs: 50\n",
            "\u001b[34m\u001b[1mwandb\u001b[0m: \tlearning_rate: 0.008215623969864234\n"
          ]
        },
        {
          "output_type": "display_data",
          "data": {
            "text/plain": [
              "<IPython.core.display.HTML object>"
            ],
            "text/html": [
              "Tracking run with wandb version 0.15.0"
            ]
          },
          "metadata": {}
        },
        {
          "output_type": "display_data",
          "data": {
            "text/plain": [
              "<IPython.core.display.HTML object>"
            ],
            "text/html": [
              "Run data is saved locally in <code>/content/wandb/run-20230502_104046-ac8rsjue</code>"
            ]
          },
          "metadata": {}
        },
        {
          "output_type": "display_data",
          "data": {
            "text/plain": [
              "<IPython.core.display.HTML object>"
            ],
            "text/html": [
              "Syncing run <strong><a href='https://wandb.ai/nikofzj/DS_Tutorial_V1/runs/ac8rsjue' target=\"_blank\">devout-sweep-3</a></strong> to <a href='https://wandb.ai/nikofzj/DS_Tutorial_V1' target=\"_blank\">Weights & Biases</a> (<a href='https://wandb.me/run' target=\"_blank\">docs</a>)<br/>Sweep page: <a href='https://wandb.ai/nikofzj/DS_Tutorial_V1/sweeps/xqa6ct2t' target=\"_blank\">https://wandb.ai/nikofzj/DS_Tutorial_V1/sweeps/xqa6ct2t</a>"
            ]
          },
          "metadata": {}
        },
        {
          "output_type": "display_data",
          "data": {
            "text/plain": [
              "<IPython.core.display.HTML object>"
            ],
            "text/html": [
              " View project at <a href='https://wandb.ai/nikofzj/DS_Tutorial_V1' target=\"_blank\">https://wandb.ai/nikofzj/DS_Tutorial_V1</a>"
            ]
          },
          "metadata": {}
        },
        {
          "output_type": "display_data",
          "data": {
            "text/plain": [
              "<IPython.core.display.HTML object>"
            ],
            "text/html": [
              " View sweep at <a href='https://wandb.ai/nikofzj/DS_Tutorial_V1/sweeps/xqa6ct2t' target=\"_blank\">https://wandb.ai/nikofzj/DS_Tutorial_V1/sweeps/xqa6ct2t</a>"
            ]
          },
          "metadata": {}
        },
        {
          "output_type": "display_data",
          "data": {
            "text/plain": [
              "<IPython.core.display.HTML object>"
            ],
            "text/html": [
              " View run at <a href='https://wandb.ai/nikofzj/DS_Tutorial_V1/runs/ac8rsjue' target=\"_blank\">https://wandb.ai/nikofzj/DS_Tutorial_V1/runs/ac8rsjue</a>"
            ]
          },
          "metadata": {}
        },
        {
          "output_type": "stream",
          "name": "stdout",
          "text": [
            "Model: \"sequential\"\n",
            "_________________________________________________________________\n",
            " Layer (type)                Output Shape              Param #   \n",
            "=================================================================\n",
            " vgg19 (Functional)          (None, 7, 7, 512)         20024384  \n",
            "                                                                 \n",
            " flatten (Flatten)           (None, 25088)             0         \n",
            "                                                                 \n",
            " dropout (Dropout)           (None, 25088)             0         \n",
            "                                                                 \n",
            " dense (Dense)               (None, 1)                 25089     \n",
            "                                                                 \n",
            "=================================================================\n",
            "Total params: 20,049,473\n",
            "Trainable params: 25,089\n",
            "Non-trainable params: 20,024,384\n",
            "_________________________________________________________________\n",
            "Epoch 1/50\n",
            "6/6 [==============================] - 5s 499ms/step - loss: 6.5387 - accuracy: 0.5470 - val_loss: 4.9658 - val_accuracy: 0.7049 - lr: 0.0082\n",
            "Epoch 2/50\n",
            "6/6 [==============================] - 3s 480ms/step - loss: 2.6055 - accuracy: 0.6077 - val_loss: 1.1224 - val_accuracy: 0.7869 - lr: 0.0082\n",
            "Epoch 3/50\n",
            "6/6 [==============================] - 3s 444ms/step - loss: 2.0708 - accuracy: 0.6796 - val_loss: 1.4682 - val_accuracy: 0.6885 - lr: 0.0082\n",
            "Epoch 4/50\n",
            "6/6 [==============================] - 3s 496ms/step - loss: 1.5662 - accuracy: 0.7072 - val_loss: 0.4710 - val_accuracy: 0.8033 - lr: 0.0082\n",
            "Epoch 5/50\n",
            "6/6 [==============================] - 3s 447ms/step - loss: 1.0945 - accuracy: 0.6961 - val_loss: 0.4435 - val_accuracy: 0.8361 - lr: 0.0082\n",
            "Epoch 6/50\n",
            "6/6 [==============================] - 3s 442ms/step - loss: 0.7621 - accuracy: 0.7293 - val_loss: 0.3512 - val_accuracy: 0.8689 - lr: 0.0082\n",
            "Epoch 7/50\n",
            "6/6 [==============================] - 3s 530ms/step - loss: 0.6702 - accuracy: 0.7348 - val_loss: 0.4537 - val_accuracy: 0.8525 - lr: 0.0082\n",
            "Epoch 8/50\n",
            "6/6 [==============================] - 3s 528ms/step - loss: 0.8540 - accuracy: 0.7845 - val_loss: 0.4628 - val_accuracy: 0.8525 - lr: 0.0082\n",
            "Epoch 9/50\n",
            "6/6 [==============================] - 3s 457ms/step - loss: 0.5133 - accuracy: 0.8011 - val_loss: 0.4253 - val_accuracy: 0.8361 - lr: 0.0082\n",
            "1/1 [==============================] - 0s 351ms/step - loss: 11.5949 - accuracy: 0.8033\n",
            "final_val_loss : 11.594886779785156\n",
            "final_val_accuracy : 0.8032786846160889\n"
          ]
        },
        {
          "output_type": "display_data",
          "data": {
            "text/plain": [
              "<IPython.core.display.HTML object>"
            ],
            "text/html": [
              "Waiting for W&B process to finish... <strong style=\"color:green\">(success).</strong>"
            ]
          },
          "metadata": {}
        },
        {
          "output_type": "display_data",
          "data": {
            "text/plain": [
              "<IPython.core.display.HTML object>"
            ],
            "text/html": [
              "<style>\n",
              "    table.wandb td:nth-child(1) { padding: 0 10px; text-align: left ; width: auto;} td:nth-child(2) {text-align: left ; width: 100%}\n",
              "    .wandb-row { display: flex; flex-direction: row; flex-wrap: wrap; justify-content: flex-start; width: 100% }\n",
              "    .wandb-col { display: flex; flex-direction: column; flex-basis: 100%; flex: 1; padding: 10px; }\n",
              "    </style>\n",
              "<div class=\"wandb-row\"><div class=\"wandb-col\"><h3>Run history:</h3><br/><table class=\"wandb\"><tr><td>epoch/accuracy</td><td>▁▃▅▅▅▆▆██</td></tr><tr><td>epoch/epoch</td><td>▁▂▃▄▅▅▆▇█</td></tr><tr><td>epoch/learning_rate</td><td>▁▁▁▁▁▁▁▁▁</td></tr><tr><td>epoch/loss</td><td>█▃▃▂▂▁▁▁▁</td></tr><tr><td>epoch/lr</td><td>▁▁▁▁▁▁▁▁▁</td></tr><tr><td>epoch/val_accuracy</td><td>▂▅▁▅▇█▇▇▇</td></tr><tr><td>epoch/val_loss</td><td>█▂▃▁▁▁▁▁▁</td></tr><tr><td>final_val_accuracy</td><td>▁</td></tr><tr><td>final_val_loss</td><td>▁</td></tr></table><br/></div><div class=\"wandb-col\"><h3>Run summary:</h3><br/><table class=\"wandb\"><tr><td>epoch/accuracy</td><td>0.8011</td></tr><tr><td>epoch/epoch</td><td>8</td></tr><tr><td>epoch/learning_rate</td><td>0.00822</td></tr><tr><td>epoch/loss</td><td>0.51331</td></tr><tr><td>epoch/lr</td><td>0.00822</td></tr><tr><td>epoch/val_accuracy</td><td>0.83607</td></tr><tr><td>epoch/val_loss</td><td>0.42526</td></tr><tr><td>final_val_accuracy</td><td>0.80328</td></tr><tr><td>final_val_loss</td><td>11.59489</td></tr></table><br/></div></div>"
            ]
          },
          "metadata": {}
        },
        {
          "output_type": "display_data",
          "data": {
            "text/plain": [
              "<IPython.core.display.HTML object>"
            ],
            "text/html": [
              " View run <strong style=\"color:#cdcd00\">devout-sweep-3</strong> at: <a href='https://wandb.ai/nikofzj/DS_Tutorial_V1/runs/ac8rsjue' target=\"_blank\">https://wandb.ai/nikofzj/DS_Tutorial_V1/runs/ac8rsjue</a><br/>Synced 5 W&B file(s), 0 media file(s), 0 artifact file(s) and 0 other file(s)"
            ]
          },
          "metadata": {}
        },
        {
          "output_type": "display_data",
          "data": {
            "text/plain": [
              "<IPython.core.display.HTML object>"
            ],
            "text/html": [
              "Find logs at: <code>./wandb/run-20230502_104046-ac8rsjue/logs</code>"
            ]
          },
          "metadata": {}
        },
        {
          "output_type": "stream",
          "name": "stderr",
          "text": [
            "\u001b[34m\u001b[1mwandb\u001b[0m: Agent Starting Run: wx76pzlj with config:\n",
            "\u001b[34m\u001b[1mwandb\u001b[0m: \taugmentation_multiplier: 0.7245504183972016\n",
            "\u001b[34m\u001b[1mwandb\u001b[0m: \tdropout: 0.3\n",
            "\u001b[34m\u001b[1mwandb\u001b[0m: \tepochs: 50\n",
            "\u001b[34m\u001b[1mwandb\u001b[0m: \tlearning_rate: 0.006081421260572832\n"
          ]
        },
        {
          "output_type": "display_data",
          "data": {
            "text/plain": [
              "<IPython.core.display.HTML object>"
            ],
            "text/html": [
              "Tracking run with wandb version 0.15.0"
            ]
          },
          "metadata": {}
        },
        {
          "output_type": "display_data",
          "data": {
            "text/plain": [
              "<IPython.core.display.HTML object>"
            ],
            "text/html": [
              "Run data is saved locally in <code>/content/wandb/run-20230502_104134-wx76pzlj</code>"
            ]
          },
          "metadata": {}
        },
        {
          "output_type": "display_data",
          "data": {
            "text/plain": [
              "<IPython.core.display.HTML object>"
            ],
            "text/html": [
              "Syncing run <strong><a href='https://wandb.ai/nikofzj/DS_Tutorial_V1/runs/wx76pzlj' target=\"_blank\">fresh-sweep-4</a></strong> to <a href='https://wandb.ai/nikofzj/DS_Tutorial_V1' target=\"_blank\">Weights & Biases</a> (<a href='https://wandb.me/run' target=\"_blank\">docs</a>)<br/>Sweep page: <a href='https://wandb.ai/nikofzj/DS_Tutorial_V1/sweeps/xqa6ct2t' target=\"_blank\">https://wandb.ai/nikofzj/DS_Tutorial_V1/sweeps/xqa6ct2t</a>"
            ]
          },
          "metadata": {}
        },
        {
          "output_type": "display_data",
          "data": {
            "text/plain": [
              "<IPython.core.display.HTML object>"
            ],
            "text/html": [
              " View project at <a href='https://wandb.ai/nikofzj/DS_Tutorial_V1' target=\"_blank\">https://wandb.ai/nikofzj/DS_Tutorial_V1</a>"
            ]
          },
          "metadata": {}
        },
        {
          "output_type": "display_data",
          "data": {
            "text/plain": [
              "<IPython.core.display.HTML object>"
            ],
            "text/html": [
              " View sweep at <a href='https://wandb.ai/nikofzj/DS_Tutorial_V1/sweeps/xqa6ct2t' target=\"_blank\">https://wandb.ai/nikofzj/DS_Tutorial_V1/sweeps/xqa6ct2t</a>"
            ]
          },
          "metadata": {}
        },
        {
          "output_type": "display_data",
          "data": {
            "text/plain": [
              "<IPython.core.display.HTML object>"
            ],
            "text/html": [
              " View run at <a href='https://wandb.ai/nikofzj/DS_Tutorial_V1/runs/wx76pzlj' target=\"_blank\">https://wandb.ai/nikofzj/DS_Tutorial_V1/runs/wx76pzlj</a>"
            ]
          },
          "metadata": {}
        },
        {
          "output_type": "stream",
          "name": "stdout",
          "text": [
            "Model: \"sequential\"\n",
            "_________________________________________________________________\n",
            " Layer (type)                Output Shape              Param #   \n",
            "=================================================================\n",
            " vgg19 (Functional)          (None, 7, 7, 512)         20024384  \n",
            "                                                                 \n",
            " flatten (Flatten)           (None, 25088)             0         \n",
            "                                                                 \n",
            " dropout (Dropout)           (None, 25088)             0         \n",
            "                                                                 \n",
            " dense (Dense)               (None, 1)                 25089     \n",
            "                                                                 \n",
            "=================================================================\n",
            "Total params: 20,049,473\n",
            "Trainable params: 25,089\n",
            "Non-trainable params: 20,024,384\n",
            "_________________________________________________________________\n",
            "Epoch 1/50\n",
            "6/6 [==============================] - 4s 564ms/step - loss: 2.4969 - accuracy: 0.5414 - val_loss: 3.7343 - val_accuracy: 0.7049 - lr: 0.0061\n",
            "Epoch 2/50\n",
            "6/6 [==============================] - 3s 517ms/step - loss: 2.4414 - accuracy: 0.6740 - val_loss: 1.6913 - val_accuracy: 0.6557 - lr: 0.0061\n",
            "Epoch 3/50\n",
            "6/6 [==============================] - 3s 468ms/step - loss: 1.6595 - accuracy: 0.7293 - val_loss: 0.7105 - val_accuracy: 0.7869 - lr: 0.0061\n",
            "Epoch 4/50\n",
            "6/6 [==============================] - 3s 441ms/step - loss: 0.8220 - accuracy: 0.7680 - val_loss: 0.8314 - val_accuracy: 0.7541 - lr: 0.0061\n",
            "Epoch 5/50\n",
            "6/6 [==============================] - 3s 449ms/step - loss: 0.7106 - accuracy: 0.7790 - val_loss: 0.6609 - val_accuracy: 0.7541 - lr: 0.0061\n",
            "Epoch 6/50\n",
            "6/6 [==============================] - 3s 447ms/step - loss: 0.5607 - accuracy: 0.8177 - val_loss: 0.4902 - val_accuracy: 0.8361 - lr: 0.0061\n",
            "Epoch 7/50\n",
            "6/6 [==============================] - 3s 453ms/step - loss: 0.4283 - accuracy: 0.8508 - val_loss: 0.3361 - val_accuracy: 0.8525 - lr: 0.0061\n",
            "Epoch 8/50\n",
            "6/6 [==============================] - 3s 479ms/step - loss: 0.3106 - accuracy: 0.8840 - val_loss: 0.4815 - val_accuracy: 0.8197 - lr: 0.0061\n",
            "Epoch 9/50\n",
            "6/6 [==============================] - 3s 541ms/step - loss: 0.3127 - accuracy: 0.8619 - val_loss: 0.8039 - val_accuracy: 0.7049 - lr: 0.0061\n",
            "Epoch 10/50\n",
            "6/6 [==============================] - 3s 443ms/step - loss: 0.3347 - accuracy: 0.8729 - val_loss: 0.2748 - val_accuracy: 0.8852 - lr: 0.0061\n",
            "Epoch 11/50\n",
            "6/6 [==============================] - 3s 445ms/step - loss: 0.2830 - accuracy: 0.8840 - val_loss: 0.4849 - val_accuracy: 0.8525 - lr: 0.0061\n",
            "Epoch 12/50\n",
            "6/6 [==============================] - 3s 437ms/step - loss: 0.1773 - accuracy: 0.9282 - val_loss: 0.3045 - val_accuracy: 0.8689 - lr: 0.0061\n",
            "Epoch 13/50\n",
            "6/6 [==============================] - 4s 611ms/step - loss: 0.1046 - accuracy: 0.9558 - val_loss: 0.2387 - val_accuracy: 0.8852 - lr: 0.0061\n",
            "Epoch 14/50\n",
            "6/6 [==============================] - 3s 435ms/step - loss: 0.1360 - accuracy: 0.9448 - val_loss: 0.6091 - val_accuracy: 0.8197 - lr: 0.0061\n",
            "Epoch 15/50\n",
            "6/6 [==============================] - 3s 434ms/step - loss: 0.2624 - accuracy: 0.9171 - val_loss: 0.7510 - val_accuracy: 0.7869 - lr: 0.0061\n",
            "Epoch 16/50\n",
            "6/6 [==============================] - 3s 556ms/step - loss: 0.2649 - accuracy: 0.8840 - val_loss: 0.2673 - val_accuracy: 0.9016 - lr: 0.0030\n",
            "1/1 [==============================] - 0s 367ms/step - loss: 9.2211 - accuracy: 0.8197\n",
            "final_val_loss : 9.22106647491455\n",
            "final_val_accuracy : 0.8196721076965332\n"
          ]
        },
        {
          "output_type": "display_data",
          "data": {
            "text/plain": [
              "<IPython.core.display.HTML object>"
            ],
            "text/html": [
              "Waiting for W&B process to finish... <strong style=\"color:green\">(success).</strong>"
            ]
          },
          "metadata": {}
        },
        {
          "output_type": "display_data",
          "data": {
            "text/plain": [
              "VBox(children=(Label(value='0.001 MB of 0.006 MB uploaded (0.000 MB deduped)\\r'), FloatProgress(value=0.196046…"
            ],
            "application/vnd.jupyter.widget-view+json": {
              "version_major": 2,
              "version_minor": 0,
              "model_id": "107d587038e740a0b124382d2a4df108"
            }
          },
          "metadata": {}
        },
        {
          "output_type": "display_data",
          "data": {
            "text/plain": [
              "<IPython.core.display.HTML object>"
            ],
            "text/html": [
              "<style>\n",
              "    table.wandb td:nth-child(1) { padding: 0 10px; text-align: left ; width: auto;} td:nth-child(2) {text-align: left ; width: 100%}\n",
              "    .wandb-row { display: flex; flex-direction: row; flex-wrap: wrap; justify-content: flex-start; width: 100% }\n",
              "    .wandb-col { display: flex; flex-direction: column; flex-basis: 100%; flex: 1; padding: 10px; }\n",
              "    </style>\n",
              "<div class=\"wandb-row\"><div class=\"wandb-col\"><h3>Run history:</h3><br/><table class=\"wandb\"><tr><td>epoch/accuracy</td><td>▁▃▄▅▅▆▆▇▆▇▇███▇▇</td></tr><tr><td>epoch/epoch</td><td>▁▁▂▂▃▃▄▄▅▅▆▆▇▇██</td></tr><tr><td>epoch/learning_rate</td><td>██████████████▁▁</td></tr><tr><td>epoch/loss</td><td>██▆▃▃▂▂▂▂▂▂▁▁▁▁▁</td></tr><tr><td>epoch/lr</td><td>███████████████▁</td></tr><tr><td>epoch/val_accuracy</td><td>▂▁▅▄▄▆▇▆▂█▇▇█▆▅█</td></tr><tr><td>epoch/val_loss</td><td>█▄▂▂▂▂▁▁▂▁▁▁▁▂▂▁</td></tr><tr><td>final_val_accuracy</td><td>▁</td></tr><tr><td>final_val_loss</td><td>▁</td></tr></table><br/></div><div class=\"wandb-col\"><h3>Run summary:</h3><br/><table class=\"wandb\"><tr><td>epoch/accuracy</td><td>0.88398</td></tr><tr><td>epoch/epoch</td><td>15</td></tr><tr><td>epoch/learning_rate</td><td>0.00304</td></tr><tr><td>epoch/loss</td><td>0.26486</td></tr><tr><td>epoch/lr</td><td>0.00304</td></tr><tr><td>epoch/val_accuracy</td><td>0.90164</td></tr><tr><td>epoch/val_loss</td><td>0.26733</td></tr><tr><td>final_val_accuracy</td><td>0.81967</td></tr><tr><td>final_val_loss</td><td>9.22107</td></tr></table><br/></div></div>"
            ]
          },
          "metadata": {}
        },
        {
          "output_type": "display_data",
          "data": {
            "text/plain": [
              "<IPython.core.display.HTML object>"
            ],
            "text/html": [
              " View run <strong style=\"color:#cdcd00\">fresh-sweep-4</strong> at: <a href='https://wandb.ai/nikofzj/DS_Tutorial_V1/runs/wx76pzlj' target=\"_blank\">https://wandb.ai/nikofzj/DS_Tutorial_V1/runs/wx76pzlj</a><br/>Synced 5 W&B file(s), 0 media file(s), 0 artifact file(s) and 0 other file(s)"
            ]
          },
          "metadata": {}
        },
        {
          "output_type": "display_data",
          "data": {
            "text/plain": [
              "<IPython.core.display.HTML object>"
            ],
            "text/html": [
              "Find logs at: <code>./wandb/run-20230502_104134-wx76pzlj/logs</code>"
            ]
          },
          "metadata": {}
        },
        {
          "output_type": "stream",
          "name": "stderr",
          "text": [
            "\u001b[34m\u001b[1mwandb\u001b[0m: Agent Starting Run: rl4gjdc8 with config:\n",
            "\u001b[34m\u001b[1mwandb\u001b[0m: \taugmentation_multiplier: 0.27715726126536144\n",
            "\u001b[34m\u001b[1mwandb\u001b[0m: \tdropout: 0.5\n",
            "\u001b[34m\u001b[1mwandb\u001b[0m: \tepochs: 50\n",
            "\u001b[34m\u001b[1mwandb\u001b[0m: \tlearning_rate: 0.007127510202774295\n"
          ]
        },
        {
          "output_type": "display_data",
          "data": {
            "text/plain": [
              "<IPython.core.display.HTML object>"
            ],
            "text/html": [
              "Tracking run with wandb version 0.15.0"
            ]
          },
          "metadata": {}
        },
        {
          "output_type": "display_data",
          "data": {
            "text/plain": [
              "<IPython.core.display.HTML object>"
            ],
            "text/html": [
              "Run data is saved locally in <code>/content/wandb/run-20230502_104244-rl4gjdc8</code>"
            ]
          },
          "metadata": {}
        },
        {
          "output_type": "display_data",
          "data": {
            "text/plain": [
              "<IPython.core.display.HTML object>"
            ],
            "text/html": [
              "Syncing run <strong><a href='https://wandb.ai/nikofzj/DS_Tutorial_V1/runs/rl4gjdc8' target=\"_blank\">kind-sweep-5</a></strong> to <a href='https://wandb.ai/nikofzj/DS_Tutorial_V1' target=\"_blank\">Weights & Biases</a> (<a href='https://wandb.me/run' target=\"_blank\">docs</a>)<br/>Sweep page: <a href='https://wandb.ai/nikofzj/DS_Tutorial_V1/sweeps/xqa6ct2t' target=\"_blank\">https://wandb.ai/nikofzj/DS_Tutorial_V1/sweeps/xqa6ct2t</a>"
            ]
          },
          "metadata": {}
        },
        {
          "output_type": "display_data",
          "data": {
            "text/plain": [
              "<IPython.core.display.HTML object>"
            ],
            "text/html": [
              " View project at <a href='https://wandb.ai/nikofzj/DS_Tutorial_V1' target=\"_blank\">https://wandb.ai/nikofzj/DS_Tutorial_V1</a>"
            ]
          },
          "metadata": {}
        },
        {
          "output_type": "display_data",
          "data": {
            "text/plain": [
              "<IPython.core.display.HTML object>"
            ],
            "text/html": [
              " View sweep at <a href='https://wandb.ai/nikofzj/DS_Tutorial_V1/sweeps/xqa6ct2t' target=\"_blank\">https://wandb.ai/nikofzj/DS_Tutorial_V1/sweeps/xqa6ct2t</a>"
            ]
          },
          "metadata": {}
        },
        {
          "output_type": "display_data",
          "data": {
            "text/plain": [
              "<IPython.core.display.HTML object>"
            ],
            "text/html": [
              " View run at <a href='https://wandb.ai/nikofzj/DS_Tutorial_V1/runs/rl4gjdc8' target=\"_blank\">https://wandb.ai/nikofzj/DS_Tutorial_V1/runs/rl4gjdc8</a>"
            ]
          },
          "metadata": {}
        },
        {
          "output_type": "stream",
          "name": "stdout",
          "text": [
            "Model: \"sequential\"\n",
            "_________________________________________________________________\n",
            " Layer (type)                Output Shape              Param #   \n",
            "=================================================================\n",
            " vgg19 (Functional)          (None, 7, 7, 512)         20024384  \n",
            "                                                                 \n",
            " flatten (Flatten)           (None, 25088)             0         \n",
            "                                                                 \n",
            " dropout (Dropout)           (None, 25088)             0         \n",
            "                                                                 \n",
            " dense (Dense)               (None, 1)                 25089     \n",
            "                                                                 \n",
            "=================================================================\n",
            "Total params: 20,049,473\n",
            "Trainable params: 25,089\n",
            "Non-trainable params: 20,024,384\n",
            "_________________________________________________________________\n",
            "Epoch 1/50\n",
            "6/6 [==============================] - 4s 473ms/step - loss: 4.8086 - accuracy: 0.4586 - val_loss: 1.5290 - val_accuracy: 0.7377 - lr: 0.0071\n",
            "Epoch 2/50\n",
            "6/6 [==============================] - 3s 435ms/step - loss: 2.2871 - accuracy: 0.6409 - val_loss: 1.5474 - val_accuracy: 0.6885 - lr: 0.0071\n",
            "Epoch 3/50\n",
            "6/6 [==============================] - 3s 474ms/step - loss: 0.8262 - accuracy: 0.8011 - val_loss: 0.6689 - val_accuracy: 0.7869 - lr: 0.0071\n",
            "Epoch 4/50\n",
            "6/6 [==============================] - 4s 617ms/step - loss: 0.3977 - accuracy: 0.8564 - val_loss: 0.4886 - val_accuracy: 0.8689 - lr: 0.0071\n",
            "Epoch 5/50\n",
            "6/6 [==============================] - 3s 444ms/step - loss: 0.3135 - accuracy: 0.8619 - val_loss: 0.3881 - val_accuracy: 0.8689 - lr: 0.0071\n",
            "Epoch 6/50\n",
            "6/6 [==============================] - 3s 444ms/step - loss: 0.2067 - accuracy: 0.9061 - val_loss: 0.3704 - val_accuracy: 0.8361 - lr: 0.0071\n",
            "Epoch 7/50\n",
            "6/6 [==============================] - 3s 435ms/step - loss: 0.2318 - accuracy: 0.8950 - val_loss: 0.4008 - val_accuracy: 0.8525 - lr: 0.0071\n",
            "Epoch 8/50\n",
            "6/6 [==============================] - 3s 557ms/step - loss: 0.1940 - accuracy: 0.9171 - val_loss: 0.7697 - val_accuracy: 0.7705 - lr: 0.0071\n",
            "Epoch 9/50\n",
            "6/6 [==============================] - 3s 452ms/step - loss: 0.2993 - accuracy: 0.8950 - val_loss: 0.3868 - val_accuracy: 0.8361 - lr: 0.0071\n",
            "1/1 [==============================] - 0s 342ms/step - loss: 6.7078 - accuracy: 0.8525\n",
            "final_val_loss : 6.707773685455322\n",
            "final_val_accuracy : 0.8524590134620667\n"
          ]
        },
        {
          "output_type": "display_data",
          "data": {
            "text/plain": [
              "<IPython.core.display.HTML object>"
            ],
            "text/html": [
              "Waiting for W&B process to finish... <strong style=\"color:green\">(success).</strong>"
            ]
          },
          "metadata": {}
        },
        {
          "output_type": "display_data",
          "data": {
            "text/plain": [
              "<IPython.core.display.HTML object>"
            ],
            "text/html": [
              "<style>\n",
              "    table.wandb td:nth-child(1) { padding: 0 10px; text-align: left ; width: auto;} td:nth-child(2) {text-align: left ; width: 100%}\n",
              "    .wandb-row { display: flex; flex-direction: row; flex-wrap: wrap; justify-content: flex-start; width: 100% }\n",
              "    .wandb-col { display: flex; flex-direction: column; flex-basis: 100%; flex: 1; padding: 10px; }\n",
              "    </style>\n",
              "<div class=\"wandb-row\"><div class=\"wandb-col\"><h3>Run history:</h3><br/><table class=\"wandb\"><tr><td>epoch/accuracy</td><td>▁▄▆▇▇████</td></tr><tr><td>epoch/epoch</td><td>▁▂▃▄▅▅▆▇█</td></tr><tr><td>epoch/learning_rate</td><td>████████▁</td></tr><tr><td>epoch/loss</td><td>█▄▂▁▁▁▁▁▁</td></tr><tr><td>epoch/lr</td><td>▁▁▁▁▁▁▁▁▁</td></tr><tr><td>epoch/val_accuracy</td><td>▃▁▅██▇▇▄▇</td></tr><tr><td>epoch/val_loss</td><td>██▃▂▁▁▁▃▁</td></tr><tr><td>final_val_accuracy</td><td>▁</td></tr><tr><td>final_val_loss</td><td>▁</td></tr></table><br/></div><div class=\"wandb-col\"><h3>Run summary:</h3><br/><table class=\"wandb\"><tr><td>epoch/accuracy</td><td>0.89503</td></tr><tr><td>epoch/epoch</td><td>8</td></tr><tr><td>epoch/learning_rate</td><td>0.00356</td></tr><tr><td>epoch/loss</td><td>0.29933</td></tr><tr><td>epoch/lr</td><td>0.00713</td></tr><tr><td>epoch/val_accuracy</td><td>0.83607</td></tr><tr><td>epoch/val_loss</td><td>0.38681</td></tr><tr><td>final_val_accuracy</td><td>0.85246</td></tr><tr><td>final_val_loss</td><td>6.70777</td></tr></table><br/></div></div>"
            ]
          },
          "metadata": {}
        },
        {
          "output_type": "display_data",
          "data": {
            "text/plain": [
              "<IPython.core.display.HTML object>"
            ],
            "text/html": [
              " View run <strong style=\"color:#cdcd00\">kind-sweep-5</strong> at: <a href='https://wandb.ai/nikofzj/DS_Tutorial_V1/runs/rl4gjdc8' target=\"_blank\">https://wandb.ai/nikofzj/DS_Tutorial_V1/runs/rl4gjdc8</a><br/>Synced 5 W&B file(s), 0 media file(s), 0 artifact file(s) and 0 other file(s)"
            ]
          },
          "metadata": {}
        },
        {
          "output_type": "display_data",
          "data": {
            "text/plain": [
              "<IPython.core.display.HTML object>"
            ],
            "text/html": [
              "Find logs at: <code>./wandb/run-20230502_104244-rl4gjdc8/logs</code>"
            ]
          },
          "metadata": {}
        },
        {
          "output_type": "stream",
          "name": "stderr",
          "text": [
            "\u001b[34m\u001b[1mwandb\u001b[0m: Agent Starting Run: t9c5jsab with config:\n",
            "\u001b[34m\u001b[1mwandb\u001b[0m: \taugmentation_multiplier: 1.479510287262502\n",
            "\u001b[34m\u001b[1mwandb\u001b[0m: \tdropout: 0.5\n",
            "\u001b[34m\u001b[1mwandb\u001b[0m: \tepochs: 50\n",
            "\u001b[34m\u001b[1mwandb\u001b[0m: \tlearning_rate: 0.0005642366389066466\n"
          ]
        },
        {
          "output_type": "display_data",
          "data": {
            "text/plain": [
              "<IPython.core.display.HTML object>"
            ],
            "text/html": [
              "Tracking run with wandb version 0.15.0"
            ]
          },
          "metadata": {}
        },
        {
          "output_type": "display_data",
          "data": {
            "text/plain": [
              "<IPython.core.display.HTML object>"
            ],
            "text/html": [
              "Run data is saved locally in <code>/content/wandb/run-20230502_104331-t9c5jsab</code>"
            ]
          },
          "metadata": {}
        },
        {
          "output_type": "display_data",
          "data": {
            "text/plain": [
              "<IPython.core.display.HTML object>"
            ],
            "text/html": [
              "Syncing run <strong><a href='https://wandb.ai/nikofzj/DS_Tutorial_V1/runs/t9c5jsab' target=\"_blank\">absurd-sweep-6</a></strong> to <a href='https://wandb.ai/nikofzj/DS_Tutorial_V1' target=\"_blank\">Weights & Biases</a> (<a href='https://wandb.me/run' target=\"_blank\">docs</a>)<br/>Sweep page: <a href='https://wandb.ai/nikofzj/DS_Tutorial_V1/sweeps/xqa6ct2t' target=\"_blank\">https://wandb.ai/nikofzj/DS_Tutorial_V1/sweeps/xqa6ct2t</a>"
            ]
          },
          "metadata": {}
        },
        {
          "output_type": "display_data",
          "data": {
            "text/plain": [
              "<IPython.core.display.HTML object>"
            ],
            "text/html": [
              " View project at <a href='https://wandb.ai/nikofzj/DS_Tutorial_V1' target=\"_blank\">https://wandb.ai/nikofzj/DS_Tutorial_V1</a>"
            ]
          },
          "metadata": {}
        },
        {
          "output_type": "display_data",
          "data": {
            "text/plain": [
              "<IPython.core.display.HTML object>"
            ],
            "text/html": [
              " View sweep at <a href='https://wandb.ai/nikofzj/DS_Tutorial_V1/sweeps/xqa6ct2t' target=\"_blank\">https://wandb.ai/nikofzj/DS_Tutorial_V1/sweeps/xqa6ct2t</a>"
            ]
          },
          "metadata": {}
        },
        {
          "output_type": "display_data",
          "data": {
            "text/plain": [
              "<IPython.core.display.HTML object>"
            ],
            "text/html": [
              " View run at <a href='https://wandb.ai/nikofzj/DS_Tutorial_V1/runs/t9c5jsab' target=\"_blank\">https://wandb.ai/nikofzj/DS_Tutorial_V1/runs/t9c5jsab</a>"
            ]
          },
          "metadata": {}
        },
        {
          "output_type": "stream",
          "name": "stdout",
          "text": [
            "Model: \"sequential\"\n",
            "_________________________________________________________________\n",
            " Layer (type)                Output Shape              Param #   \n",
            "=================================================================\n",
            " vgg19 (Functional)          (None, 7, 7, 512)         20024384  \n",
            "                                                                 \n",
            " flatten (Flatten)           (None, 25088)             0         \n",
            "                                                                 \n",
            " dropout (Dropout)           (None, 25088)             0         \n",
            "                                                                 \n",
            " dense (Dense)               (None, 1)                 25089     \n",
            "                                                                 \n",
            "=================================================================\n",
            "Total params: 20,049,473\n",
            "Trainable params: 25,089\n",
            "Non-trainable params: 20,024,384\n",
            "_________________________________________________________________\n",
            "Epoch 1/50\n",
            "6/6 [==============================] - 5s 641ms/step - loss: 0.8361 - accuracy: 0.4807 - val_loss: 0.5232 - val_accuracy: 0.7213 - lr: 5.6424e-04\n",
            "Epoch 2/50\n",
            "6/6 [==============================] - 3s 486ms/step - loss: 0.6321 - accuracy: 0.6575 - val_loss: 0.5226 - val_accuracy: 0.7213 - lr: 5.6424e-04\n",
            "Epoch 3/50\n",
            "6/6 [==============================] - 3s 457ms/step - loss: 0.7111 - accuracy: 0.6298 - val_loss: 0.4869 - val_accuracy: 0.7869 - lr: 5.6424e-04\n",
            "Epoch 4/50\n",
            "6/6 [==============================] - 3s 476ms/step - loss: 0.6685 - accuracy: 0.6740 - val_loss: 0.4659 - val_accuracy: 0.7705 - lr: 5.6424e-04\n",
            "Epoch 5/50\n",
            "6/6 [==============================] - 4s 678ms/step - loss: 0.6335 - accuracy: 0.7072 - val_loss: 0.4508 - val_accuracy: 0.7869 - lr: 5.6424e-04\n",
            "Epoch 6/50\n",
            "6/6 [==============================] - 3s 472ms/step - loss: 0.5973 - accuracy: 0.6575 - val_loss: 0.4337 - val_accuracy: 0.8033 - lr: 5.6424e-04\n",
            "Epoch 7/50\n",
            "6/6 [==============================] - 3s 472ms/step - loss: 0.6197 - accuracy: 0.7238 - val_loss: 0.4354 - val_accuracy: 0.7869 - lr: 5.6424e-04\n",
            "Epoch 8/50\n",
            "6/6 [==============================] - 3s 580ms/step - loss: 0.5157 - accuracy: 0.7514 - val_loss: 0.4135 - val_accuracy: 0.8197 - lr: 5.6424e-04\n",
            "Epoch 9/50\n",
            "6/6 [==============================] - 3s 531ms/step - loss: 0.5400 - accuracy: 0.7569 - val_loss: 0.4208 - val_accuracy: 0.8033 - lr: 5.6424e-04\n",
            "Epoch 10/50\n",
            "6/6 [==============================] - 3s 464ms/step - loss: 0.5230 - accuracy: 0.7459 - val_loss: 0.3991 - val_accuracy: 0.8197 - lr: 5.6424e-04\n",
            "Epoch 11/50\n",
            "6/6 [==============================] - 3s 459ms/step - loss: 0.5131 - accuracy: 0.7569 - val_loss: 0.3942 - val_accuracy: 0.7869 - lr: 5.6424e-04\n",
            "Epoch 12/50\n",
            "6/6 [==============================] - 4s 731ms/step - loss: 0.4692 - accuracy: 0.7735 - val_loss: 0.3914 - val_accuracy: 0.8361 - lr: 5.6424e-04\n",
            "Epoch 13/50\n",
            "6/6 [==============================] - 3s 459ms/step - loss: 0.4375 - accuracy: 0.8343 - val_loss: 0.3758 - val_accuracy: 0.8197 - lr: 5.6424e-04\n",
            "Epoch 14/50\n",
            "6/6 [==============================] - 3s 448ms/step - loss: 0.5293 - accuracy: 0.7182 - val_loss: 0.4002 - val_accuracy: 0.8197 - lr: 5.6424e-04\n",
            "Epoch 15/50\n",
            "6/6 [==============================] - 3s 460ms/step - loss: 0.5301 - accuracy: 0.7238 - val_loss: 0.3689 - val_accuracy: 0.8197 - lr: 5.6424e-04\n",
            "Epoch 16/50\n",
            "6/6 [==============================] - 3s 512ms/step - loss: 0.4950 - accuracy: 0.7624 - val_loss: 0.4028 - val_accuracy: 0.8197 - lr: 5.6424e-04\n",
            "Epoch 17/50\n",
            "6/6 [==============================] - 4s 555ms/step - loss: 0.4559 - accuracy: 0.7956 - val_loss: 0.3793 - val_accuracy: 0.8197 - lr: 5.6424e-04\n",
            "Epoch 18/50\n",
            "6/6 [==============================] - 3s 457ms/step - loss: 0.4524 - accuracy: 0.7845 - val_loss: 0.3633 - val_accuracy: 0.8197 - lr: 2.8212e-04\n",
            "Epoch 19/50\n",
            "6/6 [==============================] - 3s 448ms/step - loss: 0.4150 - accuracy: 0.7956 - val_loss: 0.3967 - val_accuracy: 0.8197 - lr: 2.8212e-04\n",
            "Epoch 20/50\n",
            "6/6 [==============================] - 3s 448ms/step - loss: 0.4283 - accuracy: 0.8122 - val_loss: 0.3578 - val_accuracy: 0.8361 - lr: 2.8212e-04\n",
            "Epoch 21/50\n",
            "6/6 [==============================] - 4s 693ms/step - loss: 0.4585 - accuracy: 0.7624 - val_loss: 0.3553 - val_accuracy: 0.8197 - lr: 2.8212e-04\n",
            "Epoch 22/50\n",
            "6/6 [==============================] - 3s 483ms/step - loss: 0.4533 - accuracy: 0.7680 - val_loss: 0.3806 - val_accuracy: 0.8361 - lr: 2.8212e-04\n",
            "Epoch 23/50\n",
            "6/6 [==============================] - 3s 460ms/step - loss: 0.4631 - accuracy: 0.7845 - val_loss: 0.3503 - val_accuracy: 0.8361 - lr: 1.4106e-04\n",
            "Epoch 24/50\n",
            "6/6 [==============================] - 3s 447ms/step - loss: 0.3877 - accuracy: 0.8343 - val_loss: 0.3511 - val_accuracy: 0.8197 - lr: 1.4106e-04\n",
            "Epoch 25/50\n",
            "6/6 [==============================] - 4s 688ms/step - loss: 0.4399 - accuracy: 0.8011 - val_loss: 0.3571 - val_accuracy: 0.8033 - lr: 1.4106e-04\n",
            "Epoch 26/50\n",
            "6/6 [==============================] - 3s 454ms/step - loss: 0.4136 - accuracy: 0.7901 - val_loss: 0.3557 - val_accuracy: 0.8033 - lr: 1.4106e-04\n",
            "1/1 [==============================] - 0s 340ms/step - loss: 4.4535 - accuracy: 0.7213\n",
            "final_val_loss : 4.453480243682861\n",
            "final_val_accuracy : 0.7213114500045776\n"
          ]
        },
        {
          "output_type": "display_data",
          "data": {
            "text/plain": [
              "<IPython.core.display.HTML object>"
            ],
            "text/html": [
              "Waiting for W&B process to finish... <strong style=\"color:green\">(success).</strong>"
            ]
          },
          "metadata": {}
        },
        {
          "output_type": "display_data",
          "data": {
            "text/plain": [
              "VBox(children=(Label(value='0.001 MB of 0.015 MB uploaded (0.000 MB deduped)\\r'), FloatProgress(value=0.077479…"
            ],
            "application/vnd.jupyter.widget-view+json": {
              "version_major": 2,
              "version_minor": 0,
              "model_id": "c57be8a1281c4a7983aa2dd42c68abbb"
            }
          },
          "metadata": {}
        },
        {
          "output_type": "display_data",
          "data": {
            "text/plain": [
              "<IPython.core.display.HTML object>"
            ],
            "text/html": [
              "<style>\n",
              "    table.wandb td:nth-child(1) { padding: 0 10px; text-align: left ; width: auto;} td:nth-child(2) {text-align: left ; width: 100%}\n",
              "    .wandb-row { display: flex; flex-direction: row; flex-wrap: wrap; justify-content: flex-start; width: 100% }\n",
              "    .wandb-col { display: flex; flex-direction: column; flex-basis: 100%; flex: 1; padding: 10px; }\n",
              "    </style>\n",
              "<div class=\"wandb-row\"><div class=\"wandb-col\"><h3>Run history:</h3><br/><table class=\"wandb\"><tr><td>epoch/accuracy</td><td>▁▄▄▅▅▄▆▆▆▆▆▇█▆▆▇▇▇▇█▇▇▇█▇▇</td></tr><tr><td>epoch/epoch</td><td>▁▁▂▂▂▂▃▃▃▄▄▄▄▅▅▅▅▆▆▆▇▇▇▇██</td></tr><tr><td>epoch/learning_rate</td><td>████████████████▃▃▃▃▃▁▁▁▁▁</td></tr><tr><td>epoch/loss</td><td>█▅▆▅▅▄▅▃▃▃▃▂▂▃▃▃▂▂▁▂▂▂▂▁▂▁</td></tr><tr><td>epoch/lr</td><td>█████████████████▃▃▃▃▃▁▁▁▁</td></tr><tr><td>epoch/val_accuracy</td><td>▁▁▅▄▅▆▅▇▆▇▅█▇▇▇▇▇▇▇█▇██▇▆▆</td></tr><tr><td>epoch/val_loss</td><td>██▇▆▅▄▄▄▄▃▃▃▂▃▂▃▂▂▃▁▁▂▁▁▁▁</td></tr><tr><td>final_val_accuracy</td><td>▁</td></tr><tr><td>final_val_loss</td><td>▁</td></tr></table><br/></div><div class=\"wandb-col\"><h3>Run summary:</h3><br/><table class=\"wandb\"><tr><td>epoch/accuracy</td><td>0.79006</td></tr><tr><td>epoch/epoch</td><td>25</td></tr><tr><td>epoch/learning_rate</td><td>0.00014</td></tr><tr><td>epoch/loss</td><td>0.41363</td></tr><tr><td>epoch/lr</td><td>0.00014</td></tr><tr><td>epoch/val_accuracy</td><td>0.80328</td></tr><tr><td>epoch/val_loss</td><td>0.35574</td></tr><tr><td>final_val_accuracy</td><td>0.72131</td></tr><tr><td>final_val_loss</td><td>4.45348</td></tr></table><br/></div></div>"
            ]
          },
          "metadata": {}
        },
        {
          "output_type": "display_data",
          "data": {
            "text/plain": [
              "<IPython.core.display.HTML object>"
            ],
            "text/html": [
              " View run <strong style=\"color:#cdcd00\">absurd-sweep-6</strong> at: <a href='https://wandb.ai/nikofzj/DS_Tutorial_V1/runs/t9c5jsab' target=\"_blank\">https://wandb.ai/nikofzj/DS_Tutorial_V1/runs/t9c5jsab</a><br/>Synced 5 W&B file(s), 0 media file(s), 0 artifact file(s) and 0 other file(s)"
            ]
          },
          "metadata": {}
        },
        {
          "output_type": "display_data",
          "data": {
            "text/plain": [
              "<IPython.core.display.HTML object>"
            ],
            "text/html": [
              "Find logs at: <code>./wandb/run-20230502_104331-t9c5jsab/logs</code>"
            ]
          },
          "metadata": {}
        },
        {
          "output_type": "stream",
          "name": "stderr",
          "text": [
            "\u001b[34m\u001b[1mwandb\u001b[0m: Agent Starting Run: 0bdtrjz3 with config:\n",
            "\u001b[34m\u001b[1mwandb\u001b[0m: \taugmentation_multiplier: 1.2255754959173162\n",
            "\u001b[34m\u001b[1mwandb\u001b[0m: \tdropout: 0.7\n",
            "\u001b[34m\u001b[1mwandb\u001b[0m: \tepochs: 50\n",
            "\u001b[34m\u001b[1mwandb\u001b[0m: \tlearning_rate: 0.006936968408154326\n"
          ]
        },
        {
          "output_type": "display_data",
          "data": {
            "text/plain": [
              "<IPython.core.display.HTML object>"
            ],
            "text/html": [
              "Tracking run with wandb version 0.15.0"
            ]
          },
          "metadata": {}
        },
        {
          "output_type": "display_data",
          "data": {
            "text/plain": [
              "<IPython.core.display.HTML object>"
            ],
            "text/html": [
              "Run data is saved locally in <code>/content/wandb/run-20230502_104514-0bdtrjz3</code>"
            ]
          },
          "metadata": {}
        },
        {
          "output_type": "display_data",
          "data": {
            "text/plain": [
              "<IPython.core.display.HTML object>"
            ],
            "text/html": [
              "Syncing run <strong><a href='https://wandb.ai/nikofzj/DS_Tutorial_V1/runs/0bdtrjz3' target=\"_blank\">zesty-sweep-7</a></strong> to <a href='https://wandb.ai/nikofzj/DS_Tutorial_V1' target=\"_blank\">Weights & Biases</a> (<a href='https://wandb.me/run' target=\"_blank\">docs</a>)<br/>Sweep page: <a href='https://wandb.ai/nikofzj/DS_Tutorial_V1/sweeps/xqa6ct2t' target=\"_blank\">https://wandb.ai/nikofzj/DS_Tutorial_V1/sweeps/xqa6ct2t</a>"
            ]
          },
          "metadata": {}
        },
        {
          "output_type": "display_data",
          "data": {
            "text/plain": [
              "<IPython.core.display.HTML object>"
            ],
            "text/html": [
              " View project at <a href='https://wandb.ai/nikofzj/DS_Tutorial_V1' target=\"_blank\">https://wandb.ai/nikofzj/DS_Tutorial_V1</a>"
            ]
          },
          "metadata": {}
        },
        {
          "output_type": "display_data",
          "data": {
            "text/plain": [
              "<IPython.core.display.HTML object>"
            ],
            "text/html": [
              " View sweep at <a href='https://wandb.ai/nikofzj/DS_Tutorial_V1/sweeps/xqa6ct2t' target=\"_blank\">https://wandb.ai/nikofzj/DS_Tutorial_V1/sweeps/xqa6ct2t</a>"
            ]
          },
          "metadata": {}
        },
        {
          "output_type": "display_data",
          "data": {
            "text/plain": [
              "<IPython.core.display.HTML object>"
            ],
            "text/html": [
              " View run at <a href='https://wandb.ai/nikofzj/DS_Tutorial_V1/runs/0bdtrjz3' target=\"_blank\">https://wandb.ai/nikofzj/DS_Tutorial_V1/runs/0bdtrjz3</a>"
            ]
          },
          "metadata": {}
        },
        {
          "output_type": "stream",
          "name": "stdout",
          "text": [
            "Model: \"sequential\"\n",
            "_________________________________________________________________\n",
            " Layer (type)                Output Shape              Param #   \n",
            "=================================================================\n",
            " vgg19 (Functional)          (None, 7, 7, 512)         20024384  \n",
            "                                                                 \n",
            " flatten (Flatten)           (None, 25088)             0         \n",
            "                                                                 \n",
            " dropout (Dropout)           (None, 25088)             0         \n",
            "                                                                 \n",
            " dense (Dense)               (None, 1)                 25089     \n",
            "                                                                 \n",
            "=================================================================\n",
            "Total params: 20,049,473\n",
            "Trainable params: 25,089\n",
            "Non-trainable params: 20,024,384\n",
            "_________________________________________________________________\n",
            "Epoch 1/50\n",
            "6/6 [==============================] - 5s 569ms/step - loss: 2.1026 - accuracy: 0.6077 - val_loss: 3.4344 - val_accuracy: 0.7049 - lr: 0.0069\n",
            "Epoch 2/50\n",
            "6/6 [==============================] - 3s 454ms/step - loss: 2.3946 - accuracy: 0.6464 - val_loss: 1.2625 - val_accuracy: 0.7869 - lr: 0.0069\n",
            "Epoch 3/50\n",
            "6/6 [==============================] - 4s 616ms/step - loss: 2.0793 - accuracy: 0.6630 - val_loss: 2.2664 - val_accuracy: 0.6066 - lr: 0.0069\n",
            "Epoch 4/50\n",
            "6/6 [==============================] - 3s 446ms/step - loss: 2.3190 - accuracy: 0.6354 - val_loss: 2.0014 - val_accuracy: 0.7377 - lr: 0.0069\n",
            "Epoch 5/50\n",
            "6/6 [==============================] - 3s 454ms/step - loss: 1.6094 - accuracy: 0.6409 - val_loss: 0.6698 - val_accuracy: 0.7705 - lr: 0.0069\n",
            "Epoch 6/50\n",
            "6/6 [==============================] - 3s 440ms/step - loss: 1.5462 - accuracy: 0.6796 - val_loss: 0.6885 - val_accuracy: 0.7705 - lr: 0.0069\n",
            "Epoch 7/50\n",
            "6/6 [==============================] - 4s 643ms/step - loss: 0.9840 - accuracy: 0.7569 - val_loss: 0.4590 - val_accuracy: 0.8033 - lr: 0.0069\n",
            "Epoch 8/50\n",
            "6/6 [==============================] - 3s 474ms/step - loss: 0.9907 - accuracy: 0.7127 - val_loss: 1.0107 - val_accuracy: 0.7541 - lr: 0.0069\n",
            "Epoch 9/50\n",
            "6/6 [==============================] - 3s 458ms/step - loss: 1.1146 - accuracy: 0.7127 - val_loss: 0.4388 - val_accuracy: 0.8197 - lr: 0.0069\n",
            "Epoch 10/50\n",
            "6/6 [==============================] - 3s 442ms/step - loss: 0.9298 - accuracy: 0.7293 - val_loss: 0.9846 - val_accuracy: 0.6721 - lr: 0.0069\n",
            "Epoch 11/50\n",
            "6/6 [==============================] - 4s 669ms/step - loss: 0.7899 - accuracy: 0.7624 - val_loss: 0.5257 - val_accuracy: 0.8197 - lr: 0.0069\n",
            "Epoch 12/50\n",
            "6/6 [==============================] - 3s 497ms/step - loss: 0.8306 - accuracy: 0.7956 - val_loss: 0.5634 - val_accuracy: 0.8361 - lr: 0.0069\n",
            "1/1 [==============================] - 0s 358ms/step - loss: 8.2253 - accuracy: 0.7869\n",
            "final_val_loss : 8.225296974182129\n",
            "final_val_accuracy : 0.7868852615356445\n"
          ]
        },
        {
          "output_type": "display_data",
          "data": {
            "text/plain": [
              "<IPython.core.display.HTML object>"
            ],
            "text/html": [
              "Waiting for W&B process to finish... <strong style=\"color:green\">(success).</strong>"
            ]
          },
          "metadata": {}
        },
        {
          "output_type": "display_data",
          "data": {
            "text/plain": [
              "VBox(children=(Label(value='0.001 MB of 0.001 MB uploaded (0.000 MB deduped)\\r'), FloatProgress(value=1.0, max…"
            ],
            "application/vnd.jupyter.widget-view+json": {
              "version_major": 2,
              "version_minor": 0,
              "model_id": "b50cb86f08c149cf8d3ded1604eac92b"
            }
          },
          "metadata": {}
        },
        {
          "output_type": "display_data",
          "data": {
            "text/plain": [
              "<IPython.core.display.HTML object>"
            ],
            "text/html": [
              "<style>\n",
              "    table.wandb td:nth-child(1) { padding: 0 10px; text-align: left ; width: auto;} td:nth-child(2) {text-align: left ; width: 100%}\n",
              "    .wandb-row { display: flex; flex-direction: row; flex-wrap: wrap; justify-content: flex-start; width: 100% }\n",
              "    .wandb-col { display: flex; flex-direction: column; flex-basis: 100%; flex: 1; padding: 10px; }\n",
              "    </style>\n",
              "<div class=\"wandb-row\"><div class=\"wandb-col\"><h3>Run history:</h3><br/><table class=\"wandb\"><tr><td>epoch/accuracy</td><td>▁▂▃▂▂▄▇▅▅▆▇█</td></tr><tr><td>epoch/epoch</td><td>▁▂▂▃▄▄▅▅▆▇▇█</td></tr><tr><td>epoch/learning_rate</td><td>▁▁▁▁▁▁▁▁▁▁▁▁</td></tr><tr><td>epoch/loss</td><td>▇█▇█▅▄▂▂▂▂▁▁</td></tr><tr><td>epoch/lr</td><td>▁▁▁▁▁▁▁▁▁▁▁▁</td></tr><tr><td>epoch/val_accuracy</td><td>▄▇▁▅▆▆▇▅▇▃▇█</td></tr><tr><td>epoch/val_loss</td><td>█▃▅▅▂▂▁▂▁▂▁▁</td></tr><tr><td>final_val_accuracy</td><td>▁</td></tr><tr><td>final_val_loss</td><td>▁</td></tr></table><br/></div><div class=\"wandb-col\"><h3>Run summary:</h3><br/><table class=\"wandb\"><tr><td>epoch/accuracy</td><td>0.79558</td></tr><tr><td>epoch/epoch</td><td>11</td></tr><tr><td>epoch/learning_rate</td><td>0.00694</td></tr><tr><td>epoch/loss</td><td>0.83057</td></tr><tr><td>epoch/lr</td><td>0.00694</td></tr><tr><td>epoch/val_accuracy</td><td>0.83607</td></tr><tr><td>epoch/val_loss</td><td>0.56343</td></tr><tr><td>final_val_accuracy</td><td>0.78689</td></tr><tr><td>final_val_loss</td><td>8.2253</td></tr></table><br/></div></div>"
            ]
          },
          "metadata": {}
        },
        {
          "output_type": "display_data",
          "data": {
            "text/plain": [
              "<IPython.core.display.HTML object>"
            ],
            "text/html": [
              " View run <strong style=\"color:#cdcd00\">zesty-sweep-7</strong> at: <a href='https://wandb.ai/nikofzj/DS_Tutorial_V1/runs/0bdtrjz3' target=\"_blank\">https://wandb.ai/nikofzj/DS_Tutorial_V1/runs/0bdtrjz3</a><br/>Synced 5 W&B file(s), 0 media file(s), 0 artifact file(s) and 0 other file(s)"
            ]
          },
          "metadata": {}
        },
        {
          "output_type": "display_data",
          "data": {
            "text/plain": [
              "<IPython.core.display.HTML object>"
            ],
            "text/html": [
              "Find logs at: <code>./wandb/run-20230502_104514-0bdtrjz3/logs</code>"
            ]
          },
          "metadata": {}
        },
        {
          "output_type": "stream",
          "name": "stderr",
          "text": [
            "\u001b[34m\u001b[1mwandb\u001b[0m: Agent Starting Run: 78m8iwfg with config:\n",
            "\u001b[34m\u001b[1mwandb\u001b[0m: \taugmentation_multiplier: 1.3757364544962862\n",
            "\u001b[34m\u001b[1mwandb\u001b[0m: \tdropout: 0.3\n",
            "\u001b[34m\u001b[1mwandb\u001b[0m: \tepochs: 50\n",
            "\u001b[34m\u001b[1mwandb\u001b[0m: \tlearning_rate: 0.007079928823124749\n"
          ]
        },
        {
          "output_type": "display_data",
          "data": {
            "text/plain": [
              "VBox(children=(Label(value='Waiting for wandb.init()...\\r'), FloatProgress(value=0.01666931663333647, max=1.0)…"
            ],
            "application/vnd.jupyter.widget-view+json": {
              "version_major": 2,
              "version_minor": 0,
              "model_id": "79c0e8ec58844b52a3984037a74e02ba"
            }
          },
          "metadata": {}
        },
        {
          "output_type": "display_data",
          "data": {
            "text/plain": [
              "<IPython.core.display.HTML object>"
            ],
            "text/html": [
              "Tracking run with wandb version 0.15.0"
            ]
          },
          "metadata": {}
        },
        {
          "output_type": "display_data",
          "data": {
            "text/plain": [
              "<IPython.core.display.HTML object>"
            ],
            "text/html": [
              "Run data is saved locally in <code>/content/wandb/run-20230502_104607-78m8iwfg</code>"
            ]
          },
          "metadata": {}
        },
        {
          "output_type": "display_data",
          "data": {
            "text/plain": [
              "<IPython.core.display.HTML object>"
            ],
            "text/html": [
              "Syncing run <strong><a href='https://wandb.ai/nikofzj/DS_Tutorial_V1/runs/78m8iwfg' target=\"_blank\">dauntless-sweep-8</a></strong> to <a href='https://wandb.ai/nikofzj/DS_Tutorial_V1' target=\"_blank\">Weights & Biases</a> (<a href='https://wandb.me/run' target=\"_blank\">docs</a>)<br/>Sweep page: <a href='https://wandb.ai/nikofzj/DS_Tutorial_V1/sweeps/xqa6ct2t' target=\"_blank\">https://wandb.ai/nikofzj/DS_Tutorial_V1/sweeps/xqa6ct2t</a>"
            ]
          },
          "metadata": {}
        },
        {
          "output_type": "display_data",
          "data": {
            "text/plain": [
              "<IPython.core.display.HTML object>"
            ],
            "text/html": [
              " View project at <a href='https://wandb.ai/nikofzj/DS_Tutorial_V1' target=\"_blank\">https://wandb.ai/nikofzj/DS_Tutorial_V1</a>"
            ]
          },
          "metadata": {}
        },
        {
          "output_type": "display_data",
          "data": {
            "text/plain": [
              "<IPython.core.display.HTML object>"
            ],
            "text/html": [
              " View sweep at <a href='https://wandb.ai/nikofzj/DS_Tutorial_V1/sweeps/xqa6ct2t' target=\"_blank\">https://wandb.ai/nikofzj/DS_Tutorial_V1/sweeps/xqa6ct2t</a>"
            ]
          },
          "metadata": {}
        },
        {
          "output_type": "display_data",
          "data": {
            "text/plain": [
              "<IPython.core.display.HTML object>"
            ],
            "text/html": [
              " View run at <a href='https://wandb.ai/nikofzj/DS_Tutorial_V1/runs/78m8iwfg' target=\"_blank\">https://wandb.ai/nikofzj/DS_Tutorial_V1/runs/78m8iwfg</a>"
            ]
          },
          "metadata": {}
        },
        {
          "output_type": "stream",
          "name": "stdout",
          "text": [
            "Model: \"sequential\"\n",
            "_________________________________________________________________\n",
            " Layer (type)                Output Shape              Param #   \n",
            "=================================================================\n",
            " vgg19 (Functional)          (None, 7, 7, 512)         20024384  \n",
            "                                                                 \n",
            " flatten (Flatten)           (None, 25088)             0         \n",
            "                                                                 \n",
            " dropout (Dropout)           (None, 25088)             0         \n",
            "                                                                 \n",
            " dense (Dense)               (None, 1)                 25089     \n",
            "                                                                 \n",
            "=================================================================\n",
            "Total params: 20,049,473\n",
            "Trainable params: 25,089\n",
            "Non-trainable params: 20,024,384\n",
            "_________________________________________________________________\n",
            "Epoch 1/50\n",
            "6/6 [==============================] - 4s 501ms/step - loss: 6.8693 - accuracy: 0.4751 - val_loss: 2.0871 - val_accuracy: 0.4590 - lr: 0.0071\n",
            "Epoch 2/50\n",
            "6/6 [==============================] - 3s 552ms/step - loss: 2.2772 - accuracy: 0.5967 - val_loss: 1.7838 - val_accuracy: 0.6230 - lr: 0.0071\n",
            "Epoch 3/50\n",
            "6/6 [==============================] - 3s 440ms/step - loss: 2.2312 - accuracy: 0.6519 - val_loss: 1.9763 - val_accuracy: 0.7049 - lr: 0.0071\n",
            "Epoch 4/50\n",
            "6/6 [==============================] - 3s 460ms/step - loss: 1.6819 - accuracy: 0.6740 - val_loss: 0.7796 - val_accuracy: 0.7541 - lr: 0.0071\n",
            "Epoch 5/50\n",
            "6/6 [==============================] - 3s 459ms/step - loss: 0.6951 - accuracy: 0.7680 - val_loss: 0.7543 - val_accuracy: 0.6721 - lr: 0.0071\n",
            "Epoch 6/50\n",
            "6/6 [==============================] - 3s 567ms/step - loss: 0.8831 - accuracy: 0.7017 - val_loss: 1.2238 - val_accuracy: 0.5410 - lr: 0.0071\n",
            "Epoch 7/50\n",
            "6/6 [==============================] - 3s 448ms/step - loss: 0.7646 - accuracy: 0.7403 - val_loss: 0.2947 - val_accuracy: 0.8525 - lr: 0.0071\n",
            "Epoch 8/50\n",
            "6/6 [==============================] - 3s 445ms/step - loss: 0.8239 - accuracy: 0.7569 - val_loss: 1.1473 - val_accuracy: 0.7541 - lr: 0.0071\n",
            "Epoch 9/50\n",
            "6/6 [==============================] - 3s 594ms/step - loss: 0.8446 - accuracy: 0.7624 - val_loss: 1.0863 - val_accuracy: 0.7869 - lr: 0.0071\n",
            "Epoch 10/50\n",
            "6/6 [==============================] - 3s 491ms/step - loss: 1.0877 - accuracy: 0.6851 - val_loss: 0.2618 - val_accuracy: 0.9016 - lr: 0.0071\n",
            "Epoch 11/50\n",
            "6/6 [==============================] - 3s 454ms/step - loss: 0.6192 - accuracy: 0.8011 - val_loss: 1.1653 - val_accuracy: 0.6230 - lr: 0.0071\n",
            "Epoch 12/50\n",
            "6/6 [==============================] - 3s 456ms/step - loss: 0.8792 - accuracy: 0.7403 - val_loss: 0.7505 - val_accuracy: 0.7541 - lr: 0.0071\n",
            "Epoch 13/50\n",
            "6/6 [==============================] - 3s 479ms/step - loss: 0.6074 - accuracy: 0.7845 - val_loss: 0.3321 - val_accuracy: 0.8525 - lr: 0.0071\n",
            "1/1 [==============================] - 0s 374ms/step - loss: 15.5292 - accuracy: 0.7049\n",
            "final_val_loss : 15.529236793518066\n",
            "final_val_accuracy : 0.7049180269241333\n"
          ]
        },
        {
          "output_type": "display_data",
          "data": {
            "text/plain": [
              "<IPython.core.display.HTML object>"
            ],
            "text/html": [
              "Waiting for W&B process to finish... <strong style=\"color:green\">(success).</strong>"
            ]
          },
          "metadata": {}
        },
        {
          "output_type": "display_data",
          "data": {
            "text/plain": [
              "VBox(children=(Label(value='0.001 MB of 0.001 MB uploaded (0.000 MB deduped)\\r'), FloatProgress(value=1.0, max…"
            ],
            "application/vnd.jupyter.widget-view+json": {
              "version_major": 2,
              "version_minor": 0,
              "model_id": "04f39b191a24447394f6714e82bb1614"
            }
          },
          "metadata": {}
        },
        {
          "output_type": "display_data",
          "data": {
            "text/plain": [
              "<IPython.core.display.HTML object>"
            ],
            "text/html": [
              "<style>\n",
              "    table.wandb td:nth-child(1) { padding: 0 10px; text-align: left ; width: auto;} td:nth-child(2) {text-align: left ; width: 100%}\n",
              "    .wandb-row { display: flex; flex-direction: row; flex-wrap: wrap; justify-content: flex-start; width: 100% }\n",
              "    .wandb-col { display: flex; flex-direction: column; flex-basis: 100%; flex: 1; padding: 10px; }\n",
              "    </style>\n",
              "<div class=\"wandb-row\"><div class=\"wandb-col\"><h3>Run history:</h3><br/><table class=\"wandb\"><tr><td>epoch/accuracy</td><td>▁▄▅▅▇▆▇▇▇▆█▇█</td></tr><tr><td>epoch/epoch</td><td>▁▂▂▃▃▄▅▅▆▆▇▇█</td></tr><tr><td>epoch/learning_rate</td><td>▁▁▁▁▁▁▁▁▁▁▁▁▁</td></tr><tr><td>epoch/loss</td><td>█▃▃▂▁▁▁▁▁▂▁▁▁</td></tr><tr><td>epoch/lr</td><td>▁▁▁▁▁▁▁▁▁▁▁▁▁</td></tr><tr><td>epoch/val_accuracy</td><td>▁▄▅▆▄▂▇▆▆█▄▆▇</td></tr><tr><td>epoch/val_loss</td><td>█▇█▃▃▅▁▄▄▁▄▃▁</td></tr><tr><td>final_val_accuracy</td><td>▁</td></tr><tr><td>final_val_loss</td><td>▁</td></tr></table><br/></div><div class=\"wandb-col\"><h3>Run summary:</h3><br/><table class=\"wandb\"><tr><td>epoch/accuracy</td><td>0.78453</td></tr><tr><td>epoch/epoch</td><td>12</td></tr><tr><td>epoch/learning_rate</td><td>0.00708</td></tr><tr><td>epoch/loss</td><td>0.60737</td></tr><tr><td>epoch/lr</td><td>0.00708</td></tr><tr><td>epoch/val_accuracy</td><td>0.85246</td></tr><tr><td>epoch/val_loss</td><td>0.33208</td></tr><tr><td>final_val_accuracy</td><td>0.70492</td></tr><tr><td>final_val_loss</td><td>15.52924</td></tr></table><br/></div></div>"
            ]
          },
          "metadata": {}
        },
        {
          "output_type": "display_data",
          "data": {
            "text/plain": [
              "<IPython.core.display.HTML object>"
            ],
            "text/html": [
              " View run <strong style=\"color:#cdcd00\">dauntless-sweep-8</strong> at: <a href='https://wandb.ai/nikofzj/DS_Tutorial_V1/runs/78m8iwfg' target=\"_blank\">https://wandb.ai/nikofzj/DS_Tutorial_V1/runs/78m8iwfg</a><br/>Synced 5 W&B file(s), 0 media file(s), 0 artifact file(s) and 0 other file(s)"
            ]
          },
          "metadata": {}
        },
        {
          "output_type": "display_data",
          "data": {
            "text/plain": [
              "<IPython.core.display.HTML object>"
            ],
            "text/html": [
              "Find logs at: <code>./wandb/run-20230502_104607-78m8iwfg/logs</code>"
            ]
          },
          "metadata": {}
        },
        {
          "output_type": "stream",
          "name": "stderr",
          "text": [
            "\u001b[34m\u001b[1mwandb\u001b[0m: Agent Starting Run: wfocmloz with config:\n",
            "\u001b[34m\u001b[1mwandb\u001b[0m: \taugmentation_multiplier: 0.8665709896309857\n",
            "\u001b[34m\u001b[1mwandb\u001b[0m: \tdropout: 0.7\n",
            "\u001b[34m\u001b[1mwandb\u001b[0m: \tepochs: 50\n",
            "\u001b[34m\u001b[1mwandb\u001b[0m: \tlearning_rate: 0.0031592867638498973\n"
          ]
        },
        {
          "output_type": "display_data",
          "data": {
            "text/plain": [
              "<IPython.core.display.HTML object>"
            ],
            "text/html": [
              "Tracking run with wandb version 0.15.0"
            ]
          },
          "metadata": {}
        },
        {
          "output_type": "display_data",
          "data": {
            "text/plain": [
              "<IPython.core.display.HTML object>"
            ],
            "text/html": [
              "Run data is saved locally in <code>/content/wandb/run-20230502_104708-wfocmloz</code>"
            ]
          },
          "metadata": {}
        },
        {
          "output_type": "display_data",
          "data": {
            "text/plain": [
              "<IPython.core.display.HTML object>"
            ],
            "text/html": [
              "Syncing run <strong><a href='https://wandb.ai/nikofzj/DS_Tutorial_V1/runs/wfocmloz' target=\"_blank\">ethereal-sweep-9</a></strong> to <a href='https://wandb.ai/nikofzj/DS_Tutorial_V1' target=\"_blank\">Weights & Biases</a> (<a href='https://wandb.me/run' target=\"_blank\">docs</a>)<br/>Sweep page: <a href='https://wandb.ai/nikofzj/DS_Tutorial_V1/sweeps/xqa6ct2t' target=\"_blank\">https://wandb.ai/nikofzj/DS_Tutorial_V1/sweeps/xqa6ct2t</a>"
            ]
          },
          "metadata": {}
        },
        {
          "output_type": "display_data",
          "data": {
            "text/plain": [
              "<IPython.core.display.HTML object>"
            ],
            "text/html": [
              " View project at <a href='https://wandb.ai/nikofzj/DS_Tutorial_V1' target=\"_blank\">https://wandb.ai/nikofzj/DS_Tutorial_V1</a>"
            ]
          },
          "metadata": {}
        },
        {
          "output_type": "display_data",
          "data": {
            "text/plain": [
              "<IPython.core.display.HTML object>"
            ],
            "text/html": [
              " View sweep at <a href='https://wandb.ai/nikofzj/DS_Tutorial_V1/sweeps/xqa6ct2t' target=\"_blank\">https://wandb.ai/nikofzj/DS_Tutorial_V1/sweeps/xqa6ct2t</a>"
            ]
          },
          "metadata": {}
        },
        {
          "output_type": "display_data",
          "data": {
            "text/plain": [
              "<IPython.core.display.HTML object>"
            ],
            "text/html": [
              " View run at <a href='https://wandb.ai/nikofzj/DS_Tutorial_V1/runs/wfocmloz' target=\"_blank\">https://wandb.ai/nikofzj/DS_Tutorial_V1/runs/wfocmloz</a>"
            ]
          },
          "metadata": {}
        },
        {
          "output_type": "stream",
          "name": "stdout",
          "text": [
            "Model: \"sequential\"\n",
            "_________________________________________________________________\n",
            " Layer (type)                Output Shape              Param #   \n",
            "=================================================================\n",
            " vgg19 (Functional)          (None, 7, 7, 512)         20024384  \n",
            "                                                                 \n",
            " flatten (Flatten)           (None, 25088)             0         \n",
            "                                                                 \n",
            " dropout (Dropout)           (None, 25088)             0         \n",
            "                                                                 \n",
            " dense (Dense)               (None, 1)                 25089     \n",
            "                                                                 \n",
            "=================================================================\n",
            "Total params: 20,049,473\n",
            "Trainable params: 25,089\n",
            "Non-trainable params: 20,024,384\n",
            "_________________________________________________________________\n",
            "Epoch 1/50\n",
            "6/6 [==============================] - 4s 468ms/step - loss: 1.0779 - accuracy: 0.5801 - val_loss: 0.7128 - val_accuracy: 0.7705 - lr: 0.0032\n",
            "Epoch 2/50\n",
            "6/6 [==============================] - 3s 456ms/step - loss: 0.8139 - accuracy: 0.6851 - val_loss: 0.4857 - val_accuracy: 0.7705 - lr: 0.0032\n",
            "Epoch 3/50\n",
            "6/6 [==============================] - 4s 672ms/step - loss: 0.9137 - accuracy: 0.6575 - val_loss: 0.7824 - val_accuracy: 0.6885 - lr: 0.0032\n",
            "Epoch 4/50\n",
            "6/6 [==============================] - 3s 483ms/step - loss: 0.5681 - accuracy: 0.7293 - val_loss: 0.4210 - val_accuracy: 0.8361 - lr: 0.0032\n",
            "Epoch 5/50\n",
            "6/6 [==============================] - 3s 453ms/step - loss: 0.5102 - accuracy: 0.7459 - val_loss: 0.3875 - val_accuracy: 0.7705 - lr: 0.0032\n",
            "Epoch 6/50\n",
            "6/6 [==============================] - 3s 443ms/step - loss: 0.6296 - accuracy: 0.7680 - val_loss: 0.5081 - val_accuracy: 0.7869 - lr: 0.0032\n",
            "Epoch 7/50\n",
            "6/6 [==============================] - 3s 523ms/step - loss: 0.5143 - accuracy: 0.7680 - val_loss: 0.3533 - val_accuracy: 0.8689 - lr: 0.0032\n",
            "Epoch 8/50\n",
            "6/6 [==============================] - 3s 438ms/step - loss: 0.4703 - accuracy: 0.7680 - val_loss: 0.5891 - val_accuracy: 0.7541 - lr: 0.0032\n",
            "Epoch 9/50\n",
            "6/6 [==============================] - 3s 434ms/step - loss: 0.5932 - accuracy: 0.7403 - val_loss: 0.4305 - val_accuracy: 0.8361 - lr: 0.0032\n",
            "Epoch 10/50\n",
            "6/6 [==============================] - 4s 602ms/step - loss: 0.4054 - accuracy: 0.8674 - val_loss: 0.3912 - val_accuracy: 0.8689 - lr: 0.0032\n",
            "1/1 [==============================] - 0s 352ms/step - loss: 6.6869 - accuracy: 0.7213\n",
            "final_val_loss : 6.686872959136963\n",
            "final_val_accuracy : 0.7213114500045776\n"
          ]
        },
        {
          "output_type": "display_data",
          "data": {
            "text/plain": [
              "<IPython.core.display.HTML object>"
            ],
            "text/html": [
              "Waiting for W&B process to finish... <strong style=\"color:green\">(success).</strong>"
            ]
          },
          "metadata": {}
        },
        {
          "output_type": "display_data",
          "data": {
            "text/plain": [
              "<IPython.core.display.HTML object>"
            ],
            "text/html": [
              "<style>\n",
              "    table.wandb td:nth-child(1) { padding: 0 10px; text-align: left ; width: auto;} td:nth-child(2) {text-align: left ; width: 100%}\n",
              "    .wandb-row { display: flex; flex-direction: row; flex-wrap: wrap; justify-content: flex-start; width: 100% }\n",
              "    .wandb-col { display: flex; flex-direction: column; flex-basis: 100%; flex: 1; padding: 10px; }\n",
              "    </style>\n",
              "<div class=\"wandb-row\"><div class=\"wandb-col\"><h3>Run history:</h3><br/><table class=\"wandb\"><tr><td>epoch/accuracy</td><td>▁▄▃▅▅▆▆▆▅█</td></tr><tr><td>epoch/epoch</td><td>▁▂▃▃▄▅▆▆▇█</td></tr><tr><td>epoch/learning_rate</td><td>▁▁▁▁▁▁▁▁▁▁</td></tr><tr><td>epoch/loss</td><td>█▅▆▃▂▃▂▂▃▁</td></tr><tr><td>epoch/lr</td><td>▁▁▁▁▁▁▁▁▁▁</td></tr><tr><td>epoch/val_accuracy</td><td>▄▄▁▇▄▅█▄▇█</td></tr><tr><td>epoch/val_loss</td><td>▇▃█▂▂▄▁▅▂▂</td></tr><tr><td>final_val_accuracy</td><td>▁</td></tr><tr><td>final_val_loss</td><td>▁</td></tr></table><br/></div><div class=\"wandb-col\"><h3>Run summary:</h3><br/><table class=\"wandb\"><tr><td>epoch/accuracy</td><td>0.8674</td></tr><tr><td>epoch/epoch</td><td>9</td></tr><tr><td>epoch/learning_rate</td><td>0.00316</td></tr><tr><td>epoch/loss</td><td>0.40543</td></tr><tr><td>epoch/lr</td><td>0.00316</td></tr><tr><td>epoch/val_accuracy</td><td>0.86885</td></tr><tr><td>epoch/val_loss</td><td>0.39121</td></tr><tr><td>final_val_accuracy</td><td>0.72131</td></tr><tr><td>final_val_loss</td><td>6.68687</td></tr></table><br/></div></div>"
            ]
          },
          "metadata": {}
        },
        {
          "output_type": "display_data",
          "data": {
            "text/plain": [
              "<IPython.core.display.HTML object>"
            ],
            "text/html": [
              " View run <strong style=\"color:#cdcd00\">ethereal-sweep-9</strong> at: <a href='https://wandb.ai/nikofzj/DS_Tutorial_V1/runs/wfocmloz' target=\"_blank\">https://wandb.ai/nikofzj/DS_Tutorial_V1/runs/wfocmloz</a><br/>Synced 5 W&B file(s), 0 media file(s), 0 artifact file(s) and 0 other file(s)"
            ]
          },
          "metadata": {}
        },
        {
          "output_type": "display_data",
          "data": {
            "text/plain": [
              "<IPython.core.display.HTML object>"
            ],
            "text/html": [
              "Find logs at: <code>./wandb/run-20230502_104708-wfocmloz/logs</code>"
            ]
          },
          "metadata": {}
        },
        {
          "output_type": "stream",
          "name": "stderr",
          "text": [
            "\u001b[34m\u001b[1mwandb\u001b[0m: Agent Starting Run: va81m1vk with config:\n",
            "\u001b[34m\u001b[1mwandb\u001b[0m: \taugmentation_multiplier: 0.7757353254969619\n",
            "\u001b[34m\u001b[1mwandb\u001b[0m: \tdropout: 0.4\n",
            "\u001b[34m\u001b[1mwandb\u001b[0m: \tepochs: 50\n",
            "\u001b[34m\u001b[1mwandb\u001b[0m: \tlearning_rate: 0.007455971212543036\n"
          ]
        },
        {
          "output_type": "display_data",
          "data": {
            "text/plain": [
              "<IPython.core.display.HTML object>"
            ],
            "text/html": [
              "Tracking run with wandb version 0.15.0"
            ]
          },
          "metadata": {}
        },
        {
          "output_type": "display_data",
          "data": {
            "text/plain": [
              "<IPython.core.display.HTML object>"
            ],
            "text/html": [
              "Run data is saved locally in <code>/content/wandb/run-20230502_104800-va81m1vk</code>"
            ]
          },
          "metadata": {}
        },
        {
          "output_type": "display_data",
          "data": {
            "text/plain": [
              "<IPython.core.display.HTML object>"
            ],
            "text/html": [
              "Syncing run <strong><a href='https://wandb.ai/nikofzj/DS_Tutorial_V1/runs/va81m1vk' target=\"_blank\">breezy-sweep-10</a></strong> to <a href='https://wandb.ai/nikofzj/DS_Tutorial_V1' target=\"_blank\">Weights & Biases</a> (<a href='https://wandb.me/run' target=\"_blank\">docs</a>)<br/>Sweep page: <a href='https://wandb.ai/nikofzj/DS_Tutorial_V1/sweeps/xqa6ct2t' target=\"_blank\">https://wandb.ai/nikofzj/DS_Tutorial_V1/sweeps/xqa6ct2t</a>"
            ]
          },
          "metadata": {}
        },
        {
          "output_type": "display_data",
          "data": {
            "text/plain": [
              "<IPython.core.display.HTML object>"
            ],
            "text/html": [
              " View project at <a href='https://wandb.ai/nikofzj/DS_Tutorial_V1' target=\"_blank\">https://wandb.ai/nikofzj/DS_Tutorial_V1</a>"
            ]
          },
          "metadata": {}
        },
        {
          "output_type": "display_data",
          "data": {
            "text/plain": [
              "<IPython.core.display.HTML object>"
            ],
            "text/html": [
              " View sweep at <a href='https://wandb.ai/nikofzj/DS_Tutorial_V1/sweeps/xqa6ct2t' target=\"_blank\">https://wandb.ai/nikofzj/DS_Tutorial_V1/sweeps/xqa6ct2t</a>"
            ]
          },
          "metadata": {}
        },
        {
          "output_type": "display_data",
          "data": {
            "text/plain": [
              "<IPython.core.display.HTML object>"
            ],
            "text/html": [
              " View run at <a href='https://wandb.ai/nikofzj/DS_Tutorial_V1/runs/va81m1vk' target=\"_blank\">https://wandb.ai/nikofzj/DS_Tutorial_V1/runs/va81m1vk</a>"
            ]
          },
          "metadata": {}
        },
        {
          "output_type": "stream",
          "name": "stdout",
          "text": [
            "Model: \"sequential\"\n",
            "_________________________________________________________________\n",
            " Layer (type)                Output Shape              Param #   \n",
            "=================================================================\n",
            " vgg19 (Functional)          (None, 7, 7, 512)         20024384  \n",
            "                                                                 \n",
            " flatten (Flatten)           (None, 25088)             0         \n",
            "                                                                 \n",
            " dropout (Dropout)           (None, 25088)             0         \n",
            "                                                                 \n",
            " dense (Dense)               (None, 1)                 25089     \n",
            "                                                                 \n",
            "=================================================================\n",
            "Total params: 20,049,473\n",
            "Trainable params: 25,089\n",
            "Non-trainable params: 20,024,384\n",
            "_________________________________________________________________\n",
            "Epoch 1/50\n",
            "6/6 [==============================] - 4s 482ms/step - loss: 6.2144 - accuracy: 0.5359 - val_loss: 4.6090 - val_accuracy: 0.3279 - lr: 0.0075\n",
            "Epoch 2/50\n",
            "6/6 [==============================] - 3s 454ms/step - loss: 3.5026 - accuracy: 0.5801 - val_loss: 1.4038 - val_accuracy: 0.7377 - lr: 0.0075\n",
            "Epoch 3/50\n",
            "6/6 [==============================] - 3s 441ms/step - loss: 2.4789 - accuracy: 0.6575 - val_loss: 1.6291 - val_accuracy: 0.7869 - lr: 0.0075\n",
            "Epoch 4/50\n",
            "6/6 [==============================] - 4s 633ms/step - loss: 1.6166 - accuracy: 0.6961 - val_loss: 1.0839 - val_accuracy: 0.7377 - lr: 0.0075\n",
            "Epoch 5/50\n",
            "6/6 [==============================] - 3s 449ms/step - loss: 0.9595 - accuracy: 0.7514 - val_loss: 0.4273 - val_accuracy: 0.8361 - lr: 0.0075\n",
            "Epoch 6/50\n",
            "6/6 [==============================] - 3s 447ms/step - loss: 0.6543 - accuracy: 0.8398 - val_loss: 0.6359 - val_accuracy: 0.8197 - lr: 0.0075\n",
            "Epoch 7/50\n",
            "6/6 [==============================] - 3s 448ms/step - loss: 0.4991 - accuracy: 0.8508 - val_loss: 0.4796 - val_accuracy: 0.8361 - lr: 0.0075\n",
            "Epoch 8/50\n",
            "6/6 [==============================] - 3s 512ms/step - loss: 0.4057 - accuracy: 0.8564 - val_loss: 0.6780 - val_accuracy: 0.8197 - lr: 0.0075\n",
            "1/1 [==============================] - 0s 362ms/step - loss: 13.3479 - accuracy: 0.7377\n",
            "final_val_loss : 13.347929954528809\n",
            "final_val_accuracy : 0.7377049326896667\n"
          ]
        },
        {
          "output_type": "display_data",
          "data": {
            "text/plain": [
              "<IPython.core.display.HTML object>"
            ],
            "text/html": [
              "Waiting for W&B process to finish... <strong style=\"color:green\">(success).</strong>"
            ]
          },
          "metadata": {}
        },
        {
          "output_type": "display_data",
          "data": {
            "text/plain": [
              "<IPython.core.display.HTML object>"
            ],
            "text/html": [
              "<style>\n",
              "    table.wandb td:nth-child(1) { padding: 0 10px; text-align: left ; width: auto;} td:nth-child(2) {text-align: left ; width: 100%}\n",
              "    .wandb-row { display: flex; flex-direction: row; flex-wrap: wrap; justify-content: flex-start; width: 100% }\n",
              "    .wandb-col { display: flex; flex-direction: column; flex-basis: 100%; flex: 1; padding: 10px; }\n",
              "    </style>\n",
              "<div class=\"wandb-row\"><div class=\"wandb-col\"><h3>Run history:</h3><br/><table class=\"wandb\"><tr><td>epoch/accuracy</td><td>▁▂▄▅▆███</td></tr><tr><td>epoch/epoch</td><td>▁▂▃▄▅▆▇█</td></tr><tr><td>epoch/learning_rate</td><td>▁▁▁▁▁▁▁▁</td></tr><tr><td>epoch/loss</td><td>█▅▃▂▂▁▁▁</td></tr><tr><td>epoch/lr</td><td>▁▁▁▁▁▁▁▁</td></tr><tr><td>epoch/val_accuracy</td><td>▁▇▇▇████</td></tr><tr><td>epoch/val_loss</td><td>█▃▃▂▁▁▁▁</td></tr><tr><td>final_val_accuracy</td><td>▁</td></tr><tr><td>final_val_loss</td><td>▁</td></tr></table><br/></div><div class=\"wandb-col\"><h3>Run summary:</h3><br/><table class=\"wandb\"><tr><td>epoch/accuracy</td><td>0.85635</td></tr><tr><td>epoch/epoch</td><td>7</td></tr><tr><td>epoch/learning_rate</td><td>0.00746</td></tr><tr><td>epoch/loss</td><td>0.40566</td></tr><tr><td>epoch/lr</td><td>0.00746</td></tr><tr><td>epoch/val_accuracy</td><td>0.81967</td></tr><tr><td>epoch/val_loss</td><td>0.67797</td></tr><tr><td>final_val_accuracy</td><td>0.7377</td></tr><tr><td>final_val_loss</td><td>13.34793</td></tr></table><br/></div></div>"
            ]
          },
          "metadata": {}
        },
        {
          "output_type": "display_data",
          "data": {
            "text/plain": [
              "<IPython.core.display.HTML object>"
            ],
            "text/html": [
              " View run <strong style=\"color:#cdcd00\">breezy-sweep-10</strong> at: <a href='https://wandb.ai/nikofzj/DS_Tutorial_V1/runs/va81m1vk' target=\"_blank\">https://wandb.ai/nikofzj/DS_Tutorial_V1/runs/va81m1vk</a><br/>Synced 5 W&B file(s), 0 media file(s), 0 artifact file(s) and 0 other file(s)"
            ]
          },
          "metadata": {}
        },
        {
          "output_type": "display_data",
          "data": {
            "text/plain": [
              "<IPython.core.display.HTML object>"
            ],
            "text/html": [
              "Find logs at: <code>./wandb/run-20230502_104800-va81m1vk/logs</code>"
            ]
          },
          "metadata": {}
        },
        {
          "output_type": "stream",
          "name": "stderr",
          "text": [
            "\u001b[34m\u001b[1mwandb\u001b[0m: Agent Starting Run: 8y4azaf1 with config:\n",
            "\u001b[34m\u001b[1mwandb\u001b[0m: \taugmentation_multiplier: 1.2479605901929716\n",
            "\u001b[34m\u001b[1mwandb\u001b[0m: \tdropout: 0.5\n",
            "\u001b[34m\u001b[1mwandb\u001b[0m: \tepochs: 50\n",
            "\u001b[34m\u001b[1mwandb\u001b[0m: \tlearning_rate: 0.0026455764192836306\n"
          ]
        },
        {
          "output_type": "display_data",
          "data": {
            "text/plain": [
              "<IPython.core.display.HTML object>"
            ],
            "text/html": [
              "Tracking run with wandb version 0.15.0"
            ]
          },
          "metadata": {}
        },
        {
          "output_type": "display_data",
          "data": {
            "text/plain": [
              "<IPython.core.display.HTML object>"
            ],
            "text/html": [
              "Run data is saved locally in <code>/content/wandb/run-20230502_104842-8y4azaf1</code>"
            ]
          },
          "metadata": {}
        },
        {
          "output_type": "display_data",
          "data": {
            "text/plain": [
              "<IPython.core.display.HTML object>"
            ],
            "text/html": [
              "Syncing run <strong><a href='https://wandb.ai/nikofzj/DS_Tutorial_V1/runs/8y4azaf1' target=\"_blank\">lucky-sweep-11</a></strong> to <a href='https://wandb.ai/nikofzj/DS_Tutorial_V1' target=\"_blank\">Weights & Biases</a> (<a href='https://wandb.me/run' target=\"_blank\">docs</a>)<br/>Sweep page: <a href='https://wandb.ai/nikofzj/DS_Tutorial_V1/sweeps/xqa6ct2t' target=\"_blank\">https://wandb.ai/nikofzj/DS_Tutorial_V1/sweeps/xqa6ct2t</a>"
            ]
          },
          "metadata": {}
        },
        {
          "output_type": "display_data",
          "data": {
            "text/plain": [
              "<IPython.core.display.HTML object>"
            ],
            "text/html": [
              " View project at <a href='https://wandb.ai/nikofzj/DS_Tutorial_V1' target=\"_blank\">https://wandb.ai/nikofzj/DS_Tutorial_V1</a>"
            ]
          },
          "metadata": {}
        },
        {
          "output_type": "display_data",
          "data": {
            "text/plain": [
              "<IPython.core.display.HTML object>"
            ],
            "text/html": [
              " View sweep at <a href='https://wandb.ai/nikofzj/DS_Tutorial_V1/sweeps/xqa6ct2t' target=\"_blank\">https://wandb.ai/nikofzj/DS_Tutorial_V1/sweeps/xqa6ct2t</a>"
            ]
          },
          "metadata": {}
        },
        {
          "output_type": "display_data",
          "data": {
            "text/plain": [
              "<IPython.core.display.HTML object>"
            ],
            "text/html": [
              " View run at <a href='https://wandb.ai/nikofzj/DS_Tutorial_V1/runs/8y4azaf1' target=\"_blank\">https://wandb.ai/nikofzj/DS_Tutorial_V1/runs/8y4azaf1</a>"
            ]
          },
          "metadata": {}
        },
        {
          "output_type": "stream",
          "name": "stdout",
          "text": [
            "Model: \"sequential\"\n",
            "_________________________________________________________________\n",
            " Layer (type)                Output Shape              Param #   \n",
            "=================================================================\n",
            " vgg19 (Functional)          (None, 7, 7, 512)         20024384  \n",
            "                                                                 \n",
            " flatten (Flatten)           (None, 25088)             0         \n",
            "                                                                 \n",
            " dropout (Dropout)           (None, 25088)             0         \n",
            "                                                                 \n",
            " dense (Dense)               (None, 1)                 25089     \n",
            "                                                                 \n",
            "=================================================================\n",
            "Total params: 20,049,473\n",
            "Trainable params: 25,089\n",
            "Non-trainable params: 20,024,384\n",
            "_________________________________________________________________\n",
            "Epoch 1/50\n",
            "6/6 [==============================] - 4s 477ms/step - loss: 1.7925 - accuracy: 0.5083 - val_loss: 0.8026 - val_accuracy: 0.7049 - lr: 0.0026\n",
            "Epoch 2/50\n",
            "6/6 [==============================] - 3s 452ms/step - loss: 0.8508 - accuracy: 0.6685 - val_loss: 0.6377 - val_accuracy: 0.6721 - lr: 0.0026\n",
            "Epoch 3/50\n",
            "6/6 [==============================] - 3s 574ms/step - loss: 0.8832 - accuracy: 0.6519 - val_loss: 0.5076 - val_accuracy: 0.7705 - lr: 0.0026\n",
            "Epoch 4/50\n",
            "6/6 [==============================] - 3s 499ms/step - loss: 0.6016 - accuracy: 0.6906 - val_loss: 0.6907 - val_accuracy: 0.7705 - lr: 0.0026\n",
            "Epoch 5/50\n",
            "6/6 [==============================] - 3s 452ms/step - loss: 0.6346 - accuracy: 0.7348 - val_loss: 0.4014 - val_accuracy: 0.8033 - lr: 0.0026\n",
            "Epoch 6/50\n",
            "6/6 [==============================] - 3s 471ms/step - loss: 0.5918 - accuracy: 0.7514 - val_loss: 0.4022 - val_accuracy: 0.8033 - lr: 0.0026\n",
            "Epoch 7/50\n",
            "6/6 [==============================] - 3s 521ms/step - loss: 0.4663 - accuracy: 0.7735 - val_loss: 0.3898 - val_accuracy: 0.8197 - lr: 0.0026\n",
            "Epoch 8/50\n",
            "6/6 [==============================] - 4s 636ms/step - loss: 0.4251 - accuracy: 0.7845 - val_loss: 0.4705 - val_accuracy: 0.7705 - lr: 0.0026\n",
            "Epoch 9/50\n",
            "6/6 [==============================] - 3s 456ms/step - loss: 0.5774 - accuracy: 0.7348 - val_loss: 0.3454 - val_accuracy: 0.8361 - lr: 0.0026\n",
            "Epoch 10/50\n",
            "6/6 [==============================] - 3s 446ms/step - loss: 0.4766 - accuracy: 0.7956 - val_loss: 0.4998 - val_accuracy: 0.7869 - lr: 0.0026\n",
            "Epoch 11/50\n",
            "6/6 [==============================] - 3s 465ms/step - loss: 0.4810 - accuracy: 0.7790 - val_loss: 0.4434 - val_accuracy: 0.8197 - lr: 0.0026\n",
            "Epoch 12/50\n",
            "6/6 [==============================] - 3s 498ms/step - loss: 0.3757 - accuracy: 0.8453 - val_loss: 0.3443 - val_accuracy: 0.8361 - lr: 0.0026\n",
            "Epoch 13/50\n",
            "6/6 [==============================] - 3s 465ms/step - loss: 0.4331 - accuracy: 0.7956 - val_loss: 0.3350 - val_accuracy: 0.8525 - lr: 0.0026\n",
            "Epoch 14/50\n",
            "6/6 [==============================] - 3s 447ms/step - loss: 0.4324 - accuracy: 0.8122 - val_loss: 0.3985 - val_accuracy: 0.8361 - lr: 0.0026\n",
            "Epoch 15/50\n",
            "6/6 [==============================] - 3s 477ms/step - loss: 0.3453 - accuracy: 0.8674 - val_loss: 0.3251 - val_accuracy: 0.8361 - lr: 0.0026\n",
            "Epoch 16/50\n",
            "6/6 [==============================] - 3s 459ms/step - loss: 0.3768 - accuracy: 0.8398 - val_loss: 0.3170 - val_accuracy: 0.8689 - lr: 0.0026\n",
            "Epoch 17/50\n",
            "6/6 [==============================] - 3s 452ms/step - loss: 0.3501 - accuracy: 0.8453 - val_loss: 0.3102 - val_accuracy: 0.8689 - lr: 0.0026\n",
            "Epoch 18/50\n",
            "6/6 [==============================] - 3s 567ms/step - loss: 0.3469 - accuracy: 0.8287 - val_loss: 0.3261 - val_accuracy: 0.8361 - lr: 0.0026\n",
            "Epoch 19/50\n",
            "6/6 [==============================] - 3s 534ms/step - loss: 0.2836 - accuracy: 0.8619 - val_loss: 0.2970 - val_accuracy: 0.8525 - lr: 0.0026\n",
            "Epoch 20/50\n",
            "6/6 [==============================] - 3s 447ms/step - loss: 0.3091 - accuracy: 0.8564 - val_loss: 0.3756 - val_accuracy: 0.8525 - lr: 0.0026\n",
            "Epoch 21/50\n",
            "6/6 [==============================] - 3s 450ms/step - loss: 0.4373 - accuracy: 0.7956 - val_loss: 0.4568 - val_accuracy: 0.8033 - lr: 0.0026\n",
            "Epoch 22/50\n",
            "6/6 [==============================] - 3s 486ms/step - loss: 0.4682 - accuracy: 0.7845 - val_loss: 0.2895 - val_accuracy: 0.9016 - lr: 0.0013\n",
            "Epoch 23/50\n",
            "6/6 [==============================] - 4s 651ms/step - loss: 0.2659 - accuracy: 0.8619 - val_loss: 0.2713 - val_accuracy: 0.8852 - lr: 0.0013\n",
            "Epoch 24/50\n",
            "6/6 [==============================] - 3s 453ms/step - loss: 0.3045 - accuracy: 0.8840 - val_loss: 0.2853 - val_accuracy: 0.8852 - lr: 0.0013\n",
            "Epoch 25/50\n",
            "6/6 [==============================] - 3s 441ms/step - loss: 0.2685 - accuracy: 0.8840 - val_loss: 0.2720 - val_accuracy: 0.8525 - lr: 0.0013\n",
            "Epoch 26/50\n",
            "6/6 [==============================] - 3s 458ms/step - loss: 0.2488 - accuracy: 0.9171 - val_loss: 0.2670 - val_accuracy: 0.9016 - lr: 0.0013\n",
            "Epoch 27/50\n",
            "6/6 [==============================] - 3s 577ms/step - loss: 0.2516 - accuracy: 0.9006 - val_loss: 0.2706 - val_accuracy: 0.8852 - lr: 0.0013\n",
            "Epoch 28/50\n",
            "6/6 [==============================] - 3s 493ms/step - loss: 0.2555 - accuracy: 0.9171 - val_loss: 0.2683 - val_accuracy: 0.8852 - lr: 6.6139e-04\n",
            "Epoch 29/50\n",
            "6/6 [==============================] - 3s 484ms/step - loss: 0.2391 - accuracy: 0.8895 - val_loss: 0.2696 - val_accuracy: 0.9016 - lr: 6.6139e-04\n",
            "1/1 [==============================] - 0s 343ms/step - loss: 7.4089 - accuracy: 0.8525\n",
            "final_val_loss : 7.408886432647705\n",
            "final_val_accuracy : 0.8524590134620667\n"
          ]
        },
        {
          "output_type": "display_data",
          "data": {
            "text/plain": [
              "<IPython.core.display.HTML object>"
            ],
            "text/html": [
              "Waiting for W&B process to finish... <strong style=\"color:green\">(success).</strong>"
            ]
          },
          "metadata": {}
        },
        {
          "output_type": "display_data",
          "data": {
            "text/plain": [
              "<IPython.core.display.HTML object>"
            ],
            "text/html": [
              "<style>\n",
              "    table.wandb td:nth-child(1) { padding: 0 10px; text-align: left ; width: auto;} td:nth-child(2) {text-align: left ; width: 100%}\n",
              "    .wandb-row { display: flex; flex-direction: row; flex-wrap: wrap; justify-content: flex-start; width: 100% }\n",
              "    .wandb-col { display: flex; flex-direction: column; flex-basis: 100%; flex: 1; padding: 10px; }\n",
              "    </style>\n",
              "<div class=\"wandb-row\"><div class=\"wandb-col\"><h3>Run history:</h3><br/><table class=\"wandb\"><tr><td>epoch/accuracy</td><td>▁▄▃▄▅▅▆▆▅▆▆▇▆▆▇▇▇▆▇▇▆▆▇▇▇████</td></tr><tr><td>epoch/epoch</td><td>▁▁▁▂▂▂▃▃▃▃▃▄▄▄▅▅▅▅▅▆▆▆▇▇▇▇▇██</td></tr><tr><td>epoch/learning_rate</td><td>████████████████████▃▃▃▃▃▃▁▁▁</td></tr><tr><td>epoch/loss</td><td>█▄▄▃▃▃▂▂▃▂▂▂▂▂▁▂▂▁▁▁▂▂▁▁▁▁▁▁▁</td></tr><tr><td>epoch/lr</td><td>█████████████████████▃▃▃▃▃▃▁▁</td></tr><tr><td>epoch/val_accuracy</td><td>▂▁▄▄▅▅▅▄▆▅▅▆▇▆▆▇▇▆▇▇▅███▇████</td></tr><tr><td>epoch/val_loss</td><td>█▆▄▇▃▃▃▄▂▄▃▂▂▃▂▂▂▂▁▂▃▁▁▁▁▁▁▁▁</td></tr><tr><td>final_val_accuracy</td><td>▁</td></tr><tr><td>final_val_loss</td><td>▁</td></tr></table><br/></div><div class=\"wandb-col\"><h3>Run summary:</h3><br/><table class=\"wandb\"><tr><td>epoch/accuracy</td><td>0.8895</td></tr><tr><td>epoch/epoch</td><td>28</td></tr><tr><td>epoch/learning_rate</td><td>0.00066</td></tr><tr><td>epoch/loss</td><td>0.23907</td></tr><tr><td>epoch/lr</td><td>0.00066</td></tr><tr><td>epoch/val_accuracy</td><td>0.90164</td></tr><tr><td>epoch/val_loss</td><td>0.26961</td></tr><tr><td>final_val_accuracy</td><td>0.85246</td></tr><tr><td>final_val_loss</td><td>7.40889</td></tr></table><br/></div></div>"
            ]
          },
          "metadata": {}
        },
        {
          "output_type": "display_data",
          "data": {
            "text/plain": [
              "<IPython.core.display.HTML object>"
            ],
            "text/html": [
              " View run <strong style=\"color:#cdcd00\">lucky-sweep-11</strong> at: <a href='https://wandb.ai/nikofzj/DS_Tutorial_V1/runs/8y4azaf1' target=\"_blank\">https://wandb.ai/nikofzj/DS_Tutorial_V1/runs/8y4azaf1</a><br/>Synced 5 W&B file(s), 0 media file(s), 0 artifact file(s) and 0 other file(s)"
            ]
          },
          "metadata": {}
        },
        {
          "output_type": "display_data",
          "data": {
            "text/plain": [
              "<IPython.core.display.HTML object>"
            ],
            "text/html": [
              "Find logs at: <code>./wandb/run-20230502_104842-8y4azaf1/logs</code>"
            ]
          },
          "metadata": {}
        },
        {
          "output_type": "stream",
          "name": "stderr",
          "text": [
            "\u001b[34m\u001b[1mwandb\u001b[0m: Agent Starting Run: q7znvxnn with config:\n",
            "\u001b[34m\u001b[1mwandb\u001b[0m: \taugmentation_multiplier: 1.211518188180685\n",
            "\u001b[34m\u001b[1mwandb\u001b[0m: \tdropout: 0.5\n",
            "\u001b[34m\u001b[1mwandb\u001b[0m: \tepochs: 50\n",
            "\u001b[34m\u001b[1mwandb\u001b[0m: \tlearning_rate: 0.007215968780783163\n"
          ]
        },
        {
          "output_type": "display_data",
          "data": {
            "text/plain": [
              "<IPython.core.display.HTML object>"
            ],
            "text/html": [
              "Tracking run with wandb version 0.15.0"
            ]
          },
          "metadata": {}
        },
        {
          "output_type": "display_data",
          "data": {
            "text/plain": [
              "<IPython.core.display.HTML object>"
            ],
            "text/html": [
              "Run data is saved locally in <code>/content/wandb/run-20230502_105030-q7znvxnn</code>"
            ]
          },
          "metadata": {}
        },
        {
          "output_type": "display_data",
          "data": {
            "text/plain": [
              "<IPython.core.display.HTML object>"
            ],
            "text/html": [
              "Syncing run <strong><a href='https://wandb.ai/nikofzj/DS_Tutorial_V1/runs/q7znvxnn' target=\"_blank\">volcanic-sweep-12</a></strong> to <a href='https://wandb.ai/nikofzj/DS_Tutorial_V1' target=\"_blank\">Weights & Biases</a> (<a href='https://wandb.me/run' target=\"_blank\">docs</a>)<br/>Sweep page: <a href='https://wandb.ai/nikofzj/DS_Tutorial_V1/sweeps/xqa6ct2t' target=\"_blank\">https://wandb.ai/nikofzj/DS_Tutorial_V1/sweeps/xqa6ct2t</a>"
            ]
          },
          "metadata": {}
        },
        {
          "output_type": "display_data",
          "data": {
            "text/plain": [
              "<IPython.core.display.HTML object>"
            ],
            "text/html": [
              " View project at <a href='https://wandb.ai/nikofzj/DS_Tutorial_V1' target=\"_blank\">https://wandb.ai/nikofzj/DS_Tutorial_V1</a>"
            ]
          },
          "metadata": {}
        },
        {
          "output_type": "display_data",
          "data": {
            "text/plain": [
              "<IPython.core.display.HTML object>"
            ],
            "text/html": [
              " View sweep at <a href='https://wandb.ai/nikofzj/DS_Tutorial_V1/sweeps/xqa6ct2t' target=\"_blank\">https://wandb.ai/nikofzj/DS_Tutorial_V1/sweeps/xqa6ct2t</a>"
            ]
          },
          "metadata": {}
        },
        {
          "output_type": "display_data",
          "data": {
            "text/plain": [
              "<IPython.core.display.HTML object>"
            ],
            "text/html": [
              " View run at <a href='https://wandb.ai/nikofzj/DS_Tutorial_V1/runs/q7znvxnn' target=\"_blank\">https://wandb.ai/nikofzj/DS_Tutorial_V1/runs/q7znvxnn</a>"
            ]
          },
          "metadata": {}
        },
        {
          "output_type": "stream",
          "name": "stdout",
          "text": [
            "Model: \"sequential\"\n",
            "_________________________________________________________________\n",
            " Layer (type)                Output Shape              Param #   \n",
            "=================================================================\n",
            " vgg19 (Functional)          (None, 7, 7, 512)         20024384  \n",
            "                                                                 \n",
            " flatten (Flatten)           (None, 25088)             0         \n",
            "                                                                 \n",
            " dropout (Dropout)           (None, 25088)             0         \n",
            "                                                                 \n",
            " dense (Dense)               (None, 1)                 25089     \n",
            "                                                                 \n",
            "=================================================================\n",
            "Total params: 20,049,473\n",
            "Trainable params: 25,089\n",
            "Non-trainable params: 20,024,384\n",
            "_________________________________________________________________\n",
            "Epoch 1/50\n",
            "6/6 [==============================] - 4s 504ms/step - loss: 3.7639 - accuracy: 0.5028 - val_loss: 2.5465 - val_accuracy: 0.7049 - lr: 0.0072\n",
            "Epoch 2/50\n",
            "6/6 [==============================] - 3s 448ms/step - loss: 2.9585 - accuracy: 0.5967 - val_loss: 1.3873 - val_accuracy: 0.5902 - lr: 0.0072\n",
            "Epoch 3/50\n",
            "6/6 [==============================] - 3s 476ms/step - loss: 2.3035 - accuracy: 0.6409 - val_loss: 0.7145 - val_accuracy: 0.7541 - lr: 0.0072\n",
            "Epoch 4/50\n",
            "6/6 [==============================] - 3s 444ms/step - loss: 1.5431 - accuracy: 0.6740 - val_loss: 1.7051 - val_accuracy: 0.7377 - lr: 0.0072\n",
            "Epoch 5/50\n",
            "6/6 [==============================] - 3s 501ms/step - loss: 1.3085 - accuracy: 0.7127 - val_loss: 0.6444 - val_accuracy: 0.7869 - lr: 0.0072\n",
            "Epoch 6/50\n",
            "6/6 [==============================] - 3s 452ms/step - loss: 0.7363 - accuracy: 0.7790 - val_loss: 0.4779 - val_accuracy: 0.7705 - lr: 0.0072\n",
            "Epoch 7/50\n",
            "6/6 [==============================] - 3s 494ms/step - loss: 0.6891 - accuracy: 0.7569 - val_loss: 0.4451 - val_accuracy: 0.8361 - lr: 0.0072\n",
            "Epoch 8/50\n",
            "6/6 [==============================] - 3s 439ms/step - loss: 0.6359 - accuracy: 0.7956 - val_loss: 1.2829 - val_accuracy: 0.7541 - lr: 0.0072\n",
            "Epoch 9/50\n",
            "6/6 [==============================] - 4s 614ms/step - loss: 0.7861 - accuracy: 0.7845 - val_loss: 0.8026 - val_accuracy: 0.8197 - lr: 0.0072\n",
            "Epoch 10/50\n",
            "6/6 [==============================] - 3s 445ms/step - loss: 0.6227 - accuracy: 0.8066 - val_loss: 0.4335 - val_accuracy: 0.8361 - lr: 0.0072\n",
            "Epoch 11/50\n",
            "6/6 [==============================] - 3s 449ms/step - loss: 0.7109 - accuracy: 0.8011 - val_loss: 0.5868 - val_accuracy: 0.8361 - lr: 0.0072\n",
            "Epoch 12/50\n",
            "6/6 [==============================] - 3s 474ms/step - loss: 0.5322 - accuracy: 0.7956 - val_loss: 0.6190 - val_accuracy: 0.8033 - lr: 0.0072\n",
            "Epoch 13/50\n",
            "6/6 [==============================] - 4s 625ms/step - loss: 0.4209 - accuracy: 0.8508 - val_loss: 0.7532 - val_accuracy: 0.8033 - lr: 0.0036\n",
            "1/1 [==============================] - 0s 346ms/step - loss: 25.4687 - accuracy: 0.6885\n",
            "final_val_loss : 25.468666076660156\n",
            "final_val_accuracy : 0.688524603843689\n"
          ]
        },
        {
          "output_type": "display_data",
          "data": {
            "text/plain": [
              "<IPython.core.display.HTML object>"
            ],
            "text/html": [
              "Waiting for W&B process to finish... <strong style=\"color:green\">(success).</strong>"
            ]
          },
          "metadata": {}
        },
        {
          "output_type": "display_data",
          "data": {
            "text/plain": [
              "<IPython.core.display.HTML object>"
            ],
            "text/html": [
              "<style>\n",
              "    table.wandb td:nth-child(1) { padding: 0 10px; text-align: left ; width: auto;} td:nth-child(2) {text-align: left ; width: 100%}\n",
              "    .wandb-row { display: flex; flex-direction: row; flex-wrap: wrap; justify-content: flex-start; width: 100% }\n",
              "    .wandb-col { display: flex; flex-direction: column; flex-basis: 100%; flex: 1; padding: 10px; }\n",
              "    </style>\n",
              "<div class=\"wandb-row\"><div class=\"wandb-col\"><h3>Run history:</h3><br/><table class=\"wandb\"><tr><td>epoch/accuracy</td><td>▁▃▄▄▅▇▆▇▇▇▇▇█</td></tr><tr><td>epoch/epoch</td><td>▁▂▂▃▃▄▅▅▆▆▇▇█</td></tr><tr><td>epoch/learning_rate</td><td>███████████▁▁</td></tr><tr><td>epoch/loss</td><td>█▆▅▃▃▂▂▁▂▁▂▁▁</td></tr><tr><td>epoch/lr</td><td>████████████▁</td></tr><tr><td>epoch/val_accuracy</td><td>▄▁▆▅▇▆█▆███▇▇</td></tr><tr><td>epoch/val_loss</td><td>█▄▂▅▂▁▁▄▂▁▂▂▂</td></tr><tr><td>final_val_accuracy</td><td>▁</td></tr><tr><td>final_val_loss</td><td>▁</td></tr></table><br/></div><div class=\"wandb-col\"><h3>Run summary:</h3><br/><table class=\"wandb\"><tr><td>epoch/accuracy</td><td>0.85083</td></tr><tr><td>epoch/epoch</td><td>12</td></tr><tr><td>epoch/learning_rate</td><td>0.00361</td></tr><tr><td>epoch/loss</td><td>0.42094</td></tr><tr><td>epoch/lr</td><td>0.00361</td></tr><tr><td>epoch/val_accuracy</td><td>0.80328</td></tr><tr><td>epoch/val_loss</td><td>0.75318</td></tr><tr><td>final_val_accuracy</td><td>0.68852</td></tr><tr><td>final_val_loss</td><td>25.46867</td></tr></table><br/></div></div>"
            ]
          },
          "metadata": {}
        },
        {
          "output_type": "display_data",
          "data": {
            "text/plain": [
              "<IPython.core.display.HTML object>"
            ],
            "text/html": [
              " View run <strong style=\"color:#cdcd00\">volcanic-sweep-12</strong> at: <a href='https://wandb.ai/nikofzj/DS_Tutorial_V1/runs/q7znvxnn' target=\"_blank\">https://wandb.ai/nikofzj/DS_Tutorial_V1/runs/q7znvxnn</a><br/>Synced 5 W&B file(s), 0 media file(s), 0 artifact file(s) and 0 other file(s)"
            ]
          },
          "metadata": {}
        },
        {
          "output_type": "display_data",
          "data": {
            "text/plain": [
              "<IPython.core.display.HTML object>"
            ],
            "text/html": [
              "Find logs at: <code>./wandb/run-20230502_105030-q7znvxnn/logs</code>"
            ]
          },
          "metadata": {}
        },
        {
          "output_type": "stream",
          "name": "stderr",
          "text": [
            "\u001b[34m\u001b[1mwandb\u001b[0m: Agent Starting Run: 87i0lena with config:\n",
            "\u001b[34m\u001b[1mwandb\u001b[0m: \taugmentation_multiplier: 1.049683215807801\n",
            "\u001b[34m\u001b[1mwandb\u001b[0m: \tdropout: 0.7\n",
            "\u001b[34m\u001b[1mwandb\u001b[0m: \tepochs: 50\n",
            "\u001b[34m\u001b[1mwandb\u001b[0m: \tlearning_rate: 0.009570116326676556\n"
          ]
        },
        {
          "output_type": "display_data",
          "data": {
            "text/plain": [
              "<IPython.core.display.HTML object>"
            ],
            "text/html": [
              "Tracking run with wandb version 0.15.0"
            ]
          },
          "metadata": {}
        },
        {
          "output_type": "display_data",
          "data": {
            "text/plain": [
              "<IPython.core.display.HTML object>"
            ],
            "text/html": [
              "Run data is saved locally in <code>/content/wandb/run-20230502_105132-87i0lena</code>"
            ]
          },
          "metadata": {}
        },
        {
          "output_type": "display_data",
          "data": {
            "text/plain": [
              "<IPython.core.display.HTML object>"
            ],
            "text/html": [
              "Syncing run <strong><a href='https://wandb.ai/nikofzj/DS_Tutorial_V1/runs/87i0lena' target=\"_blank\">smooth-sweep-13</a></strong> to <a href='https://wandb.ai/nikofzj/DS_Tutorial_V1' target=\"_blank\">Weights & Biases</a> (<a href='https://wandb.me/run' target=\"_blank\">docs</a>)<br/>Sweep page: <a href='https://wandb.ai/nikofzj/DS_Tutorial_V1/sweeps/xqa6ct2t' target=\"_blank\">https://wandb.ai/nikofzj/DS_Tutorial_V1/sweeps/xqa6ct2t</a>"
            ]
          },
          "metadata": {}
        },
        {
          "output_type": "display_data",
          "data": {
            "text/plain": [
              "<IPython.core.display.HTML object>"
            ],
            "text/html": [
              " View project at <a href='https://wandb.ai/nikofzj/DS_Tutorial_V1' target=\"_blank\">https://wandb.ai/nikofzj/DS_Tutorial_V1</a>"
            ]
          },
          "metadata": {}
        },
        {
          "output_type": "display_data",
          "data": {
            "text/plain": [
              "<IPython.core.display.HTML object>"
            ],
            "text/html": [
              " View sweep at <a href='https://wandb.ai/nikofzj/DS_Tutorial_V1/sweeps/xqa6ct2t' target=\"_blank\">https://wandb.ai/nikofzj/DS_Tutorial_V1/sweeps/xqa6ct2t</a>"
            ]
          },
          "metadata": {}
        },
        {
          "output_type": "display_data",
          "data": {
            "text/plain": [
              "<IPython.core.display.HTML object>"
            ],
            "text/html": [
              " View run at <a href='https://wandb.ai/nikofzj/DS_Tutorial_V1/runs/87i0lena' target=\"_blank\">https://wandb.ai/nikofzj/DS_Tutorial_V1/runs/87i0lena</a>"
            ]
          },
          "metadata": {}
        },
        {
          "output_type": "stream",
          "name": "stdout",
          "text": [
            "Model: \"sequential\"\n",
            "_________________________________________________________________\n",
            " Layer (type)                Output Shape              Param #   \n",
            "=================================================================\n",
            " vgg19 (Functional)          (None, 7, 7, 512)         20024384  \n",
            "                                                                 \n",
            " flatten (Flatten)           (None, 25088)             0         \n",
            "                                                                 \n",
            " dropout (Dropout)           (None, 25088)             0         \n",
            "                                                                 \n",
            " dense (Dense)               (None, 1)                 25089     \n",
            "                                                                 \n",
            "=================================================================\n",
            "Total params: 20,049,473\n",
            "Trainable params: 25,089\n",
            "Non-trainable params: 20,024,384\n",
            "_________________________________________________________________\n",
            "Epoch 1/50\n",
            "6/6 [==============================] - 4s 466ms/step - loss: 8.7226 - accuracy: 0.4972 - val_loss: 13.6516 - val_accuracy: 0.2951 - lr: 0.0096\n",
            "Epoch 2/50\n",
            "6/6 [==============================] - 3s 499ms/step - loss: 7.1082 - accuracy: 0.5359 - val_loss: 5.6383 - val_accuracy: 0.7049 - lr: 0.0096\n",
            "Epoch 3/50\n",
            "6/6 [==============================] - 3s 440ms/step - loss: 4.2180 - accuracy: 0.6409 - val_loss: 5.5830 - val_accuracy: 0.5902 - lr: 0.0096\n",
            "Epoch 4/50\n",
            "6/6 [==============================] - 3s 450ms/step - loss: 4.0210 - accuracy: 0.6354 - val_loss: 2.1586 - val_accuracy: 0.7705 - lr: 0.0096\n",
            "Epoch 5/50\n",
            "6/6 [==============================] - 3s 464ms/step - loss: 2.1535 - accuracy: 0.6740 - val_loss: 1.2155 - val_accuracy: 0.7705 - lr: 0.0096\n",
            "Epoch 6/50\n",
            "6/6 [==============================] - 3s 616ms/step - loss: 1.6574 - accuracy: 0.6796 - val_loss: 0.8661 - val_accuracy: 0.7213 - lr: 0.0096\n",
            "Epoch 7/50\n",
            "6/6 [==============================] - 3s 495ms/step - loss: 0.9843 - accuracy: 0.7735 - val_loss: 0.6781 - val_accuracy: 0.7869 - lr: 0.0096\n",
            "Epoch 8/50\n",
            "6/6 [==============================] - 3s 437ms/step - loss: 1.0034 - accuracy: 0.7459 - val_loss: 0.7571 - val_accuracy: 0.8033 - lr: 0.0096\n",
            "Epoch 9/50\n",
            "6/6 [==============================] - 3s 448ms/step - loss: 0.7934 - accuracy: 0.7790 - val_loss: 0.6949 - val_accuracy: 0.8197 - lr: 0.0096\n",
            "Epoch 10/50\n",
            "6/6 [==============================] - 3s 455ms/step - loss: 0.7959 - accuracy: 0.8066 - val_loss: 0.7877 - val_accuracy: 0.7869 - lr: 0.0096\n",
            "1/1 [==============================] - 0s 367ms/step - loss: 84.5380 - accuracy: 0.4590\n",
            "final_val_loss : 84.5379638671875\n",
            "final_val_accuracy : 0.4590163826942444\n"
          ]
        },
        {
          "output_type": "display_data",
          "data": {
            "text/plain": [
              "<IPython.core.display.HTML object>"
            ],
            "text/html": [
              "Waiting for W&B process to finish... <strong style=\"color:green\">(success).</strong>"
            ]
          },
          "metadata": {}
        },
        {
          "output_type": "display_data",
          "data": {
            "text/plain": [
              "<IPython.core.display.HTML object>"
            ],
            "text/html": [
              "<style>\n",
              "    table.wandb td:nth-child(1) { padding: 0 10px; text-align: left ; width: auto;} td:nth-child(2) {text-align: left ; width: 100%}\n",
              "    .wandb-row { display: flex; flex-direction: row; flex-wrap: wrap; justify-content: flex-start; width: 100% }\n",
              "    .wandb-col { display: flex; flex-direction: column; flex-basis: 100%; flex: 1; padding: 10px; }\n",
              "    </style>\n",
              "<div class=\"wandb-row\"><div class=\"wandb-col\"><h3>Run history:</h3><br/><table class=\"wandb\"><tr><td>epoch/accuracy</td><td>▁▂▄▄▅▅▇▇▇█</td></tr><tr><td>epoch/epoch</td><td>▁▂▃▃▄▅▆▆▇█</td></tr><tr><td>epoch/learning_rate</td><td>▁▁▁▁▁▁▁▁▁▁</td></tr><tr><td>epoch/loss</td><td>█▇▄▄▂▂▁▁▁▁</td></tr><tr><td>epoch/lr</td><td>▁▁▁▁▁▁▁▁▁▁</td></tr><tr><td>epoch/val_accuracy</td><td>▁▆▅▇▇▇████</td></tr><tr><td>epoch/val_loss</td><td>█▄▄▂▁▁▁▁▁▁</td></tr><tr><td>final_val_accuracy</td><td>▁</td></tr><tr><td>final_val_loss</td><td>▁</td></tr></table><br/></div><div class=\"wandb-col\"><h3>Run summary:</h3><br/><table class=\"wandb\"><tr><td>epoch/accuracy</td><td>0.80663</td></tr><tr><td>epoch/epoch</td><td>9</td></tr><tr><td>epoch/learning_rate</td><td>0.00957</td></tr><tr><td>epoch/loss</td><td>0.79585</td></tr><tr><td>epoch/lr</td><td>0.00957</td></tr><tr><td>epoch/val_accuracy</td><td>0.78689</td></tr><tr><td>epoch/val_loss</td><td>0.78766</td></tr><tr><td>final_val_accuracy</td><td>0.45902</td></tr><tr><td>final_val_loss</td><td>84.53796</td></tr></table><br/></div></div>"
            ]
          },
          "metadata": {}
        },
        {
          "output_type": "display_data",
          "data": {
            "text/plain": [
              "<IPython.core.display.HTML object>"
            ],
            "text/html": [
              " View run <strong style=\"color:#cdcd00\">smooth-sweep-13</strong> at: <a href='https://wandb.ai/nikofzj/DS_Tutorial_V1/runs/87i0lena' target=\"_blank\">https://wandb.ai/nikofzj/DS_Tutorial_V1/runs/87i0lena</a><br/>Synced 5 W&B file(s), 0 media file(s), 0 artifact file(s) and 0 other file(s)"
            ]
          },
          "metadata": {}
        },
        {
          "output_type": "display_data",
          "data": {
            "text/plain": [
              "<IPython.core.display.HTML object>"
            ],
            "text/html": [
              "Find logs at: <code>./wandb/run-20230502_105132-87i0lena/logs</code>"
            ]
          },
          "metadata": {}
        },
        {
          "output_type": "stream",
          "name": "stderr",
          "text": [
            "\u001b[34m\u001b[1mwandb\u001b[0m: Agent Starting Run: qf7euask with config:\n",
            "\u001b[34m\u001b[1mwandb\u001b[0m: \taugmentation_multiplier: 1.2046830258480667\n",
            "\u001b[34m\u001b[1mwandb\u001b[0m: \tdropout: 0.7\n",
            "\u001b[34m\u001b[1mwandb\u001b[0m: \tepochs: 50\n",
            "\u001b[34m\u001b[1mwandb\u001b[0m: \tlearning_rate: 0.0007375583668478302\n"
          ]
        },
        {
          "output_type": "display_data",
          "data": {
            "text/plain": [
              "<IPython.core.display.HTML object>"
            ],
            "text/html": [
              "Tracking run with wandb version 0.15.0"
            ]
          },
          "metadata": {}
        },
        {
          "output_type": "display_data",
          "data": {
            "text/plain": [
              "<IPython.core.display.HTML object>"
            ],
            "text/html": [
              "Run data is saved locally in <code>/content/wandb/run-20230502_105219-qf7euask</code>"
            ]
          },
          "metadata": {}
        },
        {
          "output_type": "display_data",
          "data": {
            "text/plain": [
              "<IPython.core.display.HTML object>"
            ],
            "text/html": [
              "Syncing run <strong><a href='https://wandb.ai/nikofzj/DS_Tutorial_V1/runs/qf7euask' target=\"_blank\">azure-sweep-14</a></strong> to <a href='https://wandb.ai/nikofzj/DS_Tutorial_V1' target=\"_blank\">Weights & Biases</a> (<a href='https://wandb.me/run' target=\"_blank\">docs</a>)<br/>Sweep page: <a href='https://wandb.ai/nikofzj/DS_Tutorial_V1/sweeps/xqa6ct2t' target=\"_blank\">https://wandb.ai/nikofzj/DS_Tutorial_V1/sweeps/xqa6ct2t</a>"
            ]
          },
          "metadata": {}
        },
        {
          "output_type": "display_data",
          "data": {
            "text/plain": [
              "<IPython.core.display.HTML object>"
            ],
            "text/html": [
              " View project at <a href='https://wandb.ai/nikofzj/DS_Tutorial_V1' target=\"_blank\">https://wandb.ai/nikofzj/DS_Tutorial_V1</a>"
            ]
          },
          "metadata": {}
        },
        {
          "output_type": "display_data",
          "data": {
            "text/plain": [
              "<IPython.core.display.HTML object>"
            ],
            "text/html": [
              " View sweep at <a href='https://wandb.ai/nikofzj/DS_Tutorial_V1/sweeps/xqa6ct2t' target=\"_blank\">https://wandb.ai/nikofzj/DS_Tutorial_V1/sweeps/xqa6ct2t</a>"
            ]
          },
          "metadata": {}
        },
        {
          "output_type": "display_data",
          "data": {
            "text/plain": [
              "<IPython.core.display.HTML object>"
            ],
            "text/html": [
              " View run at <a href='https://wandb.ai/nikofzj/DS_Tutorial_V1/runs/qf7euask' target=\"_blank\">https://wandb.ai/nikofzj/DS_Tutorial_V1/runs/qf7euask</a>"
            ]
          },
          "metadata": {}
        },
        {
          "output_type": "stream",
          "name": "stdout",
          "text": [
            "Model: \"sequential\"\n",
            "_________________________________________________________________\n",
            " Layer (type)                Output Shape              Param #   \n",
            "=================================================================\n",
            " vgg19 (Functional)          (None, 7, 7, 512)         20024384  \n",
            "                                                                 \n",
            " flatten (Flatten)           (None, 25088)             0         \n",
            "                                                                 \n",
            " dropout (Dropout)           (None, 25088)             0         \n",
            "                                                                 \n",
            " dense (Dense)               (None, 1)                 25089     \n",
            "                                                                 \n",
            "=================================================================\n",
            "Total params: 20,049,473\n",
            "Trainable params: 25,089\n",
            "Non-trainable params: 20,024,384\n",
            "_________________________________________________________________\n",
            "Epoch 1/50\n",
            "6/6 [==============================] - 4s 478ms/step - loss: 0.8214 - accuracy: 0.5580 - val_loss: 0.5507 - val_accuracy: 0.7213 - lr: 7.3756e-04\n",
            "Epoch 2/50\n",
            "6/6 [==============================] - 3s 452ms/step - loss: 0.7326 - accuracy: 0.6133 - val_loss: 0.5111 - val_accuracy: 0.7541 - lr: 7.3756e-04\n",
            "Epoch 3/50\n",
            "6/6 [==============================] - 3s 457ms/step - loss: 0.8578 - accuracy: 0.6077 - val_loss: 0.4855 - val_accuracy: 0.7705 - lr: 7.3756e-04\n",
            "Epoch 4/50\n",
            "6/6 [==============================] - 3s 464ms/step - loss: 0.8282 - accuracy: 0.6133 - val_loss: 0.5634 - val_accuracy: 0.7213 - lr: 7.3756e-04\n",
            "Epoch 5/50\n",
            "6/6 [==============================] - 3s 442ms/step - loss: 0.7348 - accuracy: 0.6354 - val_loss: 0.5661 - val_accuracy: 0.7541 - lr: 7.3756e-04\n",
            "Epoch 6/50\n",
            "6/6 [==============================] - 3s 479ms/step - loss: 0.7008 - accuracy: 0.6630 - val_loss: 0.6190 - val_accuracy: 0.6885 - lr: 7.3756e-04\n",
            "1/1 [==============================] - 0s 365ms/step - loss: 2.7918 - accuracy: 0.8197\n",
            "final_val_loss : 2.7917630672454834\n",
            "final_val_accuracy : 0.8196721076965332\n"
          ]
        },
        {
          "output_type": "display_data",
          "data": {
            "text/plain": [
              "<IPython.core.display.HTML object>"
            ],
            "text/html": [
              "Waiting for W&B process to finish... <strong style=\"color:green\">(success).</strong>"
            ]
          },
          "metadata": {}
        },
        {
          "output_type": "display_data",
          "data": {
            "text/plain": [
              "<IPython.core.display.HTML object>"
            ],
            "text/html": [
              "<style>\n",
              "    table.wandb td:nth-child(1) { padding: 0 10px; text-align: left ; width: auto;} td:nth-child(2) {text-align: left ; width: 100%}\n",
              "    .wandb-row { display: flex; flex-direction: row; flex-wrap: wrap; justify-content: flex-start; width: 100% }\n",
              "    .wandb-col { display: flex; flex-direction: column; flex-basis: 100%; flex: 1; padding: 10px; }\n",
              "    </style>\n",
              "<div class=\"wandb-row\"><div class=\"wandb-col\"><h3>Run history:</h3><br/><table class=\"wandb\"><tr><td>epoch/accuracy</td><td>▁▅▄▅▆█</td></tr><tr><td>epoch/epoch</td><td>▁▂▄▅▇█</td></tr><tr><td>epoch/learning_rate</td><td>▁▁▁▁▁▁</td></tr><tr><td>epoch/loss</td><td>▆▂█▇▃▁</td></tr><tr><td>epoch/lr</td><td>▁▁▁▁▁▁</td></tr><tr><td>epoch/val_accuracy</td><td>▄▇█▄▇▁</td></tr><tr><td>epoch/val_loss</td><td>▄▂▁▅▅█</td></tr><tr><td>final_val_accuracy</td><td>▁</td></tr><tr><td>final_val_loss</td><td>▁</td></tr></table><br/></div><div class=\"wandb-col\"><h3>Run summary:</h3><br/><table class=\"wandb\"><tr><td>epoch/accuracy</td><td>0.66298</td></tr><tr><td>epoch/epoch</td><td>5</td></tr><tr><td>epoch/learning_rate</td><td>0.00074</td></tr><tr><td>epoch/loss</td><td>0.70077</td></tr><tr><td>epoch/lr</td><td>0.00074</td></tr><tr><td>epoch/val_accuracy</td><td>0.68852</td></tr><tr><td>epoch/val_loss</td><td>0.61901</td></tr><tr><td>final_val_accuracy</td><td>0.81967</td></tr><tr><td>final_val_loss</td><td>2.79176</td></tr></table><br/></div></div>"
            ]
          },
          "metadata": {}
        },
        {
          "output_type": "display_data",
          "data": {
            "text/plain": [
              "<IPython.core.display.HTML object>"
            ],
            "text/html": [
              " View run <strong style=\"color:#cdcd00\">azure-sweep-14</strong> at: <a href='https://wandb.ai/nikofzj/DS_Tutorial_V1/runs/qf7euask' target=\"_blank\">https://wandb.ai/nikofzj/DS_Tutorial_V1/runs/qf7euask</a><br/>Synced 5 W&B file(s), 0 media file(s), 0 artifact file(s) and 0 other file(s)"
            ]
          },
          "metadata": {}
        },
        {
          "output_type": "display_data",
          "data": {
            "text/plain": [
              "<IPython.core.display.HTML object>"
            ],
            "text/html": [
              "Find logs at: <code>./wandb/run-20230502_105219-qf7euask/logs</code>"
            ]
          },
          "metadata": {}
        },
        {
          "output_type": "stream",
          "name": "stderr",
          "text": [
            "\u001b[34m\u001b[1mwandb\u001b[0m: Agent Starting Run: qtzvvade with config:\n",
            "\u001b[34m\u001b[1mwandb\u001b[0m: \taugmentation_multiplier: 0.2945004905478823\n",
            "\u001b[34m\u001b[1mwandb\u001b[0m: \tdropout: 0.3\n",
            "\u001b[34m\u001b[1mwandb\u001b[0m: \tepochs: 50\n",
            "\u001b[34m\u001b[1mwandb\u001b[0m: \tlearning_rate: 0.008278622900261354\n"
          ]
        },
        {
          "output_type": "display_data",
          "data": {
            "text/plain": [
              "<IPython.core.display.HTML object>"
            ],
            "text/html": [
              "Tracking run with wandb version 0.15.0"
            ]
          },
          "metadata": {}
        },
        {
          "output_type": "display_data",
          "data": {
            "text/plain": [
              "<IPython.core.display.HTML object>"
            ],
            "text/html": [
              "Run data is saved locally in <code>/content/wandb/run-20230502_105254-qtzvvade</code>"
            ]
          },
          "metadata": {}
        },
        {
          "output_type": "display_data",
          "data": {
            "text/plain": [
              "<IPython.core.display.HTML object>"
            ],
            "text/html": [
              "Syncing run <strong><a href='https://wandb.ai/nikofzj/DS_Tutorial_V1/runs/qtzvvade' target=\"_blank\">easy-sweep-15</a></strong> to <a href='https://wandb.ai/nikofzj/DS_Tutorial_V1' target=\"_blank\">Weights & Biases</a> (<a href='https://wandb.me/run' target=\"_blank\">docs</a>)<br/>Sweep page: <a href='https://wandb.ai/nikofzj/DS_Tutorial_V1/sweeps/xqa6ct2t' target=\"_blank\">https://wandb.ai/nikofzj/DS_Tutorial_V1/sweeps/xqa6ct2t</a>"
            ]
          },
          "metadata": {}
        },
        {
          "output_type": "display_data",
          "data": {
            "text/plain": [
              "<IPython.core.display.HTML object>"
            ],
            "text/html": [
              " View project at <a href='https://wandb.ai/nikofzj/DS_Tutorial_V1' target=\"_blank\">https://wandb.ai/nikofzj/DS_Tutorial_V1</a>"
            ]
          },
          "metadata": {}
        },
        {
          "output_type": "display_data",
          "data": {
            "text/plain": [
              "<IPython.core.display.HTML object>"
            ],
            "text/html": [
              " View sweep at <a href='https://wandb.ai/nikofzj/DS_Tutorial_V1/sweeps/xqa6ct2t' target=\"_blank\">https://wandb.ai/nikofzj/DS_Tutorial_V1/sweeps/xqa6ct2t</a>"
            ]
          },
          "metadata": {}
        },
        {
          "output_type": "display_data",
          "data": {
            "text/plain": [
              "<IPython.core.display.HTML object>"
            ],
            "text/html": [
              " View run at <a href='https://wandb.ai/nikofzj/DS_Tutorial_V1/runs/qtzvvade' target=\"_blank\">https://wandb.ai/nikofzj/DS_Tutorial_V1/runs/qtzvvade</a>"
            ]
          },
          "metadata": {}
        },
        {
          "output_type": "stream",
          "name": "stdout",
          "text": [
            "Model: \"sequential\"\n",
            "_________________________________________________________________\n",
            " Layer (type)                Output Shape              Param #   \n",
            "=================================================================\n",
            " vgg19 (Functional)          (None, 7, 7, 512)         20024384  \n",
            "                                                                 \n",
            " flatten (Flatten)           (None, 25088)             0         \n",
            "                                                                 \n",
            " dropout (Dropout)           (None, 25088)             0         \n",
            "                                                                 \n",
            " dense (Dense)               (None, 1)                 25089     \n",
            "                                                                 \n",
            "=================================================================\n",
            "Total params: 20,049,473\n",
            "Trainable params: 25,089\n",
            "Non-trainable params: 20,024,384\n",
            "_________________________________________________________________\n",
            "Epoch 1/50\n",
            "6/6 [==============================] - 5s 463ms/step - loss: 5.8348 - accuracy: 0.4751 - val_loss: 1.7150 - val_accuracy: 0.7541 - lr: 0.0083\n",
            "Epoch 2/50\n",
            "6/6 [==============================] - 3s 454ms/step - loss: 2.7994 - accuracy: 0.7293 - val_loss: 2.6937 - val_accuracy: 0.6230 - lr: 0.0083\n",
            "Epoch 3/50\n",
            "6/6 [==============================] - 3s 435ms/step - loss: 1.5676 - accuracy: 0.7514 - val_loss: 1.3771 - val_accuracy: 0.7705 - lr: 0.0083\n",
            "Epoch 4/50\n",
            "6/6 [==============================] - 3s 457ms/step - loss: 0.6555 - accuracy: 0.8011 - val_loss: 0.6547 - val_accuracy: 0.8525 - lr: 0.0083\n",
            "Epoch 5/50\n",
            "6/6 [==============================] - 3s 473ms/step - loss: 0.8174 - accuracy: 0.7845 - val_loss: 0.6521 - val_accuracy: 0.8197 - lr: 0.0083\n",
            "Epoch 6/50\n",
            "6/6 [==============================] - 3s 442ms/step - loss: 0.3464 - accuracy: 0.8674 - val_loss: 0.6498 - val_accuracy: 0.8033 - lr: 0.0083\n",
            "Epoch 7/50\n",
            "6/6 [==============================] - 3s 517ms/step - loss: 0.3451 - accuracy: 0.8785 - val_loss: 0.6704 - val_accuracy: 0.8361 - lr: 0.0083\n",
            "Epoch 8/50\n",
            "6/6 [==============================] - 3s 437ms/step - loss: 0.1689 - accuracy: 0.9392 - val_loss: 0.7725 - val_accuracy: 0.8033 - lr: 0.0083\n",
            "Epoch 9/50\n",
            "6/6 [==============================] - 3s 474ms/step - loss: 0.2510 - accuracy: 0.9227 - val_loss: 0.5836 - val_accuracy: 0.8033 - lr: 0.0083\n",
            "Epoch 10/50\n",
            "6/6 [==============================] - 3s 633ms/step - loss: 0.1383 - accuracy: 0.9282 - val_loss: 0.8425 - val_accuracy: 0.8033 - lr: 0.0041\n",
            "Epoch 11/50\n",
            "6/6 [==============================] - 3s 436ms/step - loss: 0.0468 - accuracy: 0.9724 - val_loss: 0.4657 - val_accuracy: 0.8033 - lr: 0.0041\n",
            "Epoch 12/50\n",
            "6/6 [==============================] - 3s 431ms/step - loss: 0.0769 - accuracy: 0.9613 - val_loss: 0.6895 - val_accuracy: 0.8033 - lr: 0.0041\n",
            "Epoch 13/50\n",
            "6/6 [==============================] - 3s 552ms/step - loss: 0.0825 - accuracy: 0.9669 - val_loss: 0.4508 - val_accuracy: 0.8033 - lr: 0.0041\n",
            "Epoch 14/50\n",
            "6/6 [==============================] - 3s 492ms/step - loss: 0.1032 - accuracy: 0.9669 - val_loss: 0.6334 - val_accuracy: 0.8197 - lr: 0.0041\n",
            "Epoch 15/50\n",
            "6/6 [==============================] - 3s 439ms/step - loss: 0.0522 - accuracy: 0.9890 - val_loss: 0.4834 - val_accuracy: 0.8525 - lr: 0.0021\n",
            "Epoch 16/50\n",
            "6/6 [==============================] - 3s 472ms/step - loss: 0.0328 - accuracy: 0.9945 - val_loss: 0.4544 - val_accuracy: 0.8197 - lr: 0.0021\n",
            "1/1 [==============================] - 0s 338ms/step - loss: 9.2916 - accuracy: 0.8525\n",
            "final_val_loss : 9.291587829589844\n",
            "final_val_accuracy : 0.8524590134620667\n"
          ]
        },
        {
          "output_type": "display_data",
          "data": {
            "text/plain": [
              "<IPython.core.display.HTML object>"
            ],
            "text/html": [
              "Waiting for W&B process to finish... <strong style=\"color:green\">(success).</strong>"
            ]
          },
          "metadata": {}
        },
        {
          "output_type": "display_data",
          "data": {
            "text/plain": [
              "<IPython.core.display.HTML object>"
            ],
            "text/html": [
              "<style>\n",
              "    table.wandb td:nth-child(1) { padding: 0 10px; text-align: left ; width: auto;} td:nth-child(2) {text-align: left ; width: 100%}\n",
              "    .wandb-row { display: flex; flex-direction: row; flex-wrap: wrap; justify-content: flex-start; width: 100% }\n",
              "    .wandb-col { display: flex; flex-direction: column; flex-basis: 100%; flex: 1; padding: 10px; }\n",
              "    </style>\n",
              "<div class=\"wandb-row\"><div class=\"wandb-col\"><h3>Run history:</h3><br/><table class=\"wandb\"><tr><td>epoch/accuracy</td><td>▁▄▅▅▅▆▆▇▇▇██████</td></tr><tr><td>epoch/epoch</td><td>▁▁▂▂▃▃▄▄▅▅▆▆▇▇██</td></tr><tr><td>epoch/learning_rate</td><td>████████▃▃▃▃▃▁▁▁</td></tr><tr><td>epoch/loss</td><td>█▄▃▂▂▁▁▁▁▁▁▁▁▁▁▁</td></tr><tr><td>epoch/lr</td><td>█████████▃▃▃▃▃▁▁</td></tr><tr><td>epoch/val_accuracy</td><td>▅▁▅█▇▇█▇▇▇▇▇▇▇█▇</td></tr><tr><td>epoch/val_loss</td><td>▅█▄▂▂▂▂▂▁▂▁▂▁▂▁▁</td></tr><tr><td>final_val_accuracy</td><td>▁</td></tr><tr><td>final_val_loss</td><td>▁</td></tr></table><br/></div><div class=\"wandb-col\"><h3>Run summary:</h3><br/><table class=\"wandb\"><tr><td>epoch/accuracy</td><td>0.99448</td></tr><tr><td>epoch/epoch</td><td>15</td></tr><tr><td>epoch/learning_rate</td><td>0.00207</td></tr><tr><td>epoch/loss</td><td>0.03276</td></tr><tr><td>epoch/lr</td><td>0.00207</td></tr><tr><td>epoch/val_accuracy</td><td>0.81967</td></tr><tr><td>epoch/val_loss</td><td>0.4544</td></tr><tr><td>final_val_accuracy</td><td>0.85246</td></tr><tr><td>final_val_loss</td><td>9.29159</td></tr></table><br/></div></div>"
            ]
          },
          "metadata": {}
        },
        {
          "output_type": "display_data",
          "data": {
            "text/plain": [
              "<IPython.core.display.HTML object>"
            ],
            "text/html": [
              " View run <strong style=\"color:#cdcd00\">easy-sweep-15</strong> at: <a href='https://wandb.ai/nikofzj/DS_Tutorial_V1/runs/qtzvvade' target=\"_blank\">https://wandb.ai/nikofzj/DS_Tutorial_V1/runs/qtzvvade</a><br/>Synced 5 W&B file(s), 0 media file(s), 0 artifact file(s) and 0 other file(s)"
            ]
          },
          "metadata": {}
        },
        {
          "output_type": "display_data",
          "data": {
            "text/plain": [
              "<IPython.core.display.HTML object>"
            ],
            "text/html": [
              "Find logs at: <code>./wandb/run-20230502_105254-qtzvvade/logs</code>"
            ]
          },
          "metadata": {}
        },
        {
          "output_type": "stream",
          "name": "stderr",
          "text": [
            "\u001b[34m\u001b[1mwandb\u001b[0m: Agent Starting Run: m3viumi2 with config:\n",
            "\u001b[34m\u001b[1mwandb\u001b[0m: \taugmentation_multiplier: 1.9090790412131693\n",
            "\u001b[34m\u001b[1mwandb\u001b[0m: \tdropout: 0.5\n",
            "\u001b[34m\u001b[1mwandb\u001b[0m: \tepochs: 50\n",
            "\u001b[34m\u001b[1mwandb\u001b[0m: \tlearning_rate: 0.007752352011014878\n"
          ]
        },
        {
          "output_type": "display_data",
          "data": {
            "text/plain": [
              "<IPython.core.display.HTML object>"
            ],
            "text/html": [
              "Tracking run with wandb version 0.15.0"
            ]
          },
          "metadata": {}
        },
        {
          "output_type": "display_data",
          "data": {
            "text/plain": [
              "<IPython.core.display.HTML object>"
            ],
            "text/html": [
              "Run data is saved locally in <code>/content/wandb/run-20230502_105413-m3viumi2</code>"
            ]
          },
          "metadata": {}
        },
        {
          "output_type": "display_data",
          "data": {
            "text/plain": [
              "<IPython.core.display.HTML object>"
            ],
            "text/html": [
              "Syncing run <strong><a href='https://wandb.ai/nikofzj/DS_Tutorial_V1/runs/m3viumi2' target=\"_blank\">lilac-sweep-16</a></strong> to <a href='https://wandb.ai/nikofzj/DS_Tutorial_V1' target=\"_blank\">Weights & Biases</a> (<a href='https://wandb.me/run' target=\"_blank\">docs</a>)<br/>Sweep page: <a href='https://wandb.ai/nikofzj/DS_Tutorial_V1/sweeps/xqa6ct2t' target=\"_blank\">https://wandb.ai/nikofzj/DS_Tutorial_V1/sweeps/xqa6ct2t</a>"
            ]
          },
          "metadata": {}
        },
        {
          "output_type": "display_data",
          "data": {
            "text/plain": [
              "<IPython.core.display.HTML object>"
            ],
            "text/html": [
              " View project at <a href='https://wandb.ai/nikofzj/DS_Tutorial_V1' target=\"_blank\">https://wandb.ai/nikofzj/DS_Tutorial_V1</a>"
            ]
          },
          "metadata": {}
        },
        {
          "output_type": "display_data",
          "data": {
            "text/plain": [
              "<IPython.core.display.HTML object>"
            ],
            "text/html": [
              " View sweep at <a href='https://wandb.ai/nikofzj/DS_Tutorial_V1/sweeps/xqa6ct2t' target=\"_blank\">https://wandb.ai/nikofzj/DS_Tutorial_V1/sweeps/xqa6ct2t</a>"
            ]
          },
          "metadata": {}
        },
        {
          "output_type": "display_data",
          "data": {
            "text/plain": [
              "<IPython.core.display.HTML object>"
            ],
            "text/html": [
              " View run at <a href='https://wandb.ai/nikofzj/DS_Tutorial_V1/runs/m3viumi2' target=\"_blank\">https://wandb.ai/nikofzj/DS_Tutorial_V1/runs/m3viumi2</a>"
            ]
          },
          "metadata": {}
        },
        {
          "output_type": "stream",
          "name": "stdout",
          "text": [
            "Model: \"sequential\"\n",
            "_________________________________________________________________\n",
            " Layer (type)                Output Shape              Param #   \n",
            "=================================================================\n",
            " vgg19 (Functional)          (None, 7, 7, 512)         20024384  \n",
            "                                                                 \n",
            " flatten (Flatten)           (None, 25088)             0         \n",
            "                                                                 \n",
            " dropout (Dropout)           (None, 25088)             0         \n",
            "                                                                 \n",
            " dense (Dense)               (None, 1)                 25089     \n",
            "                                                                 \n",
            "=================================================================\n",
            "Total params: 20,049,473\n",
            "Trainable params: 25,089\n",
            "Non-trainable params: 20,024,384\n",
            "_________________________________________________________________\n",
            "Epoch 1/50\n",
            "6/6 [==============================] - 4s 485ms/step - loss: 3.1297 - accuracy: 0.5414 - val_loss: 3.6312 - val_accuracy: 0.7049 - lr: 0.0078\n",
            "Epoch 2/50\n",
            "6/6 [==============================] - 3s 456ms/step - loss: 2.4209 - accuracy: 0.5967 - val_loss: 2.7316 - val_accuracy: 0.7049 - lr: 0.0078\n",
            "Epoch 3/50\n",
            "6/6 [==============================] - 3s 450ms/step - loss: 3.5618 - accuracy: 0.5580 - val_loss: 3.1670 - val_accuracy: 0.6230 - lr: 0.0078\n",
            "Epoch 4/50\n",
            "6/6 [==============================] - 4s 659ms/step - loss: 2.5156 - accuracy: 0.6354 - val_loss: 2.5850 - val_accuracy: 0.7541 - lr: 0.0078\n",
            "Epoch 5/50\n",
            "6/6 [==============================] - 3s 458ms/step - loss: 1.9847 - accuracy: 0.6685 - val_loss: 0.9871 - val_accuracy: 0.8033 - lr: 0.0078\n",
            "Epoch 6/50\n",
            "6/6 [==============================] - 3s 459ms/step - loss: 1.7385 - accuracy: 0.6464 - val_loss: 0.8116 - val_accuracy: 0.7541 - lr: 0.0078\n",
            "Epoch 7/50\n",
            "6/6 [==============================] - 3s 450ms/step - loss: 1.1477 - accuracy: 0.6796 - val_loss: 0.5839 - val_accuracy: 0.8033 - lr: 0.0078\n",
            "Epoch 8/50\n",
            "6/6 [==============================] - 4s 645ms/step - loss: 1.0524 - accuracy: 0.6575 - val_loss: 0.6824 - val_accuracy: 0.7705 - lr: 0.0078\n",
            "Epoch 9/50\n",
            "6/6 [==============================] - 3s 449ms/step - loss: 0.8939 - accuracy: 0.7072 - val_loss: 0.7607 - val_accuracy: 0.7869 - lr: 0.0078\n",
            "Epoch 10/50\n",
            "6/6 [==============================] - 3s 495ms/step - loss: 0.7151 - accuracy: 0.7624 - val_loss: 0.5418 - val_accuracy: 0.8525 - lr: 0.0078\n",
            "Epoch 11/50\n",
            "6/6 [==============================] - 3s 550ms/step - loss: 0.7273 - accuracy: 0.7845 - val_loss: 0.5926 - val_accuracy: 0.8033 - lr: 0.0078\n",
            "Epoch 12/50\n",
            "6/6 [==============================] - 3s 550ms/step - loss: 0.8703 - accuracy: 0.7017 - val_loss: 0.5988 - val_accuracy: 0.8033 - lr: 0.0078\n",
            "Epoch 13/50\n",
            "6/6 [==============================] - 3s 465ms/step - loss: 0.8387 - accuracy: 0.7182 - val_loss: 0.6992 - val_accuracy: 0.8033 - lr: 0.0078\n",
            "1/1 [==============================] - 0s 353ms/step - loss: 26.3771 - accuracy: 0.6066\n",
            "final_val_loss : 26.3770694732666\n",
            "final_val_accuracy : 0.6065573692321777\n"
          ]
        },
        {
          "output_type": "display_data",
          "data": {
            "text/plain": [
              "<IPython.core.display.HTML object>"
            ],
            "text/html": [
              "Waiting for W&B process to finish... <strong style=\"color:green\">(success).</strong>"
            ]
          },
          "metadata": {}
        },
        {
          "output_type": "display_data",
          "data": {
            "text/plain": [
              "VBox(children=(Label(value='0.001 MB of 0.001 MB uploaded (0.000 MB deduped)\\r'), FloatProgress(value=1.0, max…"
            ],
            "application/vnd.jupyter.widget-view+json": {
              "version_major": 2,
              "version_minor": 0,
              "model_id": "3be02223a3f1466d9bb01a9ea76609b5"
            }
          },
          "metadata": {}
        },
        {
          "output_type": "display_data",
          "data": {
            "text/plain": [
              "<IPython.core.display.HTML object>"
            ],
            "text/html": [
              "<style>\n",
              "    table.wandb td:nth-child(1) { padding: 0 10px; text-align: left ; width: auto;} td:nth-child(2) {text-align: left ; width: 100%}\n",
              "    .wandb-row { display: flex; flex-direction: row; flex-wrap: wrap; justify-content: flex-start; width: 100% }\n",
              "    .wandb-col { display: flex; flex-direction: column; flex-basis: 100%; flex: 1; padding: 10px; }\n",
              "    </style>\n",
              "<div class=\"wandb-row\"><div class=\"wandb-col\"><h3>Run history:</h3><br/><table class=\"wandb\"><tr><td>epoch/accuracy</td><td>▁▃▁▄▅▄▅▄▆▇█▆▆</td></tr><tr><td>epoch/epoch</td><td>▁▂▂▃▃▄▅▅▆▆▇▇█</td></tr><tr><td>epoch/learning_rate</td><td>▁▁▁▁▁▁▁▁▁▁▁▁▁</td></tr><tr><td>epoch/loss</td><td>▇▅█▅▄▄▂▂▁▁▁▁▁</td></tr><tr><td>epoch/lr</td><td>▁▁▁▁▁▁▁▁▁▁▁▁▁</td></tr><tr><td>epoch/val_accuracy</td><td>▄▄▁▅▇▅▇▅▆█▇▇▇</td></tr><tr><td>epoch/val_loss</td><td>█▆▇▆▂▂▁▁▁▁▁▁▁</td></tr><tr><td>final_val_accuracy</td><td>▁</td></tr><tr><td>final_val_loss</td><td>▁</td></tr></table><br/></div><div class=\"wandb-col\"><h3>Run summary:</h3><br/><table class=\"wandb\"><tr><td>epoch/accuracy</td><td>0.71823</td></tr><tr><td>epoch/epoch</td><td>12</td></tr><tr><td>epoch/learning_rate</td><td>0.00775</td></tr><tr><td>epoch/loss</td><td>0.8387</td></tr><tr><td>epoch/lr</td><td>0.00775</td></tr><tr><td>epoch/val_accuracy</td><td>0.80328</td></tr><tr><td>epoch/val_loss</td><td>0.69923</td></tr><tr><td>final_val_accuracy</td><td>0.60656</td></tr><tr><td>final_val_loss</td><td>26.37707</td></tr></table><br/></div></div>"
            ]
          },
          "metadata": {}
        },
        {
          "output_type": "display_data",
          "data": {
            "text/plain": [
              "<IPython.core.display.HTML object>"
            ],
            "text/html": [
              " View run <strong style=\"color:#cdcd00\">lilac-sweep-16</strong> at: <a href='https://wandb.ai/nikofzj/DS_Tutorial_V1/runs/m3viumi2' target=\"_blank\">https://wandb.ai/nikofzj/DS_Tutorial_V1/runs/m3viumi2</a><br/>Synced 5 W&B file(s), 0 media file(s), 0 artifact file(s) and 0 other file(s)"
            ]
          },
          "metadata": {}
        },
        {
          "output_type": "display_data",
          "data": {
            "text/plain": [
              "<IPython.core.display.HTML object>"
            ],
            "text/html": [
              "Find logs at: <code>./wandb/run-20230502_105413-m3viumi2/logs</code>"
            ]
          },
          "metadata": {}
        },
        {
          "output_type": "stream",
          "name": "stderr",
          "text": [
            "\u001b[34m\u001b[1mwandb\u001b[0m: Agent Starting Run: vtoch3xn with config:\n",
            "\u001b[34m\u001b[1mwandb\u001b[0m: \taugmentation_multiplier: 0.45502941177920175\n",
            "\u001b[34m\u001b[1mwandb\u001b[0m: \tdropout: 0.4\n",
            "\u001b[34m\u001b[1mwandb\u001b[0m: \tepochs: 50\n",
            "\u001b[34m\u001b[1mwandb\u001b[0m: \tlearning_rate: 0.009591165112642503\n"
          ]
        },
        {
          "output_type": "display_data",
          "data": {
            "text/plain": [
              "<IPython.core.display.HTML object>"
            ],
            "text/html": [
              "Tracking run with wandb version 0.15.0"
            ]
          },
          "metadata": {}
        },
        {
          "output_type": "display_data",
          "data": {
            "text/plain": [
              "<IPython.core.display.HTML object>"
            ],
            "text/html": [
              "Run data is saved locally in <code>/content/wandb/run-20230502_105514-vtoch3xn</code>"
            ]
          },
          "metadata": {}
        },
        {
          "output_type": "display_data",
          "data": {
            "text/plain": [
              "<IPython.core.display.HTML object>"
            ],
            "text/html": [
              "Syncing run <strong><a href='https://wandb.ai/nikofzj/DS_Tutorial_V1/runs/vtoch3xn' target=\"_blank\">absurd-sweep-17</a></strong> to <a href='https://wandb.ai/nikofzj/DS_Tutorial_V1' target=\"_blank\">Weights & Biases</a> (<a href='https://wandb.me/run' target=\"_blank\">docs</a>)<br/>Sweep page: <a href='https://wandb.ai/nikofzj/DS_Tutorial_V1/sweeps/xqa6ct2t' target=\"_blank\">https://wandb.ai/nikofzj/DS_Tutorial_V1/sweeps/xqa6ct2t</a>"
            ]
          },
          "metadata": {}
        },
        {
          "output_type": "display_data",
          "data": {
            "text/plain": [
              "<IPython.core.display.HTML object>"
            ],
            "text/html": [
              " View project at <a href='https://wandb.ai/nikofzj/DS_Tutorial_V1' target=\"_blank\">https://wandb.ai/nikofzj/DS_Tutorial_V1</a>"
            ]
          },
          "metadata": {}
        },
        {
          "output_type": "display_data",
          "data": {
            "text/plain": [
              "<IPython.core.display.HTML object>"
            ],
            "text/html": [
              " View sweep at <a href='https://wandb.ai/nikofzj/DS_Tutorial_V1/sweeps/xqa6ct2t' target=\"_blank\">https://wandb.ai/nikofzj/DS_Tutorial_V1/sweeps/xqa6ct2t</a>"
            ]
          },
          "metadata": {}
        },
        {
          "output_type": "display_data",
          "data": {
            "text/plain": [
              "<IPython.core.display.HTML object>"
            ],
            "text/html": [
              " View run at <a href='https://wandb.ai/nikofzj/DS_Tutorial_V1/runs/vtoch3xn' target=\"_blank\">https://wandb.ai/nikofzj/DS_Tutorial_V1/runs/vtoch3xn</a>"
            ]
          },
          "metadata": {}
        },
        {
          "output_type": "stream",
          "name": "stdout",
          "text": [
            "Model: \"sequential\"\n",
            "_________________________________________________________________\n",
            " Layer (type)                Output Shape              Param #   \n",
            "=================================================================\n",
            " vgg19 (Functional)          (None, 7, 7, 512)         20024384  \n",
            "                                                                 \n",
            " flatten (Flatten)           (None, 25088)             0         \n",
            "                                                                 \n",
            " dropout (Dropout)           (None, 25088)             0         \n",
            "                                                                 \n",
            " dense (Dense)               (None, 1)                 25089     \n",
            "                                                                 \n",
            "=================================================================\n",
            "Total params: 20,049,473\n",
            "Trainable params: 25,089\n",
            "Non-trainable params: 20,024,384\n",
            "_________________________________________________________________\n",
            "Epoch 1/50\n",
            "6/6 [==============================] - 4s 586ms/step - loss: 5.9189 - accuracy: 0.4917 - val_loss: 5.8989 - val_accuracy: 0.7049 - lr: 0.0096\n",
            "Epoch 2/50\n",
            "6/6 [==============================] - 3s 516ms/step - loss: 4.5412 - accuracy: 0.6685 - val_loss: 2.7537 - val_accuracy: 0.6393 - lr: 0.0096\n",
            "Epoch 3/50\n",
            "6/6 [==============================] - 3s 449ms/step - loss: 3.3289 - accuracy: 0.6519 - val_loss: 1.3865 - val_accuracy: 0.7869 - lr: 0.0096\n",
            "Epoch 4/50\n",
            "6/6 [==============================] - 3s 431ms/step - loss: 2.6852 - accuracy: 0.7072 - val_loss: 1.7150 - val_accuracy: 0.8197 - lr: 0.0096\n",
            "Epoch 5/50\n",
            "6/6 [==============================] - 3s 472ms/step - loss: 1.1619 - accuracy: 0.8287 - val_loss: 1.4180 - val_accuracy: 0.7049 - lr: 0.0096\n",
            "Epoch 6/50\n",
            "6/6 [==============================] - 4s 689ms/step - loss: 1.0542 - accuracy: 0.7569 - val_loss: 0.8720 - val_accuracy: 0.8197 - lr: 0.0096\n",
            "Epoch 7/50\n",
            "6/6 [==============================] - 3s 432ms/step - loss: 0.5328 - accuracy: 0.8619 - val_loss: 1.1808 - val_accuracy: 0.8197 - lr: 0.0096\n",
            "Epoch 8/50\n",
            "6/6 [==============================] - 3s 440ms/step - loss: 0.6921 - accuracy: 0.8177 - val_loss: 0.6904 - val_accuracy: 0.8197 - lr: 0.0096\n",
            "Epoch 9/50\n",
            "6/6 [==============================] - 3s 445ms/step - loss: 0.4630 - accuracy: 0.8729 - val_loss: 0.6166 - val_accuracy: 0.8361 - lr: 0.0096\n",
            "Epoch 10/50\n",
            "6/6 [==============================] - 3s 445ms/step - loss: 0.4766 - accuracy: 0.8840 - val_loss: 1.7981 - val_accuracy: 0.7541 - lr: 0.0096\n",
            "Epoch 11/50\n",
            "6/6 [==============================] - 3s 438ms/step - loss: 0.5800 - accuracy: 0.8398 - val_loss: 0.6894 - val_accuracy: 0.8033 - lr: 0.0096\n",
            "Epoch 12/50\n",
            "6/6 [==============================] - 3s 447ms/step - loss: 0.3266 - accuracy: 0.8950 - val_loss: 0.7990 - val_accuracy: 0.8361 - lr: 0.0096\n",
            "1/1 [==============================] - 0s 351ms/step - loss: 17.1110 - accuracy: 0.8197\n",
            "final_val_loss : 17.110960006713867\n",
            "final_val_accuracy : 0.8196721076965332\n"
          ]
        },
        {
          "output_type": "display_data",
          "data": {
            "text/plain": [
              "<IPython.core.display.HTML object>"
            ],
            "text/html": [
              "Waiting for W&B process to finish... <strong style=\"color:green\">(success).</strong>"
            ]
          },
          "metadata": {}
        },
        {
          "output_type": "display_data",
          "data": {
            "text/plain": [
              "<IPython.core.display.HTML object>"
            ],
            "text/html": [
              "<style>\n",
              "    table.wandb td:nth-child(1) { padding: 0 10px; text-align: left ; width: auto;} td:nth-child(2) {text-align: left ; width: 100%}\n",
              "    .wandb-row { display: flex; flex-direction: row; flex-wrap: wrap; justify-content: flex-start; width: 100% }\n",
              "    .wandb-col { display: flex; flex-direction: column; flex-basis: 100%; flex: 1; padding: 10px; }\n",
              "    </style>\n",
              "<div class=\"wandb-row\"><div class=\"wandb-col\"><h3>Run history:</h3><br/><table class=\"wandb\"><tr><td>epoch/accuracy</td><td>▁▄▄▅▇▆▇▇██▇█</td></tr><tr><td>epoch/epoch</td><td>▁▂▂▃▄▄▅▅▆▇▇█</td></tr><tr><td>epoch/learning_rate</td><td>▁▁▁▁▁▁▁▁▁▁▁▁</td></tr><tr><td>epoch/loss</td><td>█▆▅▄▂▂▁▁▁▁▁▁</td></tr><tr><td>epoch/lr</td><td>▁▁▁▁▁▁▁▁▁▁▁▁</td></tr><tr><td>epoch/val_accuracy</td><td>▃▁▆▇▃▇▇▇█▅▇█</td></tr><tr><td>epoch/val_loss</td><td>█▄▂▂▂▁▂▁▁▃▁▁</td></tr><tr><td>final_val_accuracy</td><td>▁</td></tr><tr><td>final_val_loss</td><td>▁</td></tr></table><br/></div><div class=\"wandb-col\"><h3>Run summary:</h3><br/><table class=\"wandb\"><tr><td>epoch/accuracy</td><td>0.89503</td></tr><tr><td>epoch/epoch</td><td>11</td></tr><tr><td>epoch/learning_rate</td><td>0.00959</td></tr><tr><td>epoch/loss</td><td>0.32662</td></tr><tr><td>epoch/lr</td><td>0.00959</td></tr><tr><td>epoch/val_accuracy</td><td>0.83607</td></tr><tr><td>epoch/val_loss</td><td>0.79898</td></tr><tr><td>final_val_accuracy</td><td>0.81967</td></tr><tr><td>final_val_loss</td><td>17.11096</td></tr></table><br/></div></div>"
            ]
          },
          "metadata": {}
        },
        {
          "output_type": "display_data",
          "data": {
            "text/plain": [
              "<IPython.core.display.HTML object>"
            ],
            "text/html": [
              " View run <strong style=\"color:#cdcd00\">absurd-sweep-17</strong> at: <a href='https://wandb.ai/nikofzj/DS_Tutorial_V1/runs/vtoch3xn' target=\"_blank\">https://wandb.ai/nikofzj/DS_Tutorial_V1/runs/vtoch3xn</a><br/>Synced 5 W&B file(s), 0 media file(s), 0 artifact file(s) and 0 other file(s)"
            ]
          },
          "metadata": {}
        },
        {
          "output_type": "display_data",
          "data": {
            "text/plain": [
              "<IPython.core.display.HTML object>"
            ],
            "text/html": [
              "Find logs at: <code>./wandb/run-20230502_105514-vtoch3xn/logs</code>"
            ]
          },
          "metadata": {}
        },
        {
          "output_type": "stream",
          "name": "stderr",
          "text": [
            "\u001b[34m\u001b[1mwandb\u001b[0m: Agent Starting Run: mqrwghzl with config:\n",
            "\u001b[34m\u001b[1mwandb\u001b[0m: \taugmentation_multiplier: 0.08879482798642058\n",
            "\u001b[34m\u001b[1mwandb\u001b[0m: \tdropout: 0.3\n",
            "\u001b[34m\u001b[1mwandb\u001b[0m: \tepochs: 50\n",
            "\u001b[34m\u001b[1mwandb\u001b[0m: \tlearning_rate: 0.009535517309069135\n"
          ]
        },
        {
          "output_type": "display_data",
          "data": {
            "text/plain": [
              "<IPython.core.display.HTML object>"
            ],
            "text/html": [
              "Tracking run with wandb version 0.15.0"
            ]
          },
          "metadata": {}
        },
        {
          "output_type": "display_data",
          "data": {
            "text/plain": [
              "<IPython.core.display.HTML object>"
            ],
            "text/html": [
              "Run data is saved locally in <code>/content/wandb/run-20230502_105607-mqrwghzl</code>"
            ]
          },
          "metadata": {}
        },
        {
          "output_type": "display_data",
          "data": {
            "text/plain": [
              "<IPython.core.display.HTML object>"
            ],
            "text/html": [
              "Syncing run <strong><a href='https://wandb.ai/nikofzj/DS_Tutorial_V1/runs/mqrwghzl' target=\"_blank\">smooth-sweep-18</a></strong> to <a href='https://wandb.ai/nikofzj/DS_Tutorial_V1' target=\"_blank\">Weights & Biases</a> (<a href='https://wandb.me/run' target=\"_blank\">docs</a>)<br/>Sweep page: <a href='https://wandb.ai/nikofzj/DS_Tutorial_V1/sweeps/xqa6ct2t' target=\"_blank\">https://wandb.ai/nikofzj/DS_Tutorial_V1/sweeps/xqa6ct2t</a>"
            ]
          },
          "metadata": {}
        },
        {
          "output_type": "display_data",
          "data": {
            "text/plain": [
              "<IPython.core.display.HTML object>"
            ],
            "text/html": [
              " View project at <a href='https://wandb.ai/nikofzj/DS_Tutorial_V1' target=\"_blank\">https://wandb.ai/nikofzj/DS_Tutorial_V1</a>"
            ]
          },
          "metadata": {}
        },
        {
          "output_type": "display_data",
          "data": {
            "text/plain": [
              "<IPython.core.display.HTML object>"
            ],
            "text/html": [
              " View sweep at <a href='https://wandb.ai/nikofzj/DS_Tutorial_V1/sweeps/xqa6ct2t' target=\"_blank\">https://wandb.ai/nikofzj/DS_Tutorial_V1/sweeps/xqa6ct2t</a>"
            ]
          },
          "metadata": {}
        },
        {
          "output_type": "display_data",
          "data": {
            "text/plain": [
              "<IPython.core.display.HTML object>"
            ],
            "text/html": [
              " View run at <a href='https://wandb.ai/nikofzj/DS_Tutorial_V1/runs/mqrwghzl' target=\"_blank\">https://wandb.ai/nikofzj/DS_Tutorial_V1/runs/mqrwghzl</a>"
            ]
          },
          "metadata": {}
        },
        {
          "output_type": "stream",
          "name": "stdout",
          "text": [
            "Model: \"sequential\"\n",
            "_________________________________________________________________\n",
            " Layer (type)                Output Shape              Param #   \n",
            "=================================================================\n",
            " vgg19 (Functional)          (None, 7, 7, 512)         20024384  \n",
            "                                                                 \n",
            " flatten (Flatten)           (None, 25088)             0         \n",
            "                                                                 \n",
            " dropout (Dropout)           (None, 25088)             0         \n",
            "                                                                 \n",
            " dense (Dense)               (None, 1)                 25089     \n",
            "                                                                 \n",
            "=================================================================\n",
            "Total params: 20,049,473\n",
            "Trainable params: 25,089\n",
            "Non-trainable params: 20,024,384\n",
            "_________________________________________________________________\n",
            "Epoch 1/50\n",
            "6/6 [==============================] - 5s 715ms/step - loss: 4.9905 - accuracy: 0.5801 - val_loss: 3.1324 - val_accuracy: 0.7049 - lr: 0.0095\n",
            "Epoch 2/50\n",
            "6/6 [==============================] - 3s 438ms/step - loss: 3.1893 - accuracy: 0.6961 - val_loss: 1.3178 - val_accuracy: 0.8033 - lr: 0.0095\n",
            "Epoch 3/50\n",
            "6/6 [==============================] - 3s 440ms/step - loss: 1.3979 - accuracy: 0.7680 - val_loss: 0.5902 - val_accuracy: 0.8361 - lr: 0.0095\n",
            "Epoch 4/50\n",
            "6/6 [==============================] - 3s 595ms/step - loss: 0.4499 - accuracy: 0.8398 - val_loss: 0.9108 - val_accuracy: 0.7705 - lr: 0.0095\n",
            "Epoch 5/50\n",
            "6/6 [==============================] - 3s 487ms/step - loss: 0.2316 - accuracy: 0.8950 - val_loss: 0.6029 - val_accuracy: 0.8197 - lr: 0.0095\n",
            "Epoch 6/50\n",
            "6/6 [==============================] - 3s 488ms/step - loss: 0.1146 - accuracy: 0.9503 - val_loss: 0.6834 - val_accuracy: 0.8197 - lr: 0.0095\n",
            "1/1 [==============================] - 0s 359ms/step - loss: 18.5568 - accuracy: 0.7049\n",
            "final_val_loss : 18.556791305541992\n",
            "final_val_accuracy : 0.7049180269241333\n"
          ]
        },
        {
          "output_type": "display_data",
          "data": {
            "text/plain": [
              "<IPython.core.display.HTML object>"
            ],
            "text/html": [
              "Waiting for W&B process to finish... <strong style=\"color:green\">(success).</strong>"
            ]
          },
          "metadata": {}
        },
        {
          "output_type": "display_data",
          "data": {
            "text/plain": [
              "VBox(children=(Label(value='0.001 MB of 0.001 MB uploaded (0.000 MB deduped)\\r'), FloatProgress(value=1.0, max…"
            ],
            "application/vnd.jupyter.widget-view+json": {
              "version_major": 2,
              "version_minor": 0,
              "model_id": "0d1df08d4450412e937038f447bbb517"
            }
          },
          "metadata": {}
        },
        {
          "output_type": "display_data",
          "data": {
            "text/plain": [
              "<IPython.core.display.HTML object>"
            ],
            "text/html": [
              "<style>\n",
              "    table.wandb td:nth-child(1) { padding: 0 10px; text-align: left ; width: auto;} td:nth-child(2) {text-align: left ; width: 100%}\n",
              "    .wandb-row { display: flex; flex-direction: row; flex-wrap: wrap; justify-content: flex-start; width: 100% }\n",
              "    .wandb-col { display: flex; flex-direction: column; flex-basis: 100%; flex: 1; padding: 10px; }\n",
              "    </style>\n",
              "<div class=\"wandb-row\"><div class=\"wandb-col\"><h3>Run history:</h3><br/><table class=\"wandb\"><tr><td>epoch/accuracy</td><td>▁▃▅▆▇█</td></tr><tr><td>epoch/epoch</td><td>▁▂▄▅▇█</td></tr><tr><td>epoch/learning_rate</td><td>▁▁▁▁▁▁</td></tr><tr><td>epoch/loss</td><td>█▅▃▁▁▁</td></tr><tr><td>epoch/lr</td><td>▁▁▁▁▁▁</td></tr><tr><td>epoch/val_accuracy</td><td>▁▆█▄▇▇</td></tr><tr><td>epoch/val_loss</td><td>█▃▁▂▁▁</td></tr><tr><td>final_val_accuracy</td><td>▁</td></tr><tr><td>final_val_loss</td><td>▁</td></tr></table><br/></div><div class=\"wandb-col\"><h3>Run summary:</h3><br/><table class=\"wandb\"><tr><td>epoch/accuracy</td><td>0.95028</td></tr><tr><td>epoch/epoch</td><td>5</td></tr><tr><td>epoch/learning_rate</td><td>0.00954</td></tr><tr><td>epoch/loss</td><td>0.11461</td></tr><tr><td>epoch/lr</td><td>0.00954</td></tr><tr><td>epoch/val_accuracy</td><td>0.81967</td></tr><tr><td>epoch/val_loss</td><td>0.68338</td></tr><tr><td>final_val_accuracy</td><td>0.70492</td></tr><tr><td>final_val_loss</td><td>18.55679</td></tr></table><br/></div></div>"
            ]
          },
          "metadata": {}
        },
        {
          "output_type": "display_data",
          "data": {
            "text/plain": [
              "<IPython.core.display.HTML object>"
            ],
            "text/html": [
              " View run <strong style=\"color:#cdcd00\">smooth-sweep-18</strong> at: <a href='https://wandb.ai/nikofzj/DS_Tutorial_V1/runs/mqrwghzl' target=\"_blank\">https://wandb.ai/nikofzj/DS_Tutorial_V1/runs/mqrwghzl</a><br/>Synced 5 W&B file(s), 0 media file(s), 0 artifact file(s) and 0 other file(s)"
            ]
          },
          "metadata": {}
        },
        {
          "output_type": "display_data",
          "data": {
            "text/plain": [
              "<IPython.core.display.HTML object>"
            ],
            "text/html": [
              "Find logs at: <code>./wandb/run-20230502_105607-mqrwghzl/logs</code>"
            ]
          },
          "metadata": {}
        },
        {
          "output_type": "stream",
          "name": "stderr",
          "text": [
            "\u001b[34m\u001b[1mwandb\u001b[0m: Agent Starting Run: 98xh5f4g with config:\n",
            "\u001b[34m\u001b[1mwandb\u001b[0m: \taugmentation_multiplier: 1.3214288466258286\n",
            "\u001b[34m\u001b[1mwandb\u001b[0m: \tdropout: 0.7\n",
            "\u001b[34m\u001b[1mwandb\u001b[0m: \tepochs: 50\n",
            "\u001b[34m\u001b[1mwandb\u001b[0m: \tlearning_rate: 0.002894545760812085\n"
          ]
        },
        {
          "output_type": "display_data",
          "data": {
            "text/plain": [
              "<IPython.core.display.HTML object>"
            ],
            "text/html": [
              "Tracking run with wandb version 0.15.0"
            ]
          },
          "metadata": {}
        },
        {
          "output_type": "display_data",
          "data": {
            "text/plain": [
              "<IPython.core.display.HTML object>"
            ],
            "text/html": [
              "Run data is saved locally in <code>/content/wandb/run-20230502_105647-98xh5f4g</code>"
            ]
          },
          "metadata": {}
        },
        {
          "output_type": "display_data",
          "data": {
            "text/plain": [
              "<IPython.core.display.HTML object>"
            ],
            "text/html": [
              "Syncing run <strong><a href='https://wandb.ai/nikofzj/DS_Tutorial_V1/runs/98xh5f4g' target=\"_blank\">hearty-sweep-19</a></strong> to <a href='https://wandb.ai/nikofzj/DS_Tutorial_V1' target=\"_blank\">Weights & Biases</a> (<a href='https://wandb.me/run' target=\"_blank\">docs</a>)<br/>Sweep page: <a href='https://wandb.ai/nikofzj/DS_Tutorial_V1/sweeps/xqa6ct2t' target=\"_blank\">https://wandb.ai/nikofzj/DS_Tutorial_V1/sweeps/xqa6ct2t</a>"
            ]
          },
          "metadata": {}
        },
        {
          "output_type": "display_data",
          "data": {
            "text/plain": [
              "<IPython.core.display.HTML object>"
            ],
            "text/html": [
              " View project at <a href='https://wandb.ai/nikofzj/DS_Tutorial_V1' target=\"_blank\">https://wandb.ai/nikofzj/DS_Tutorial_V1</a>"
            ]
          },
          "metadata": {}
        },
        {
          "output_type": "display_data",
          "data": {
            "text/plain": [
              "<IPython.core.display.HTML object>"
            ],
            "text/html": [
              " View sweep at <a href='https://wandb.ai/nikofzj/DS_Tutorial_V1/sweeps/xqa6ct2t' target=\"_blank\">https://wandb.ai/nikofzj/DS_Tutorial_V1/sweeps/xqa6ct2t</a>"
            ]
          },
          "metadata": {}
        },
        {
          "output_type": "display_data",
          "data": {
            "text/plain": [
              "<IPython.core.display.HTML object>"
            ],
            "text/html": [
              " View run at <a href='https://wandb.ai/nikofzj/DS_Tutorial_V1/runs/98xh5f4g' target=\"_blank\">https://wandb.ai/nikofzj/DS_Tutorial_V1/runs/98xh5f4g</a>"
            ]
          },
          "metadata": {}
        },
        {
          "output_type": "stream",
          "name": "stdout",
          "text": [
            "Model: \"sequential\"\n",
            "_________________________________________________________________\n",
            " Layer (type)                Output Shape              Param #   \n",
            "=================================================================\n",
            " vgg19 (Functional)          (None, 7, 7, 512)         20024384  \n",
            "                                                                 \n",
            " flatten (Flatten)           (None, 25088)             0         \n",
            "                                                                 \n",
            " dropout (Dropout)           (None, 25088)             0         \n",
            "                                                                 \n",
            " dense (Dense)               (None, 1)                 25089     \n",
            "                                                                 \n",
            "=================================================================\n",
            "Total params: 20,049,473\n",
            "Trainable params: 25,089\n",
            "Non-trainable params: 20,024,384\n",
            "_________________________________________________________________\n",
            "Epoch 1/50\n",
            "6/6 [==============================] - 5s 639ms/step - loss: 1.6511 - accuracy: 0.4862 - val_loss: 0.8901 - val_accuracy: 0.7049 - lr: 0.0029\n",
            "Epoch 2/50\n",
            "6/6 [==============================] - 3s 440ms/step - loss: 0.9734 - accuracy: 0.6685 - val_loss: 1.1334 - val_accuracy: 0.5738 - lr: 0.0029\n",
            "Epoch 3/50\n",
            "6/6 [==============================] - 3s 447ms/step - loss: 1.0383 - accuracy: 0.6685 - val_loss: 0.5153 - val_accuracy: 0.7541 - lr: 0.0029\n",
            "Epoch 4/50\n",
            "6/6 [==============================] - 3s 446ms/step - loss: 0.8227 - accuracy: 0.6685 - val_loss: 0.6466 - val_accuracy: 0.7377 - lr: 0.0029\n",
            "Epoch 5/50\n",
            "6/6 [==============================] - 3s 603ms/step - loss: 0.7123 - accuracy: 0.7127 - val_loss: 0.4704 - val_accuracy: 0.8361 - lr: 0.0029\n",
            "Epoch 6/50\n",
            "6/6 [==============================] - 3s 451ms/step - loss: 0.5797 - accuracy: 0.7348 - val_loss: 0.3567 - val_accuracy: 0.7869 - lr: 0.0029\n",
            "Epoch 7/50\n",
            "6/6 [==============================] - 3s 445ms/step - loss: 0.5446 - accuracy: 0.7624 - val_loss: 0.4576 - val_accuracy: 0.7705 - lr: 0.0029\n",
            "Epoch 8/50\n",
            "6/6 [==============================] - 3s 586ms/step - loss: 0.5359 - accuracy: 0.8011 - val_loss: 0.4673 - val_accuracy: 0.8197 - lr: 0.0029\n",
            "Epoch 9/50\n",
            "6/6 [==============================] - 3s 455ms/step - loss: 0.6686 - accuracy: 0.7293 - val_loss: 0.3181 - val_accuracy: 0.8197 - lr: 0.0029\n",
            "Epoch 10/50\n",
            "6/6 [==============================] - 3s 463ms/step - loss: 0.7127 - accuracy: 0.6906 - val_loss: 0.3690 - val_accuracy: 0.7869 - lr: 0.0029\n",
            "Epoch 11/50\n",
            "6/6 [==============================] - 3s 581ms/step - loss: 0.5535 - accuracy: 0.7624 - val_loss: 0.3007 - val_accuracy: 0.8525 - lr: 0.0014\n",
            "Epoch 12/50\n",
            "6/6 [==============================] - 3s 432ms/step - loss: 0.5303 - accuracy: 0.7459 - val_loss: 0.3553 - val_accuracy: 0.7869 - lr: 0.0014\n",
            "Epoch 13/50\n",
            "6/6 [==============================] - 3s 464ms/step - loss: 0.4087 - accuracy: 0.7956 - val_loss: 0.3036 - val_accuracy: 0.8361 - lr: 0.0014\n",
            "Epoch 14/50\n",
            "6/6 [==============================] - 3s 560ms/step - loss: 0.4531 - accuracy: 0.7901 - val_loss: 0.3104 - val_accuracy: 0.8197 - lr: 0.0014\n",
            "1/1 [==============================] - 0s 349ms/step - loss: 5.6396 - accuracy: 0.8197\n",
            "final_val_loss : 5.639603137969971\n",
            "final_val_accuracy : 0.8196721076965332\n"
          ]
        },
        {
          "output_type": "display_data",
          "data": {
            "text/plain": [
              "<IPython.core.display.HTML object>"
            ],
            "text/html": [
              "Waiting for W&B process to finish... <strong style=\"color:green\">(success).</strong>"
            ]
          },
          "metadata": {}
        },
        {
          "output_type": "display_data",
          "data": {
            "text/plain": [
              "VBox(children=(Label(value='0.001 MB of 0.001 MB uploaded (0.000 MB deduped)\\r'), FloatProgress(value=1.0, max…"
            ],
            "application/vnd.jupyter.widget-view+json": {
              "version_major": 2,
              "version_minor": 0,
              "model_id": "48b302e5d3104efd900b2f5f6212605a"
            }
          },
          "metadata": {}
        },
        {
          "output_type": "display_data",
          "data": {
            "text/plain": [
              "<IPython.core.display.HTML object>"
            ],
            "text/html": [
              "<style>\n",
              "    table.wandb td:nth-child(1) { padding: 0 10px; text-align: left ; width: auto;} td:nth-child(2) {text-align: left ; width: 100%}\n",
              "    .wandb-row { display: flex; flex-direction: row; flex-wrap: wrap; justify-content: flex-start; width: 100% }\n",
              "    .wandb-col { display: flex; flex-direction: column; flex-basis: 100%; flex: 1; padding: 10px; }\n",
              "    </style>\n",
              "<div class=\"wandb-row\"><div class=\"wandb-col\"><h3>Run history:</h3><br/><table class=\"wandb\"><tr><td>epoch/accuracy</td><td>▁▅▅▅▆▇▇█▆▆▇▇██</td></tr><tr><td>epoch/epoch</td><td>▁▂▂▃▃▄▄▅▅▆▆▇▇█</td></tr><tr><td>epoch/learning_rate</td><td>█████████▁▁▁▁▁</td></tr><tr><td>epoch/loss</td><td>█▄▅▃▃▂▂▂▂▃▂▂▁▁</td></tr><tr><td>epoch/lr</td><td>██████████▁▁▁▁</td></tr><tr><td>epoch/val_accuracy</td><td>▄▁▆▅█▆▆▇▇▆█▆█▇</td></tr><tr><td>epoch/val_loss</td><td>▆█▃▄▂▁▂▂▁▂▁▁▁▁</td></tr><tr><td>final_val_accuracy</td><td>▁</td></tr><tr><td>final_val_loss</td><td>▁</td></tr></table><br/></div><div class=\"wandb-col\"><h3>Run summary:</h3><br/><table class=\"wandb\"><tr><td>epoch/accuracy</td><td>0.79006</td></tr><tr><td>epoch/epoch</td><td>13</td></tr><tr><td>epoch/learning_rate</td><td>0.00145</td></tr><tr><td>epoch/loss</td><td>0.45306</td></tr><tr><td>epoch/lr</td><td>0.00145</td></tr><tr><td>epoch/val_accuracy</td><td>0.81967</td></tr><tr><td>epoch/val_loss</td><td>0.3104</td></tr><tr><td>final_val_accuracy</td><td>0.81967</td></tr><tr><td>final_val_loss</td><td>5.6396</td></tr></table><br/></div></div>"
            ]
          },
          "metadata": {}
        },
        {
          "output_type": "display_data",
          "data": {
            "text/plain": [
              "<IPython.core.display.HTML object>"
            ],
            "text/html": [
              " View run <strong style=\"color:#cdcd00\">hearty-sweep-19</strong> at: <a href='https://wandb.ai/nikofzj/DS_Tutorial_V1/runs/98xh5f4g' target=\"_blank\">https://wandb.ai/nikofzj/DS_Tutorial_V1/runs/98xh5f4g</a><br/>Synced 5 W&B file(s), 0 media file(s), 0 artifact file(s) and 0 other file(s)"
            ]
          },
          "metadata": {}
        },
        {
          "output_type": "display_data",
          "data": {
            "text/plain": [
              "<IPython.core.display.HTML object>"
            ],
            "text/html": [
              "Find logs at: <code>./wandb/run-20230502_105647-98xh5f4g/logs</code>"
            ]
          },
          "metadata": {}
        },
        {
          "output_type": "stream",
          "name": "stderr",
          "text": [
            "\u001b[34m\u001b[1mwandb\u001b[0m: Agent Starting Run: uagl6sh5 with config:\n",
            "\u001b[34m\u001b[1mwandb\u001b[0m: \taugmentation_multiplier: 0.3743451752645621\n",
            "\u001b[34m\u001b[1mwandb\u001b[0m: \tdropout: 0.5\n",
            "\u001b[34m\u001b[1mwandb\u001b[0m: \tepochs: 50\n",
            "\u001b[34m\u001b[1mwandb\u001b[0m: \tlearning_rate: 0.008480532635513384\n"
          ]
        },
        {
          "output_type": "display_data",
          "data": {
            "text/plain": [
              "<IPython.core.display.HTML object>"
            ],
            "text/html": [
              "Tracking run with wandb version 0.15.0"
            ]
          },
          "metadata": {}
        },
        {
          "output_type": "display_data",
          "data": {
            "text/plain": [
              "<IPython.core.display.HTML object>"
            ],
            "text/html": [
              "Run data is saved locally in <code>/content/wandb/run-20230502_105800-uagl6sh5</code>"
            ]
          },
          "metadata": {}
        },
        {
          "output_type": "display_data",
          "data": {
            "text/plain": [
              "<IPython.core.display.HTML object>"
            ],
            "text/html": [
              "Syncing run <strong><a href='https://wandb.ai/nikofzj/DS_Tutorial_V1/runs/uagl6sh5' target=\"_blank\">faithful-sweep-20</a></strong> to <a href='https://wandb.ai/nikofzj/DS_Tutorial_V1' target=\"_blank\">Weights & Biases</a> (<a href='https://wandb.me/run' target=\"_blank\">docs</a>)<br/>Sweep page: <a href='https://wandb.ai/nikofzj/DS_Tutorial_V1/sweeps/xqa6ct2t' target=\"_blank\">https://wandb.ai/nikofzj/DS_Tutorial_V1/sweeps/xqa6ct2t</a>"
            ]
          },
          "metadata": {}
        },
        {
          "output_type": "display_data",
          "data": {
            "text/plain": [
              "<IPython.core.display.HTML object>"
            ],
            "text/html": [
              " View project at <a href='https://wandb.ai/nikofzj/DS_Tutorial_V1' target=\"_blank\">https://wandb.ai/nikofzj/DS_Tutorial_V1</a>"
            ]
          },
          "metadata": {}
        },
        {
          "output_type": "display_data",
          "data": {
            "text/plain": [
              "<IPython.core.display.HTML object>"
            ],
            "text/html": [
              " View sweep at <a href='https://wandb.ai/nikofzj/DS_Tutorial_V1/sweeps/xqa6ct2t' target=\"_blank\">https://wandb.ai/nikofzj/DS_Tutorial_V1/sweeps/xqa6ct2t</a>"
            ]
          },
          "metadata": {}
        },
        {
          "output_type": "display_data",
          "data": {
            "text/plain": [
              "<IPython.core.display.HTML object>"
            ],
            "text/html": [
              " View run at <a href='https://wandb.ai/nikofzj/DS_Tutorial_V1/runs/uagl6sh5' target=\"_blank\">https://wandb.ai/nikofzj/DS_Tutorial_V1/runs/uagl6sh5</a>"
            ]
          },
          "metadata": {}
        },
        {
          "output_type": "stream",
          "name": "stdout",
          "text": [
            "Model: \"sequential\"\n",
            "_________________________________________________________________\n",
            " Layer (type)                Output Shape              Param #   \n",
            "=================================================================\n",
            " vgg19 (Functional)          (None, 7, 7, 512)         20024384  \n",
            "                                                                 \n",
            " flatten (Flatten)           (None, 25088)             0         \n",
            "                                                                 \n",
            " dropout (Dropout)           (None, 25088)             0         \n",
            "                                                                 \n",
            " dense (Dense)               (None, 1)                 25089     \n",
            "                                                                 \n",
            "=================================================================\n",
            "Total params: 20,049,473\n",
            "Trainable params: 25,089\n",
            "Non-trainable params: 20,024,384\n",
            "_________________________________________________________________\n",
            "Epoch 1/50\n",
            "6/6 [==============================] - 4s 483ms/step - loss: 7.1560 - accuracy: 0.5635 - val_loss: 3.8592 - val_accuracy: 0.7049 - lr: 0.0085\n",
            "Epoch 2/50\n",
            "6/6 [==============================] - 4s 584ms/step - loss: 4.1971 - accuracy: 0.5359 - val_loss: 2.7553 - val_accuracy: 0.7049 - lr: 0.0085\n",
            "Epoch 3/50\n",
            "6/6 [==============================] - 3s 443ms/step - loss: 2.9744 - accuracy: 0.6961 - val_loss: 2.7236 - val_accuracy: 0.6557 - lr: 0.0085\n",
            "Epoch 4/50\n",
            "6/6 [==============================] - 3s 445ms/step - loss: 1.6854 - accuracy: 0.7293 - val_loss: 1.6571 - val_accuracy: 0.7541 - lr: 0.0085\n",
            "Epoch 5/50\n",
            "6/6 [==============================] - 4s 626ms/step - loss: 0.9670 - accuracy: 0.7459 - val_loss: 0.9995 - val_accuracy: 0.7705 - lr: 0.0085\n",
            "Epoch 6/50\n",
            "6/6 [==============================] - 3s 445ms/step - loss: 0.8547 - accuracy: 0.8122 - val_loss: 0.7406 - val_accuracy: 0.8033 - lr: 0.0085\n",
            "Epoch 7/50\n",
            "6/6 [==============================] - 3s 436ms/step - loss: 0.7762 - accuracy: 0.7956 - val_loss: 1.5627 - val_accuracy: 0.7869 - lr: 0.0085\n",
            "Epoch 8/50\n",
            "6/6 [==============================] - 3s 473ms/step - loss: 0.7862 - accuracy: 0.7956 - val_loss: 1.2641 - val_accuracy: 0.7541 - lr: 0.0085\n",
            "Epoch 9/50\n",
            "6/6 [==============================] - 3s 554ms/step - loss: 0.5097 - accuracy: 0.8674 - val_loss: 0.7403 - val_accuracy: 0.8361 - lr: 0.0085\n",
            "Epoch 10/50\n",
            "6/6 [==============================] - 3s 443ms/step - loss: 0.3287 - accuracy: 0.9116 - val_loss: 0.6194 - val_accuracy: 0.8689 - lr: 0.0085\n",
            "Epoch 11/50\n",
            "6/6 [==============================] - 3s 457ms/step - loss: 0.2464 - accuracy: 0.9116 - val_loss: 0.6003 - val_accuracy: 0.8525 - lr: 0.0085\n",
            "Epoch 12/50\n",
            "6/6 [==============================] - 3s 439ms/step - loss: 0.1939 - accuracy: 0.9503 - val_loss: 0.9446 - val_accuracy: 0.8033 - lr: 0.0085\n",
            "Epoch 13/50\n",
            "6/6 [==============================] - 3s 554ms/step - loss: 0.3822 - accuracy: 0.8785 - val_loss: 0.6336 - val_accuracy: 0.8689 - lr: 0.0085\n",
            "Epoch 14/50\n",
            "6/6 [==============================] - 3s 471ms/step - loss: 0.2255 - accuracy: 0.8950 - val_loss: 0.6196 - val_accuracy: 0.8689 - lr: 0.0085\n",
            "1/1 [==============================] - 0s 346ms/step - loss: 13.4080 - accuracy: 0.8689\n",
            "final_val_loss : 13.408011436462402\n",
            "final_val_accuracy : 0.868852436542511\n"
          ]
        },
        {
          "output_type": "display_data",
          "data": {
            "text/plain": [
              "<IPython.core.display.HTML object>"
            ],
            "text/html": [
              "Waiting for W&B process to finish... <strong style=\"color:green\">(success).</strong>"
            ]
          },
          "metadata": {}
        },
        {
          "output_type": "display_data",
          "data": {
            "text/plain": [
              "VBox(children=(Label(value='0.001 MB of 0.003 MB uploaded (0.000 MB deduped)\\r'), FloatProgress(value=0.428314…"
            ],
            "application/vnd.jupyter.widget-view+json": {
              "version_major": 2,
              "version_minor": 0,
              "model_id": "d88eb8f6ab88442ab6bad10a6206f6e0"
            }
          },
          "metadata": {}
        },
        {
          "output_type": "display_data",
          "data": {
            "text/plain": [
              "<IPython.core.display.HTML object>"
            ],
            "text/html": [
              "<style>\n",
              "    table.wandb td:nth-child(1) { padding: 0 10px; text-align: left ; width: auto;} td:nth-child(2) {text-align: left ; width: 100%}\n",
              "    .wandb-row { display: flex; flex-direction: row; flex-wrap: wrap; justify-content: flex-start; width: 100% }\n",
              "    .wandb-col { display: flex; flex-direction: column; flex-basis: 100%; flex: 1; padding: 10px; }\n",
              "    </style>\n",
              "<div class=\"wandb-row\"><div class=\"wandb-col\"><h3>Run history:</h3><br/><table class=\"wandb\"><tr><td>epoch/accuracy</td><td>▁▁▄▄▅▆▅▅▇▇▇█▇▇</td></tr><tr><td>epoch/epoch</td><td>▁▂▂▃▃▄▄▅▅▆▆▇▇█</td></tr><tr><td>epoch/learning_rate</td><td>▁▁▁▁▁▁▁▁▁▁▁▁▁▁</td></tr><tr><td>epoch/loss</td><td>█▅▄▂▂▂▂▂▁▁▁▁▁▁</td></tr><tr><td>epoch/lr</td><td>▁▁▁▁▁▁▁▁▁▁▁▁▁▁</td></tr><tr><td>epoch/val_accuracy</td><td>▃▃▁▄▅▆▅▄▇█▇▆██</td></tr><tr><td>epoch/val_loss</td><td>█▆▆▃▂▁▃▂▁▁▁▂▁▁</td></tr><tr><td>final_val_accuracy</td><td>▁</td></tr><tr><td>final_val_loss</td><td>▁</td></tr></table><br/></div><div class=\"wandb-col\"><h3>Run summary:</h3><br/><table class=\"wandb\"><tr><td>epoch/accuracy</td><td>0.89503</td></tr><tr><td>epoch/epoch</td><td>13</td></tr><tr><td>epoch/learning_rate</td><td>0.00848</td></tr><tr><td>epoch/loss</td><td>0.22551</td></tr><tr><td>epoch/lr</td><td>0.00848</td></tr><tr><td>epoch/val_accuracy</td><td>0.86885</td></tr><tr><td>epoch/val_loss</td><td>0.61958</td></tr><tr><td>final_val_accuracy</td><td>0.86885</td></tr><tr><td>final_val_loss</td><td>13.40801</td></tr></table><br/></div></div>"
            ]
          },
          "metadata": {}
        },
        {
          "output_type": "display_data",
          "data": {
            "text/plain": [
              "<IPython.core.display.HTML object>"
            ],
            "text/html": [
              " View run <strong style=\"color:#cdcd00\">faithful-sweep-20</strong> at: <a href='https://wandb.ai/nikofzj/DS_Tutorial_V1/runs/uagl6sh5' target=\"_blank\">https://wandb.ai/nikofzj/DS_Tutorial_V1/runs/uagl6sh5</a><br/>Synced 5 W&B file(s), 0 media file(s), 0 artifact file(s) and 0 other file(s)"
            ]
          },
          "metadata": {}
        },
        {
          "output_type": "display_data",
          "data": {
            "text/plain": [
              "<IPython.core.display.HTML object>"
            ],
            "text/html": [
              "Find logs at: <code>./wandb/run-20230502_105800-uagl6sh5/logs</code>"
            ]
          },
          "metadata": {}
        }
      ]
    },
    {
      "cell_type": "code",
      "source": [],
      "metadata": {
        "id": "Jp2jjmyyfItt"
      },
      "execution_count": null,
      "outputs": []
    }
  ]
}